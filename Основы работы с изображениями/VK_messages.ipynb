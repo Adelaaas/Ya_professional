{
  "metadata": {
    "kernelspec": {
      "language": "python",
      "display_name": "Python 3",
      "name": "python3"
    },
    "language_info": {
      "pygments_lexer": "ipython3",
      "nbconvert_exporter": "python",
      "version": "3.6.4",
      "file_extension": ".py",
      "codemirror_mode": {
        "name": "ipython",
        "version": 3
      },
      "name": "python",
      "mimetype": "text/x-python"
    },
    "colab": {
      "provenance": []
    },
    "accelerator": "GPU"
  },
  "nbformat_minor": 0,
  "nbformat": 4,
  "cells": [
    {
      "cell_type": "markdown",
      "source": [
        "Дисклеймер: поскольку это почти оригинальный ноутбук с заключительного этапа Олимпиады (как минимум, за исключением загрузки данных), то он не претендует на красоту и изящество, а также на цельность выполнения"
      ],
      "metadata": {
        "id": "SgHKSAK75lAk"
      }
    },
    {
      "cell_type": "markdown",
      "source": [
        "# Задача 2. Сообщения VK"
      ],
      "metadata": {
        "id": "GX4QP8Bk-N6y"
      }
    },
    {
      "cell_type": "markdown",
      "source": [
        "Это задача классификации анонимизированных сообщений в социальной сети ВКонтакте по заданным классам (темам). Предлагаемый набор данных включает в себя 50 тем. Тексты и изображения в сообщениях представлены в закодированном виде &mdash; в виде векторов (эмбеддингов) размерами 300 и 1024 соответственно."
      ],
      "metadata": {
        "id": "aGJXlBiq3__G"
      }
    },
    {
      "cell_type": "markdown",
      "source": [
        "### Формат ввода"
      ],
      "metadata": {
        "id": "9YzRhjUF4gpe"
      }
    },
    {
      "cell_type": "markdown",
      "source": [
        "Детальное описание данных:\n",
        "\n",
        "Тренировочная выборка train.csv представляет собой csv таблицу с четырьмя столбцами:\n",
        "\n",
        "- \"id\" : уникальный id сообщения;\n",
        "\n",
        "- \"txt\" : вектор текста сообщения;\n",
        "\n",
        "- \"img\" : вектор изображения сообщения\n",
        "\n",
        "- \"topic_id\" : тема сообщения (целевая переменная) &mdash; число от 0 до 49\n",
        "\n",
        "Тестовая выборка test.csv представляет собой csv таблицу с тремя столбцами столбцами: \"id\", \"txt\" и \"img\". Ваша задача &mdash; для каждого сообщения из тестовой выборки предсказать его тему &mdash; число от 0 до 49.\n",
        "\n",
        "Обратите внимание, что для некоторых сообщений отсутствует изображение или текст. В этом случае вектор такого текста/сообщения нулевой.\n",
        "\n",
        "[Скачать данные](https://disk.yandex.ru/d/uKVk2hXJGRSNOg) (275 Мб)"
      ],
      "metadata": {
        "id": "kccB8K3z-Wen"
      }
    },
    {
      "cell_type": "markdown",
      "source": [
        "### Формат вывода"
      ],
      "metadata": {
        "id": "enby5-cM4Yya"
      }
    },
    {
      "cell_type": "markdown",
      "source": [
        "В файле sample_submission.csv показан формат файла ответа, который нужно загружать в систему. В связи с особенностями работы скрипта подсчета метрики качества, необходимо сохранять порядок следования строк в выходном файле submission.csv"
      ],
      "metadata": {
        "id": "59klPM6y4SsQ"
      }
    },
    {
      "cell_type": "markdown",
      "source": [
        "### Примечания"
      ],
      "metadata": {
        "id": "8bS69QCo4cbS"
      }
    },
    {
      "cell_type": "markdown",
      "source": [
        "Метрика оценки качества решения следующая:\n",
        "\n",
        "$$score = 19 \\times \\frac{submissionscore - baselinescore}{maxscore - baselinescore} + 1,$$\n",
        "\n",
        "где:\n",
        "\n",
        "- baselinescore = 0.4,\n",
        "\n",
        "- submissionscore = оценка вашего рещения по метрике accuracy;\n",
        "\n",
        "- maxscore = максимальные очки по всем посылкам всех участников. В течение контеста эта величина равна 1.0, а по окончании контеста вычислится ее реальное значение, и баллы всех посылок будут пересчитаны."
      ],
      "metadata": {
        "id": "sK4JRt2O4cd5"
      }
    },
    {
      "cell_type": "code",
      "source": [
        "import os\n",
        "import requests\n",
        "import numpy as np\n",
        "import pandas as pd\n",
        "import gc # сборщик мусора\n",
        "import math\n",
        "import matplotlib.pyplot as plt\n",
        "import matplotlib.image as img\n",
        "import seaborn as sns\n",
        "%matplotlib inline"
      ],
      "metadata": {
        "execution": {
          "iopub.status.busy": "2021-12-23T07:52:17.325462Z",
          "iopub.execute_input": "2021-12-23T07:52:17.326534Z",
          "iopub.status.idle": "2021-12-23T07:52:18.127798Z",
          "shell.execute_reply.started": "2021-12-23T07:52:17.326423Z",
          "shell.execute_reply": "2021-12-23T07:52:18.127115Z"
        },
        "trusted": true,
        "id": "CGgpKE8EAjHj"
      },
      "execution_count": 1,
      "outputs": []
    },
    {
      "cell_type": "code",
      "source": [
        "url_api = 'https://cloud-api.yandex.net/v1/disk/public/resources/download'\n",
        "public_key = 'https://disk.yandex.ru/d/uKVk2hXJGRSNOg'\n",
        "response = requests.get(url_api, params={'public_key': public_key})\n",
        "url_to_download = response.json()['href']"
      ],
      "metadata": {
        "id": "gvi2wFSZ53UY"
      },
      "execution_count": 2,
      "outputs": []
    },
    {
      "cell_type": "code",
      "source": [
        "download_response = requests.get(url_to_download)\n",
        "with open('./2-vk-messages.zip', 'wb') as f:\n",
        "    f.write(download_response.content)"
      ],
      "metadata": {
        "id": "yEOmf4mN6ATk"
      },
      "execution_count": 3,
      "outputs": []
    },
    {
      "cell_type": "code",
      "source": [
        "!unzip ./2-vk-messages.zip -d ./"
      ],
      "metadata": {
        "colab": {
          "base_uri": "https://localhost:8080/"
        },
        "id": "N7N_2kQO6B5T",
        "outputId": "59693d01-d1a3-4fc9-c60f-cf350ce1c3a1"
      },
      "execution_count": 4,
      "outputs": [
        {
          "output_type": "stream",
          "name": "stdout",
          "text": [
            "Archive:  ./2-vk-messages.zip\n",
            "  inflating: ./2-vk-messages/sample_submission.csv  \n",
            "  inflating: ./2-vk-messages/vk_test.csv  \n",
            "  inflating: ./2-vk-messages/vk_train.csv  \n"
          ]
        }
      ]
    },
    {
      "cell_type": "code",
      "source": [
        "os.chdir('./2-vk-messages')\n",
        "os.getcwd()"
      ],
      "metadata": {
        "colab": {
          "base_uri": "https://localhost:8080/",
          "height": 35
        },
        "id": "xNTW7MX-6KDW",
        "outputId": "c4541e63-fafa-4824-d86b-b1d0de0dbd49"
      },
      "execution_count": 5,
      "outputs": [
        {
          "output_type": "execute_result",
          "data": {
            "text/plain": [
              "'/content/2-vk-messages'"
            ],
            "application/vnd.google.colaboratory.intrinsic+json": {
              "type": "string"
            }
          },
          "metadata": {},
          "execution_count": 5
        }
      ]
    },
    {
      "cell_type": "markdown",
      "source": [
        "# Reading Data"
      ],
      "metadata": {
        "id": "mkUjml-3AjHk"
      }
    },
    {
      "cell_type": "markdown",
      "source": [
        "### Train"
      ],
      "metadata": {
        "id": "lxjO_bRI7MU9"
      }
    },
    {
      "cell_type": "code",
      "source": [
        "train = pd.read_csv(\"vk_train.csv\")\n",
        "train.head()"
      ],
      "metadata": {
        "execution": {
          "iopub.status.busy": "2021-12-23T07:52:19.205081Z",
          "iopub.execute_input": "2021-12-23T07:52:19.205821Z",
          "iopub.status.idle": "2021-12-23T07:52:35.311569Z",
          "shell.execute_reply.started": "2021-12-23T07:52:19.205782Z",
          "shell.execute_reply": "2021-12-23T07:52:35.31086Z"
        },
        "trusted": true,
        "colab": {
          "base_uri": "https://localhost:8080/",
          "height": 206
        },
        "id": "IVp3Q0-tAjHs",
        "outputId": "05516bc3-085f-4c26-8bcb-be34d3b310aa"
      },
      "execution_count": 6,
      "outputs": [
        {
          "output_type": "execute_result",
          "data": {
            "text/plain": [
              "   id                                                txt  \\\n",
              "0   0  0.10971508 0.0061990465 -0.023294065 0.0773873...   \n",
              "1   1  0.029578514 0.041357093 -0.022272278 -0.063698...   \n",
              "2   2  0.1352666 -0.0067131063 0.008000205 0.06661426...   \n",
              "3   3  -0.0105937 0.020617455 -0.023282487 0.05311264...   \n",
              "4   4  0.051762328 0.019998964 0.008127754 0.03517841...   \n",
              "\n",
              "                                                 img  topic_id  \n",
              "0  0.22798721 0.0156203555 0.117552206 0.15211636...        26  \n",
              "1  0.29370075 0.49406192 0.6068035 0.41217968 0.0...         6  \n",
              "2  0.48092997 0.94154936 0.24896349 1.2379668 0.6...        28  \n",
              "3  0.014712747 0.6803736 0.7064364 0.108088344 0....        48  \n",
              "4  0.25555038 0.3410854 0.3353518 0.5239908 0.580...        48  "
            ],
            "text/html": [
              "\n",
              "  <div id=\"df-10d2a9a7-0116-4d98-baa3-a157a87234ab\">\n",
              "    <div class=\"colab-df-container\">\n",
              "      <div>\n",
              "<style scoped>\n",
              "    .dataframe tbody tr th:only-of-type {\n",
              "        vertical-align: middle;\n",
              "    }\n",
              "\n",
              "    .dataframe tbody tr th {\n",
              "        vertical-align: top;\n",
              "    }\n",
              "\n",
              "    .dataframe thead th {\n",
              "        text-align: right;\n",
              "    }\n",
              "</style>\n",
              "<table border=\"1\" class=\"dataframe\">\n",
              "  <thead>\n",
              "    <tr style=\"text-align: right;\">\n",
              "      <th></th>\n",
              "      <th>id</th>\n",
              "      <th>txt</th>\n",
              "      <th>img</th>\n",
              "      <th>topic_id</th>\n",
              "    </tr>\n",
              "  </thead>\n",
              "  <tbody>\n",
              "    <tr>\n",
              "      <th>0</th>\n",
              "      <td>0</td>\n",
              "      <td>0.10971508 0.0061990465 -0.023294065 0.0773873...</td>\n",
              "      <td>0.22798721 0.0156203555 0.117552206 0.15211636...</td>\n",
              "      <td>26</td>\n",
              "    </tr>\n",
              "    <tr>\n",
              "      <th>1</th>\n",
              "      <td>1</td>\n",
              "      <td>0.029578514 0.041357093 -0.022272278 -0.063698...</td>\n",
              "      <td>0.29370075 0.49406192 0.6068035 0.41217968 0.0...</td>\n",
              "      <td>6</td>\n",
              "    </tr>\n",
              "    <tr>\n",
              "      <th>2</th>\n",
              "      <td>2</td>\n",
              "      <td>0.1352666 -0.0067131063 0.008000205 0.06661426...</td>\n",
              "      <td>0.48092997 0.94154936 0.24896349 1.2379668 0.6...</td>\n",
              "      <td>28</td>\n",
              "    </tr>\n",
              "    <tr>\n",
              "      <th>3</th>\n",
              "      <td>3</td>\n",
              "      <td>-0.0105937 0.020617455 -0.023282487 0.05311264...</td>\n",
              "      <td>0.014712747 0.6803736 0.7064364 0.108088344 0....</td>\n",
              "      <td>48</td>\n",
              "    </tr>\n",
              "    <tr>\n",
              "      <th>4</th>\n",
              "      <td>4</td>\n",
              "      <td>0.051762328 0.019998964 0.008127754 0.03517841...</td>\n",
              "      <td>0.25555038 0.3410854 0.3353518 0.5239908 0.580...</td>\n",
              "      <td>48</td>\n",
              "    </tr>\n",
              "  </tbody>\n",
              "</table>\n",
              "</div>\n",
              "      <button class=\"colab-df-convert\" onclick=\"convertToInteractive('df-10d2a9a7-0116-4d98-baa3-a157a87234ab')\"\n",
              "              title=\"Convert this dataframe to an interactive table.\"\n",
              "              style=\"display:none;\">\n",
              "        \n",
              "  <svg xmlns=\"http://www.w3.org/2000/svg\" height=\"24px\"viewBox=\"0 0 24 24\"\n",
              "       width=\"24px\">\n",
              "    <path d=\"M0 0h24v24H0V0z\" fill=\"none\"/>\n",
              "    <path d=\"M18.56 5.44l.94 2.06.94-2.06 2.06-.94-2.06-.94-.94-2.06-.94 2.06-2.06.94zm-11 1L8.5 8.5l.94-2.06 2.06-.94-2.06-.94L8.5 2.5l-.94 2.06-2.06.94zm10 10l.94 2.06.94-2.06 2.06-.94-2.06-.94-.94-2.06-.94 2.06-2.06.94z\"/><path d=\"M17.41 7.96l-1.37-1.37c-.4-.4-.92-.59-1.43-.59-.52 0-1.04.2-1.43.59L10.3 9.45l-7.72 7.72c-.78.78-.78 2.05 0 2.83L4 21.41c.39.39.9.59 1.41.59.51 0 1.02-.2 1.41-.59l7.78-7.78 2.81-2.81c.8-.78.8-2.07 0-2.86zM5.41 20L4 18.59l7.72-7.72 1.47 1.35L5.41 20z\"/>\n",
              "  </svg>\n",
              "      </button>\n",
              "      \n",
              "  <style>\n",
              "    .colab-df-container {\n",
              "      display:flex;\n",
              "      flex-wrap:wrap;\n",
              "      gap: 12px;\n",
              "    }\n",
              "\n",
              "    .colab-df-convert {\n",
              "      background-color: #E8F0FE;\n",
              "      border: none;\n",
              "      border-radius: 50%;\n",
              "      cursor: pointer;\n",
              "      display: none;\n",
              "      fill: #1967D2;\n",
              "      height: 32px;\n",
              "      padding: 0 0 0 0;\n",
              "      width: 32px;\n",
              "    }\n",
              "\n",
              "    .colab-df-convert:hover {\n",
              "      background-color: #E2EBFA;\n",
              "      box-shadow: 0px 1px 2px rgba(60, 64, 67, 0.3), 0px 1px 3px 1px rgba(60, 64, 67, 0.15);\n",
              "      fill: #174EA6;\n",
              "    }\n",
              "\n",
              "    [theme=dark] .colab-df-convert {\n",
              "      background-color: #3B4455;\n",
              "      fill: #D2E3FC;\n",
              "    }\n",
              "\n",
              "    [theme=dark] .colab-df-convert:hover {\n",
              "      background-color: #434B5C;\n",
              "      box-shadow: 0px 1px 3px 1px rgba(0, 0, 0, 0.15);\n",
              "      filter: drop-shadow(0px 1px 2px rgba(0, 0, 0, 0.3));\n",
              "      fill: #FFFFFF;\n",
              "    }\n",
              "  </style>\n",
              "\n",
              "      <script>\n",
              "        const buttonEl =\n",
              "          document.querySelector('#df-10d2a9a7-0116-4d98-baa3-a157a87234ab button.colab-df-convert');\n",
              "        buttonEl.style.display =\n",
              "          google.colab.kernel.accessAllowed ? 'block' : 'none';\n",
              "\n",
              "        async function convertToInteractive(key) {\n",
              "          const element = document.querySelector('#df-10d2a9a7-0116-4d98-baa3-a157a87234ab');\n",
              "          const dataTable =\n",
              "            await google.colab.kernel.invokeFunction('convertToInteractive',\n",
              "                                                     [key], {});\n",
              "          if (!dataTable) return;\n",
              "\n",
              "          const docLinkHtml = 'Like what you see? Visit the ' +\n",
              "            '<a target=\"_blank\" href=https://colab.research.google.com/notebooks/data_table.ipynb>data table notebook</a>'\n",
              "            + ' to learn more about interactive tables.';\n",
              "          element.innerHTML = '';\n",
              "          dataTable['output_type'] = 'display_data';\n",
              "          await google.colab.output.renderOutput(dataTable, element);\n",
              "          const docLink = document.createElement('div');\n",
              "          docLink.innerHTML = docLinkHtml;\n",
              "          element.appendChild(docLink);\n",
              "        }\n",
              "      </script>\n",
              "    </div>\n",
              "  </div>\n",
              "  "
            ]
          },
          "metadata": {},
          "execution_count": 6
        }
      ]
    },
    {
      "cell_type": "code",
      "source": [
        "train = train.drop(['id'], axis=1)\n",
        "train.head()"
      ],
      "metadata": {
        "colab": {
          "base_uri": "https://localhost:8080/",
          "height": 206
        },
        "id": "MJPlQ2XOH5rd",
        "outputId": "7c139543-30cd-44e5-ba83-1f127dbef52b"
      },
      "execution_count": 7,
      "outputs": [
        {
          "output_type": "execute_result",
          "data": {
            "text/plain": [
              "                                                 txt  \\\n",
              "0  0.10971508 0.0061990465 -0.023294065 0.0773873...   \n",
              "1  0.029578514 0.041357093 -0.022272278 -0.063698...   \n",
              "2  0.1352666 -0.0067131063 0.008000205 0.06661426...   \n",
              "3  -0.0105937 0.020617455 -0.023282487 0.05311264...   \n",
              "4  0.051762328 0.019998964 0.008127754 0.03517841...   \n",
              "\n",
              "                                                 img  topic_id  \n",
              "0  0.22798721 0.0156203555 0.117552206 0.15211636...        26  \n",
              "1  0.29370075 0.49406192 0.6068035 0.41217968 0.0...         6  \n",
              "2  0.48092997 0.94154936 0.24896349 1.2379668 0.6...        28  \n",
              "3  0.014712747 0.6803736 0.7064364 0.108088344 0....        48  \n",
              "4  0.25555038 0.3410854 0.3353518 0.5239908 0.580...        48  "
            ],
            "text/html": [
              "\n",
              "  <div id=\"df-67e2ec7f-7b53-4f81-972f-8c89d6fa7656\">\n",
              "    <div class=\"colab-df-container\">\n",
              "      <div>\n",
              "<style scoped>\n",
              "    .dataframe tbody tr th:only-of-type {\n",
              "        vertical-align: middle;\n",
              "    }\n",
              "\n",
              "    .dataframe tbody tr th {\n",
              "        vertical-align: top;\n",
              "    }\n",
              "\n",
              "    .dataframe thead th {\n",
              "        text-align: right;\n",
              "    }\n",
              "</style>\n",
              "<table border=\"1\" class=\"dataframe\">\n",
              "  <thead>\n",
              "    <tr style=\"text-align: right;\">\n",
              "      <th></th>\n",
              "      <th>txt</th>\n",
              "      <th>img</th>\n",
              "      <th>topic_id</th>\n",
              "    </tr>\n",
              "  </thead>\n",
              "  <tbody>\n",
              "    <tr>\n",
              "      <th>0</th>\n",
              "      <td>0.10971508 0.0061990465 -0.023294065 0.0773873...</td>\n",
              "      <td>0.22798721 0.0156203555 0.117552206 0.15211636...</td>\n",
              "      <td>26</td>\n",
              "    </tr>\n",
              "    <tr>\n",
              "      <th>1</th>\n",
              "      <td>0.029578514 0.041357093 -0.022272278 -0.063698...</td>\n",
              "      <td>0.29370075 0.49406192 0.6068035 0.41217968 0.0...</td>\n",
              "      <td>6</td>\n",
              "    </tr>\n",
              "    <tr>\n",
              "      <th>2</th>\n",
              "      <td>0.1352666 -0.0067131063 0.008000205 0.06661426...</td>\n",
              "      <td>0.48092997 0.94154936 0.24896349 1.2379668 0.6...</td>\n",
              "      <td>28</td>\n",
              "    </tr>\n",
              "    <tr>\n",
              "      <th>3</th>\n",
              "      <td>-0.0105937 0.020617455 -0.023282487 0.05311264...</td>\n",
              "      <td>0.014712747 0.6803736 0.7064364 0.108088344 0....</td>\n",
              "      <td>48</td>\n",
              "    </tr>\n",
              "    <tr>\n",
              "      <th>4</th>\n",
              "      <td>0.051762328 0.019998964 0.008127754 0.03517841...</td>\n",
              "      <td>0.25555038 0.3410854 0.3353518 0.5239908 0.580...</td>\n",
              "      <td>48</td>\n",
              "    </tr>\n",
              "  </tbody>\n",
              "</table>\n",
              "</div>\n",
              "      <button class=\"colab-df-convert\" onclick=\"convertToInteractive('df-67e2ec7f-7b53-4f81-972f-8c89d6fa7656')\"\n",
              "              title=\"Convert this dataframe to an interactive table.\"\n",
              "              style=\"display:none;\">\n",
              "        \n",
              "  <svg xmlns=\"http://www.w3.org/2000/svg\" height=\"24px\"viewBox=\"0 0 24 24\"\n",
              "       width=\"24px\">\n",
              "    <path d=\"M0 0h24v24H0V0z\" fill=\"none\"/>\n",
              "    <path d=\"M18.56 5.44l.94 2.06.94-2.06 2.06-.94-2.06-.94-.94-2.06-.94 2.06-2.06.94zm-11 1L8.5 8.5l.94-2.06 2.06-.94-2.06-.94L8.5 2.5l-.94 2.06-2.06.94zm10 10l.94 2.06.94-2.06 2.06-.94-2.06-.94-.94-2.06-.94 2.06-2.06.94z\"/><path d=\"M17.41 7.96l-1.37-1.37c-.4-.4-.92-.59-1.43-.59-.52 0-1.04.2-1.43.59L10.3 9.45l-7.72 7.72c-.78.78-.78 2.05 0 2.83L4 21.41c.39.39.9.59 1.41.59.51 0 1.02-.2 1.41-.59l7.78-7.78 2.81-2.81c.8-.78.8-2.07 0-2.86zM5.41 20L4 18.59l7.72-7.72 1.47 1.35L5.41 20z\"/>\n",
              "  </svg>\n",
              "      </button>\n",
              "      \n",
              "  <style>\n",
              "    .colab-df-container {\n",
              "      display:flex;\n",
              "      flex-wrap:wrap;\n",
              "      gap: 12px;\n",
              "    }\n",
              "\n",
              "    .colab-df-convert {\n",
              "      background-color: #E8F0FE;\n",
              "      border: none;\n",
              "      border-radius: 50%;\n",
              "      cursor: pointer;\n",
              "      display: none;\n",
              "      fill: #1967D2;\n",
              "      height: 32px;\n",
              "      padding: 0 0 0 0;\n",
              "      width: 32px;\n",
              "    }\n",
              "\n",
              "    .colab-df-convert:hover {\n",
              "      background-color: #E2EBFA;\n",
              "      box-shadow: 0px 1px 2px rgba(60, 64, 67, 0.3), 0px 1px 3px 1px rgba(60, 64, 67, 0.15);\n",
              "      fill: #174EA6;\n",
              "    }\n",
              "\n",
              "    [theme=dark] .colab-df-convert {\n",
              "      background-color: #3B4455;\n",
              "      fill: #D2E3FC;\n",
              "    }\n",
              "\n",
              "    [theme=dark] .colab-df-convert:hover {\n",
              "      background-color: #434B5C;\n",
              "      box-shadow: 0px 1px 3px 1px rgba(0, 0, 0, 0.15);\n",
              "      filter: drop-shadow(0px 1px 2px rgba(0, 0, 0, 0.3));\n",
              "      fill: #FFFFFF;\n",
              "    }\n",
              "  </style>\n",
              "\n",
              "      <script>\n",
              "        const buttonEl =\n",
              "          document.querySelector('#df-67e2ec7f-7b53-4f81-972f-8c89d6fa7656 button.colab-df-convert');\n",
              "        buttonEl.style.display =\n",
              "          google.colab.kernel.accessAllowed ? 'block' : 'none';\n",
              "\n",
              "        async function convertToInteractive(key) {\n",
              "          const element = document.querySelector('#df-67e2ec7f-7b53-4f81-972f-8c89d6fa7656');\n",
              "          const dataTable =\n",
              "            await google.colab.kernel.invokeFunction('convertToInteractive',\n",
              "                                                     [key], {});\n",
              "          if (!dataTable) return;\n",
              "\n",
              "          const docLinkHtml = 'Like what you see? Visit the ' +\n",
              "            '<a target=\"_blank\" href=https://colab.research.google.com/notebooks/data_table.ipynb>data table notebook</a>'\n",
              "            + ' to learn more about interactive tables.';\n",
              "          element.innerHTML = '';\n",
              "          dataTable['output_type'] = 'display_data';\n",
              "          await google.colab.output.renderOutput(dataTable, element);\n",
              "          const docLink = document.createElement('div');\n",
              "          docLink.innerHTML = docLinkHtml;\n",
              "          element.appendChild(docLink);\n",
              "        }\n",
              "      </script>\n",
              "    </div>\n",
              "  </div>\n",
              "  "
            ]
          },
          "metadata": {},
          "execution_count": 7
        }
      ]
    },
    {
      "cell_type": "code",
      "source": [
        "train['txt'].to_csv(r'vk_train_txt.csv', index=None)\n",
        "train['img'].to_csv(r'vk_train_img.csv', index=None)"
      ],
      "metadata": {
        "id": "yf1ZXH4GIN4i"
      },
      "execution_count": 8,
      "outputs": []
    },
    {
      "cell_type": "markdown",
      "source": [
        "### Test"
      ],
      "metadata": {
        "id": "Qbg71g-57OYw"
      }
    },
    {
      "cell_type": "code",
      "source": [
        "test = pd.read_csv(\"vk_test.csv\")\n",
        "test.head()"
      ],
      "metadata": {
        "execution": {
          "iopub.status.busy": "2021-12-23T07:52:35.313284Z",
          "iopub.execute_input": "2021-12-23T07:52:35.313529Z",
          "iopub.status.idle": "2021-12-23T07:52:38.787743Z",
          "shell.execute_reply.started": "2021-12-23T07:52:35.313496Z",
          "shell.execute_reply": "2021-12-23T07:52:38.787065Z"
        },
        "trusted": true,
        "colab": {
          "base_uri": "https://localhost:8080/",
          "height": 206
        },
        "id": "w0iaLHTaAjHt",
        "outputId": "2411b9bf-2d0c-4a83-de2a-5554677d3126"
      },
      "execution_count": 9,
      "outputs": [
        {
          "output_type": "execute_result",
          "data": {
            "text/plain": [
              "      id                                                txt  \\\n",
              "0  16000  0.04256578 -0.0021561377 -0.010370443 -0.00041...   \n",
              "1  16001  0.009802822 -0.014528753 0.05718356 0.02774015...   \n",
              "2  16002  0.09662005 0.027566181 0.014350991 0.075628966...   \n",
              "3  16003  0.0 0.0 0.0 0.0 0.0 0.0 0.0 0.0 0.0 0.0 0.0 0....   \n",
              "4  16004  0.031518105 -0.012642406 -0.0037361283 -0.0084...   \n",
              "\n",
              "                                                 img  \n",
              "0  0.023715377 0.032524068 0.045921654 0.01448024...  \n",
              "1  0.10767715 0.13333236 0.037194956 0.35785222 1...  \n",
              "2  0.29120436 2.0880947 0.3744759 0.13094811 0.25...  \n",
              "3  0.20930451 0.9066564 0.0059753037 0.4879898 0....  \n",
              "4  0.09812577 0.6540897 0.20748469 0.6635425 0.23...  "
            ],
            "text/html": [
              "\n",
              "  <div id=\"df-7142b00b-ce22-4dc3-b38f-7476c0346e81\">\n",
              "    <div class=\"colab-df-container\">\n",
              "      <div>\n",
              "<style scoped>\n",
              "    .dataframe tbody tr th:only-of-type {\n",
              "        vertical-align: middle;\n",
              "    }\n",
              "\n",
              "    .dataframe tbody tr th {\n",
              "        vertical-align: top;\n",
              "    }\n",
              "\n",
              "    .dataframe thead th {\n",
              "        text-align: right;\n",
              "    }\n",
              "</style>\n",
              "<table border=\"1\" class=\"dataframe\">\n",
              "  <thead>\n",
              "    <tr style=\"text-align: right;\">\n",
              "      <th></th>\n",
              "      <th>id</th>\n",
              "      <th>txt</th>\n",
              "      <th>img</th>\n",
              "    </tr>\n",
              "  </thead>\n",
              "  <tbody>\n",
              "    <tr>\n",
              "      <th>0</th>\n",
              "      <td>16000</td>\n",
              "      <td>0.04256578 -0.0021561377 -0.010370443 -0.00041...</td>\n",
              "      <td>0.023715377 0.032524068 0.045921654 0.01448024...</td>\n",
              "    </tr>\n",
              "    <tr>\n",
              "      <th>1</th>\n",
              "      <td>16001</td>\n",
              "      <td>0.009802822 -0.014528753 0.05718356 0.02774015...</td>\n",
              "      <td>0.10767715 0.13333236 0.037194956 0.35785222 1...</td>\n",
              "    </tr>\n",
              "    <tr>\n",
              "      <th>2</th>\n",
              "      <td>16002</td>\n",
              "      <td>0.09662005 0.027566181 0.014350991 0.075628966...</td>\n",
              "      <td>0.29120436 2.0880947 0.3744759 0.13094811 0.25...</td>\n",
              "    </tr>\n",
              "    <tr>\n",
              "      <th>3</th>\n",
              "      <td>16003</td>\n",
              "      <td>0.0 0.0 0.0 0.0 0.0 0.0 0.0 0.0 0.0 0.0 0.0 0....</td>\n",
              "      <td>0.20930451 0.9066564 0.0059753037 0.4879898 0....</td>\n",
              "    </tr>\n",
              "    <tr>\n",
              "      <th>4</th>\n",
              "      <td>16004</td>\n",
              "      <td>0.031518105 -0.012642406 -0.0037361283 -0.0084...</td>\n",
              "      <td>0.09812577 0.6540897 0.20748469 0.6635425 0.23...</td>\n",
              "    </tr>\n",
              "  </tbody>\n",
              "</table>\n",
              "</div>\n",
              "      <button class=\"colab-df-convert\" onclick=\"convertToInteractive('df-7142b00b-ce22-4dc3-b38f-7476c0346e81')\"\n",
              "              title=\"Convert this dataframe to an interactive table.\"\n",
              "              style=\"display:none;\">\n",
              "        \n",
              "  <svg xmlns=\"http://www.w3.org/2000/svg\" height=\"24px\"viewBox=\"0 0 24 24\"\n",
              "       width=\"24px\">\n",
              "    <path d=\"M0 0h24v24H0V0z\" fill=\"none\"/>\n",
              "    <path d=\"M18.56 5.44l.94 2.06.94-2.06 2.06-.94-2.06-.94-.94-2.06-.94 2.06-2.06.94zm-11 1L8.5 8.5l.94-2.06 2.06-.94-2.06-.94L8.5 2.5l-.94 2.06-2.06.94zm10 10l.94 2.06.94-2.06 2.06-.94-2.06-.94-.94-2.06-.94 2.06-2.06.94z\"/><path d=\"M17.41 7.96l-1.37-1.37c-.4-.4-.92-.59-1.43-.59-.52 0-1.04.2-1.43.59L10.3 9.45l-7.72 7.72c-.78.78-.78 2.05 0 2.83L4 21.41c.39.39.9.59 1.41.59.51 0 1.02-.2 1.41-.59l7.78-7.78 2.81-2.81c.8-.78.8-2.07 0-2.86zM5.41 20L4 18.59l7.72-7.72 1.47 1.35L5.41 20z\"/>\n",
              "  </svg>\n",
              "      </button>\n",
              "      \n",
              "  <style>\n",
              "    .colab-df-container {\n",
              "      display:flex;\n",
              "      flex-wrap:wrap;\n",
              "      gap: 12px;\n",
              "    }\n",
              "\n",
              "    .colab-df-convert {\n",
              "      background-color: #E8F0FE;\n",
              "      border: none;\n",
              "      border-radius: 50%;\n",
              "      cursor: pointer;\n",
              "      display: none;\n",
              "      fill: #1967D2;\n",
              "      height: 32px;\n",
              "      padding: 0 0 0 0;\n",
              "      width: 32px;\n",
              "    }\n",
              "\n",
              "    .colab-df-convert:hover {\n",
              "      background-color: #E2EBFA;\n",
              "      box-shadow: 0px 1px 2px rgba(60, 64, 67, 0.3), 0px 1px 3px 1px rgba(60, 64, 67, 0.15);\n",
              "      fill: #174EA6;\n",
              "    }\n",
              "\n",
              "    [theme=dark] .colab-df-convert {\n",
              "      background-color: #3B4455;\n",
              "      fill: #D2E3FC;\n",
              "    }\n",
              "\n",
              "    [theme=dark] .colab-df-convert:hover {\n",
              "      background-color: #434B5C;\n",
              "      box-shadow: 0px 1px 3px 1px rgba(0, 0, 0, 0.15);\n",
              "      filter: drop-shadow(0px 1px 2px rgba(0, 0, 0, 0.3));\n",
              "      fill: #FFFFFF;\n",
              "    }\n",
              "  </style>\n",
              "\n",
              "      <script>\n",
              "        const buttonEl =\n",
              "          document.querySelector('#df-7142b00b-ce22-4dc3-b38f-7476c0346e81 button.colab-df-convert');\n",
              "        buttonEl.style.display =\n",
              "          google.colab.kernel.accessAllowed ? 'block' : 'none';\n",
              "\n",
              "        async function convertToInteractive(key) {\n",
              "          const element = document.querySelector('#df-7142b00b-ce22-4dc3-b38f-7476c0346e81');\n",
              "          const dataTable =\n",
              "            await google.colab.kernel.invokeFunction('convertToInteractive',\n",
              "                                                     [key], {});\n",
              "          if (!dataTable) return;\n",
              "\n",
              "          const docLinkHtml = 'Like what you see? Visit the ' +\n",
              "            '<a target=\"_blank\" href=https://colab.research.google.com/notebooks/data_table.ipynb>data table notebook</a>'\n",
              "            + ' to learn more about interactive tables.';\n",
              "          element.innerHTML = '';\n",
              "          dataTable['output_type'] = 'display_data';\n",
              "          await google.colab.output.renderOutput(dataTable, element);\n",
              "          const docLink = document.createElement('div');\n",
              "          docLink.innerHTML = docLinkHtml;\n",
              "          element.appendChild(docLink);\n",
              "        }\n",
              "      </script>\n",
              "    </div>\n",
              "  </div>\n",
              "  "
            ]
          },
          "metadata": {},
          "execution_count": 9
        }
      ]
    },
    {
      "cell_type": "code",
      "source": [
        "test['txt'].to_csv(r'vk_test_txt.csv', index=None)\n",
        "test['img'].to_csv(r'vk_test_img.csv', index=None)"
      ],
      "metadata": {
        "id": "lxJKv6dbNcJy"
      },
      "execution_count": 10,
      "outputs": []
    },
    {
      "cell_type": "markdown",
      "source": [
        "# Transformation Data"
      ],
      "metadata": {
        "id": "LgTwReLZ5E9x"
      }
    },
    {
      "cell_type": "markdown",
      "source": [
        "### Train"
      ],
      "metadata": {
        "id": "R4zbDY8D7R3b"
      }
    },
    {
      "cell_type": "code",
      "source": [
        "import csv\n",
        "with open('vk_train_txt.csv', newline='') as csvfile:\n",
        "  spamreader = csv.reader(csvfile, delimiter=',')\n",
        "  i = 0\n",
        "  \n",
        "  with open('vk_train_txt_new.csv', 'w', newline='') as csvfile1:\n",
        "    spamwriter = csv.writer(csvfile1, delimiter=',')\n",
        "    spamwriter.writerow(['txt' + str(i) for i in range(300)])\n",
        "    for row in spamreader:\n",
        "      if i!=0:\n",
        "        spamwriter.writerow([i for i in list(map(float, row[0].split()))])\n",
        "      else:\n",
        "        i=1"
      ],
      "metadata": {
        "id": "Mk6fNWgxG-2K"
      },
      "execution_count": 11,
      "outputs": []
    },
    {
      "cell_type": "code",
      "source": [
        "import csv\n",
        "with open('vk_train_img.csv', newline='') as csvfile:\n",
        "  spamreader = csv.reader(csvfile, delimiter=',')\n",
        "  i = 0\n",
        "  \n",
        "  with open('vk_train_img_new.csv', 'w', newline='') as csvfile1:\n",
        "    spamwriter = csv.writer(csvfile1, delimiter=',')\n",
        "    spamwriter.writerow(['img' + str(i) for i in range(1024)])\n",
        "    for row in spamreader:\n",
        "      if i!=0:\n",
        "        spamwriter.writerow([i for i in list(map(float, row[0].split()))])\n",
        "      else:\n",
        "        i=1"
      ],
      "metadata": {
        "id": "QJydIPw5MRWk"
      },
      "execution_count": 12,
      "outputs": []
    },
    {
      "cell_type": "markdown",
      "source": [
        "### Test"
      ],
      "metadata": {
        "id": "jR7fpQ8L7WeD"
      }
    },
    {
      "cell_type": "code",
      "source": [
        "import csv\n",
        "with open('vk_test_txt.csv', newline='') as csvfile:\n",
        "  spamreader = csv.reader(csvfile, delimiter=',')\n",
        "  i = 0\n",
        "  \n",
        "  with open('vk_test_txt_new.csv', 'w', newline='') as csvfile1:\n",
        "    spamwriter = csv.writer(csvfile1, delimiter=',')\n",
        "    spamwriter.writerow(['txt' + str(i) for i in range(300)])\n",
        "    for row in spamreader:\n",
        "      if i!=0:\n",
        "        spamwriter.writerow([i for i in list(map(float, row[0].split()))])\n",
        "      else:\n",
        "        i=1"
      ],
      "metadata": {
        "id": "I984pD_MNW3S"
      },
      "execution_count": 13,
      "outputs": []
    },
    {
      "cell_type": "code",
      "source": [
        "import csv\n",
        "with open('vk_test_img.csv', newline='') as csvfile:\n",
        "  spamreader = csv.reader(csvfile, delimiter=',')\n",
        "  i = 0\n",
        "  \n",
        "  with open('vk_test_img_new.csv', 'w', newline='') as csvfile1:\n",
        "    spamwriter = csv.writer(csvfile1, delimiter=',')\n",
        "    spamwriter.writerow(['img' + str(i) for i in range(1024)])\n",
        "    #spamwriter.writerow(['txt', 'txt1'])\n",
        "    for row in spamreader:\n",
        "      if i!=0:\n",
        "        #print(row)\n",
        "        #print(', '.join(list(map(float, row))))\n",
        "        spamwriter.writerow([i for i in list(map(float, row[0].split()))])\n",
        "      else:\n",
        "        i=1"
      ],
      "metadata": {
        "id": "30IRIxd1NWES"
      },
      "execution_count": 14,
      "outputs": []
    },
    {
      "cell_type": "markdown",
      "source": [
        "# Reading new data"
      ],
      "metadata": {
        "id": "2H8sj4H-7YnZ"
      }
    },
    {
      "cell_type": "code",
      "source": [
        "train_txt = pd.read_csv(\"vk_train_txt_new.csv\")\n",
        "train_img = pd.read_csv(\"vk_train_img_new.csv\")"
      ],
      "metadata": {
        "id": "XkefIIZ3IUFk"
      },
      "execution_count": 15,
      "outputs": []
    },
    {
      "cell_type": "code",
      "source": [
        "X = pd.concat([train_txt, train_img], axis=1)\n",
        "X.head()"
      ],
      "metadata": {
        "colab": {
          "base_uri": "https://localhost:8080/",
          "height": 300
        },
        "id": "L0Gp9OOOMr0a",
        "outputId": "68f2eb92-d10a-4936-db34-c49af94920e8"
      },
      "execution_count": 16,
      "outputs": [
        {
          "output_type": "execute_result",
          "data": {
            "text/plain": [
              "       txt0      txt1      txt2      txt3      txt4      txt5      txt6  \\\n",
              "0  0.109715  0.006199 -0.023294  0.077387  0.071365 -0.103661  0.013797   \n",
              "1  0.029579  0.041357 -0.022272 -0.063699  0.150385  0.033826 -0.019963   \n",
              "2  0.135267 -0.006713  0.008000  0.066614  0.083543 -0.000314  0.037447   \n",
              "3 -0.010594  0.020617 -0.023282  0.053113  0.087416 -0.046398 -0.032336   \n",
              "4  0.051762  0.019999  0.008128  0.035178  0.106786 -0.009019 -0.037549   \n",
              "\n",
              "       txt7      txt8      txt9  ...   img1014   img1015   img1016   img1017  \\\n",
              "0  0.020722  0.020890  0.001507  ...  0.023197  0.078137  0.135272  0.055538   \n",
              "1  0.041946 -0.051351 -0.019872  ...  0.153276  1.695928  0.039144  0.208006   \n",
              "2  0.067390 -0.067446 -0.070300  ...  0.254442  0.331281  0.017118  1.122694   \n",
              "3  0.053689 -0.067166 -0.101538  ...  0.721198  0.173140  0.859713  0.080659   \n",
              "4  0.019120 -0.090112 -0.048220  ...  0.004694  0.271862  1.271133  1.215401   \n",
              "\n",
              "    img1018   img1019   img1020   img1021   img1022   img1023  \n",
              "0  3.706026  0.761436  1.169066  0.128768  0.064016  0.033315  \n",
              "1  2.041775  0.052166  0.050494  0.097997  0.771985  0.160381  \n",
              "2  1.129850  0.482373  0.000908  1.294992  0.342763  1.397375  \n",
              "3  1.876263  0.579082  0.473624  0.280743  0.184486  0.302793  \n",
              "4  0.576827  0.315861  0.584772  0.381710  0.915396  0.949022  \n",
              "\n",
              "[5 rows x 1324 columns]"
            ],
            "text/html": [
              "\n",
              "  <div id=\"df-1473ebfe-9a6d-4ba3-a3cc-4e005aaea2f3\">\n",
              "    <div class=\"colab-df-container\">\n",
              "      <div>\n",
              "<style scoped>\n",
              "    .dataframe tbody tr th:only-of-type {\n",
              "        vertical-align: middle;\n",
              "    }\n",
              "\n",
              "    .dataframe tbody tr th {\n",
              "        vertical-align: top;\n",
              "    }\n",
              "\n",
              "    .dataframe thead th {\n",
              "        text-align: right;\n",
              "    }\n",
              "</style>\n",
              "<table border=\"1\" class=\"dataframe\">\n",
              "  <thead>\n",
              "    <tr style=\"text-align: right;\">\n",
              "      <th></th>\n",
              "      <th>txt0</th>\n",
              "      <th>txt1</th>\n",
              "      <th>txt2</th>\n",
              "      <th>txt3</th>\n",
              "      <th>txt4</th>\n",
              "      <th>txt5</th>\n",
              "      <th>txt6</th>\n",
              "      <th>txt7</th>\n",
              "      <th>txt8</th>\n",
              "      <th>txt9</th>\n",
              "      <th>...</th>\n",
              "      <th>img1014</th>\n",
              "      <th>img1015</th>\n",
              "      <th>img1016</th>\n",
              "      <th>img1017</th>\n",
              "      <th>img1018</th>\n",
              "      <th>img1019</th>\n",
              "      <th>img1020</th>\n",
              "      <th>img1021</th>\n",
              "      <th>img1022</th>\n",
              "      <th>img1023</th>\n",
              "    </tr>\n",
              "  </thead>\n",
              "  <tbody>\n",
              "    <tr>\n",
              "      <th>0</th>\n",
              "      <td>0.109715</td>\n",
              "      <td>0.006199</td>\n",
              "      <td>-0.023294</td>\n",
              "      <td>0.077387</td>\n",
              "      <td>0.071365</td>\n",
              "      <td>-0.103661</td>\n",
              "      <td>0.013797</td>\n",
              "      <td>0.020722</td>\n",
              "      <td>0.020890</td>\n",
              "      <td>0.001507</td>\n",
              "      <td>...</td>\n",
              "      <td>0.023197</td>\n",
              "      <td>0.078137</td>\n",
              "      <td>0.135272</td>\n",
              "      <td>0.055538</td>\n",
              "      <td>3.706026</td>\n",
              "      <td>0.761436</td>\n",
              "      <td>1.169066</td>\n",
              "      <td>0.128768</td>\n",
              "      <td>0.064016</td>\n",
              "      <td>0.033315</td>\n",
              "    </tr>\n",
              "    <tr>\n",
              "      <th>1</th>\n",
              "      <td>0.029579</td>\n",
              "      <td>0.041357</td>\n",
              "      <td>-0.022272</td>\n",
              "      <td>-0.063699</td>\n",
              "      <td>0.150385</td>\n",
              "      <td>0.033826</td>\n",
              "      <td>-0.019963</td>\n",
              "      <td>0.041946</td>\n",
              "      <td>-0.051351</td>\n",
              "      <td>-0.019872</td>\n",
              "      <td>...</td>\n",
              "      <td>0.153276</td>\n",
              "      <td>1.695928</td>\n",
              "      <td>0.039144</td>\n",
              "      <td>0.208006</td>\n",
              "      <td>2.041775</td>\n",
              "      <td>0.052166</td>\n",
              "      <td>0.050494</td>\n",
              "      <td>0.097997</td>\n",
              "      <td>0.771985</td>\n",
              "      <td>0.160381</td>\n",
              "    </tr>\n",
              "    <tr>\n",
              "      <th>2</th>\n",
              "      <td>0.135267</td>\n",
              "      <td>-0.006713</td>\n",
              "      <td>0.008000</td>\n",
              "      <td>0.066614</td>\n",
              "      <td>0.083543</td>\n",
              "      <td>-0.000314</td>\n",
              "      <td>0.037447</td>\n",
              "      <td>0.067390</td>\n",
              "      <td>-0.067446</td>\n",
              "      <td>-0.070300</td>\n",
              "      <td>...</td>\n",
              "      <td>0.254442</td>\n",
              "      <td>0.331281</td>\n",
              "      <td>0.017118</td>\n",
              "      <td>1.122694</td>\n",
              "      <td>1.129850</td>\n",
              "      <td>0.482373</td>\n",
              "      <td>0.000908</td>\n",
              "      <td>1.294992</td>\n",
              "      <td>0.342763</td>\n",
              "      <td>1.397375</td>\n",
              "    </tr>\n",
              "    <tr>\n",
              "      <th>3</th>\n",
              "      <td>-0.010594</td>\n",
              "      <td>0.020617</td>\n",
              "      <td>-0.023282</td>\n",
              "      <td>0.053113</td>\n",
              "      <td>0.087416</td>\n",
              "      <td>-0.046398</td>\n",
              "      <td>-0.032336</td>\n",
              "      <td>0.053689</td>\n",
              "      <td>-0.067166</td>\n",
              "      <td>-0.101538</td>\n",
              "      <td>...</td>\n",
              "      <td>0.721198</td>\n",
              "      <td>0.173140</td>\n",
              "      <td>0.859713</td>\n",
              "      <td>0.080659</td>\n",
              "      <td>1.876263</td>\n",
              "      <td>0.579082</td>\n",
              "      <td>0.473624</td>\n",
              "      <td>0.280743</td>\n",
              "      <td>0.184486</td>\n",
              "      <td>0.302793</td>\n",
              "    </tr>\n",
              "    <tr>\n",
              "      <th>4</th>\n",
              "      <td>0.051762</td>\n",
              "      <td>0.019999</td>\n",
              "      <td>0.008128</td>\n",
              "      <td>0.035178</td>\n",
              "      <td>0.106786</td>\n",
              "      <td>-0.009019</td>\n",
              "      <td>-0.037549</td>\n",
              "      <td>0.019120</td>\n",
              "      <td>-0.090112</td>\n",
              "      <td>-0.048220</td>\n",
              "      <td>...</td>\n",
              "      <td>0.004694</td>\n",
              "      <td>0.271862</td>\n",
              "      <td>1.271133</td>\n",
              "      <td>1.215401</td>\n",
              "      <td>0.576827</td>\n",
              "      <td>0.315861</td>\n",
              "      <td>0.584772</td>\n",
              "      <td>0.381710</td>\n",
              "      <td>0.915396</td>\n",
              "      <td>0.949022</td>\n",
              "    </tr>\n",
              "  </tbody>\n",
              "</table>\n",
              "<p>5 rows × 1324 columns</p>\n",
              "</div>\n",
              "      <button class=\"colab-df-convert\" onclick=\"convertToInteractive('df-1473ebfe-9a6d-4ba3-a3cc-4e005aaea2f3')\"\n",
              "              title=\"Convert this dataframe to an interactive table.\"\n",
              "              style=\"display:none;\">\n",
              "        \n",
              "  <svg xmlns=\"http://www.w3.org/2000/svg\" height=\"24px\"viewBox=\"0 0 24 24\"\n",
              "       width=\"24px\">\n",
              "    <path d=\"M0 0h24v24H0V0z\" fill=\"none\"/>\n",
              "    <path d=\"M18.56 5.44l.94 2.06.94-2.06 2.06-.94-2.06-.94-.94-2.06-.94 2.06-2.06.94zm-11 1L8.5 8.5l.94-2.06 2.06-.94-2.06-.94L8.5 2.5l-.94 2.06-2.06.94zm10 10l.94 2.06.94-2.06 2.06-.94-2.06-.94-.94-2.06-.94 2.06-2.06.94z\"/><path d=\"M17.41 7.96l-1.37-1.37c-.4-.4-.92-.59-1.43-.59-.52 0-1.04.2-1.43.59L10.3 9.45l-7.72 7.72c-.78.78-.78 2.05 0 2.83L4 21.41c.39.39.9.59 1.41.59.51 0 1.02-.2 1.41-.59l7.78-7.78 2.81-2.81c.8-.78.8-2.07 0-2.86zM5.41 20L4 18.59l7.72-7.72 1.47 1.35L5.41 20z\"/>\n",
              "  </svg>\n",
              "      </button>\n",
              "      \n",
              "  <style>\n",
              "    .colab-df-container {\n",
              "      display:flex;\n",
              "      flex-wrap:wrap;\n",
              "      gap: 12px;\n",
              "    }\n",
              "\n",
              "    .colab-df-convert {\n",
              "      background-color: #E8F0FE;\n",
              "      border: none;\n",
              "      border-radius: 50%;\n",
              "      cursor: pointer;\n",
              "      display: none;\n",
              "      fill: #1967D2;\n",
              "      height: 32px;\n",
              "      padding: 0 0 0 0;\n",
              "      width: 32px;\n",
              "    }\n",
              "\n",
              "    .colab-df-convert:hover {\n",
              "      background-color: #E2EBFA;\n",
              "      box-shadow: 0px 1px 2px rgba(60, 64, 67, 0.3), 0px 1px 3px 1px rgba(60, 64, 67, 0.15);\n",
              "      fill: #174EA6;\n",
              "    }\n",
              "\n",
              "    [theme=dark] .colab-df-convert {\n",
              "      background-color: #3B4455;\n",
              "      fill: #D2E3FC;\n",
              "    }\n",
              "\n",
              "    [theme=dark] .colab-df-convert:hover {\n",
              "      background-color: #434B5C;\n",
              "      box-shadow: 0px 1px 3px 1px rgba(0, 0, 0, 0.15);\n",
              "      filter: drop-shadow(0px 1px 2px rgba(0, 0, 0, 0.3));\n",
              "      fill: #FFFFFF;\n",
              "    }\n",
              "  </style>\n",
              "\n",
              "      <script>\n",
              "        const buttonEl =\n",
              "          document.querySelector('#df-1473ebfe-9a6d-4ba3-a3cc-4e005aaea2f3 button.colab-df-convert');\n",
              "        buttonEl.style.display =\n",
              "          google.colab.kernel.accessAllowed ? 'block' : 'none';\n",
              "\n",
              "        async function convertToInteractive(key) {\n",
              "          const element = document.querySelector('#df-1473ebfe-9a6d-4ba3-a3cc-4e005aaea2f3');\n",
              "          const dataTable =\n",
              "            await google.colab.kernel.invokeFunction('convertToInteractive',\n",
              "                                                     [key], {});\n",
              "          if (!dataTable) return;\n",
              "\n",
              "          const docLinkHtml = 'Like what you see? Visit the ' +\n",
              "            '<a target=\"_blank\" href=https://colab.research.google.com/notebooks/data_table.ipynb>data table notebook</a>'\n",
              "            + ' to learn more about interactive tables.';\n",
              "          element.innerHTML = '';\n",
              "          dataTable['output_type'] = 'display_data';\n",
              "          await google.colab.output.renderOutput(dataTable, element);\n",
              "          const docLink = document.createElement('div');\n",
              "          docLink.innerHTML = docLinkHtml;\n",
              "          element.appendChild(docLink);\n",
              "        }\n",
              "      </script>\n",
              "    </div>\n",
              "  </div>\n",
              "  "
            ]
          },
          "metadata": {},
          "execution_count": 16
        }
      ]
    },
    {
      "cell_type": "code",
      "source": [
        "X.shape"
      ],
      "metadata": {
        "colab": {
          "base_uri": "https://localhost:8080/"
        },
        "id": "sYj5ADVANI-z",
        "outputId": "18321f86-616e-450d-d5f9-fd6f9f4ea7b8"
      },
      "execution_count": 17,
      "outputs": [
        {
          "output_type": "execute_result",
          "data": {
            "text/plain": [
              "(16000, 1324)"
            ]
          },
          "metadata": {},
          "execution_count": 17
        }
      ]
    },
    {
      "cell_type": "code",
      "source": [
        "y = train['topic_id']"
      ],
      "metadata": {
        "id": "_4iYlARNKkNb"
      },
      "execution_count": 18,
      "outputs": []
    },
    {
      "cell_type": "code",
      "source": [
        "test_txt = pd.read_csv(\"vk_test_txt_new.csv\")\n",
        "test_img = pd.read_csv(\"vk_test_img_new.csv\")"
      ],
      "metadata": {
        "id": "sIuiqJASNxAq"
      },
      "execution_count": 19,
      "outputs": []
    },
    {
      "cell_type": "code",
      "source": [
        "test_n = pd.concat([test_txt, test_img], axis=1)\n",
        "test_n.head()"
      ],
      "metadata": {
        "colab": {
          "base_uri": "https://localhost:8080/",
          "height": 300
        },
        "id": "lvHbEx8kN0rW",
        "outputId": "82b9d283-ad4d-4058-ddf2-2ffc4a41a036"
      },
      "execution_count": 20,
      "outputs": [
        {
          "output_type": "execute_result",
          "data": {
            "text/plain": [
              "       txt0      txt1      txt2      txt3      txt4      txt5      txt6  \\\n",
              "0  0.042566 -0.002156 -0.010370 -0.000418  0.105970 -0.054699  0.060066   \n",
              "1  0.009803 -0.014529  0.057184  0.027740  0.093558  0.049662  0.015115   \n",
              "2  0.096620  0.027566  0.014351  0.075629  0.102081  0.064648 -0.007737   \n",
              "3  0.000000  0.000000  0.000000  0.000000  0.000000  0.000000  0.000000   \n",
              "4  0.031518 -0.012642 -0.003736 -0.008473  0.031408 -0.032983 -0.033520   \n",
              "\n",
              "       txt7      txt8      txt9  ...   img1014   img1015   img1016   img1017  \\\n",
              "0 -0.037288 -0.160018 -0.092890  ...  0.164414  0.152944  0.025623  0.338002   \n",
              "1  0.043358 -0.109056 -0.029175  ...  0.042775  0.394536  0.058756  0.405004   \n",
              "2  0.026077 -0.071799  0.027189  ...  0.018297  0.563718  0.045452  0.546598   \n",
              "3  0.000000  0.000000  0.000000  ...  0.110823  0.062481  0.041697  0.095695   \n",
              "4 -0.019718  0.025152 -0.013452  ...  0.692442  0.908432  0.708570  0.352414   \n",
              "\n",
              "    img1018   img1019   img1020   img1021   img1022   img1023  \n",
              "0  1.160025  0.210946  0.278895  0.884254  0.063972  1.641685  \n",
              "1  3.427980  0.719489  1.350089  0.155992  0.504530  0.050563  \n",
              "2  0.545203  0.637313  1.243791  0.090779  0.352679  0.528879  \n",
              "3  0.237628  0.412328  0.065320  0.262349  0.201556  0.944138  \n",
              "4  1.043778  1.456602  1.575651  0.209127  1.130022  0.659817  \n",
              "\n",
              "[5 rows x 1324 columns]"
            ],
            "text/html": [
              "\n",
              "  <div id=\"df-4455b81a-66a5-406d-95b8-92dd293de8af\">\n",
              "    <div class=\"colab-df-container\">\n",
              "      <div>\n",
              "<style scoped>\n",
              "    .dataframe tbody tr th:only-of-type {\n",
              "        vertical-align: middle;\n",
              "    }\n",
              "\n",
              "    .dataframe tbody tr th {\n",
              "        vertical-align: top;\n",
              "    }\n",
              "\n",
              "    .dataframe thead th {\n",
              "        text-align: right;\n",
              "    }\n",
              "</style>\n",
              "<table border=\"1\" class=\"dataframe\">\n",
              "  <thead>\n",
              "    <tr style=\"text-align: right;\">\n",
              "      <th></th>\n",
              "      <th>txt0</th>\n",
              "      <th>txt1</th>\n",
              "      <th>txt2</th>\n",
              "      <th>txt3</th>\n",
              "      <th>txt4</th>\n",
              "      <th>txt5</th>\n",
              "      <th>txt6</th>\n",
              "      <th>txt7</th>\n",
              "      <th>txt8</th>\n",
              "      <th>txt9</th>\n",
              "      <th>...</th>\n",
              "      <th>img1014</th>\n",
              "      <th>img1015</th>\n",
              "      <th>img1016</th>\n",
              "      <th>img1017</th>\n",
              "      <th>img1018</th>\n",
              "      <th>img1019</th>\n",
              "      <th>img1020</th>\n",
              "      <th>img1021</th>\n",
              "      <th>img1022</th>\n",
              "      <th>img1023</th>\n",
              "    </tr>\n",
              "  </thead>\n",
              "  <tbody>\n",
              "    <tr>\n",
              "      <th>0</th>\n",
              "      <td>0.042566</td>\n",
              "      <td>-0.002156</td>\n",
              "      <td>-0.010370</td>\n",
              "      <td>-0.000418</td>\n",
              "      <td>0.105970</td>\n",
              "      <td>-0.054699</td>\n",
              "      <td>0.060066</td>\n",
              "      <td>-0.037288</td>\n",
              "      <td>-0.160018</td>\n",
              "      <td>-0.092890</td>\n",
              "      <td>...</td>\n",
              "      <td>0.164414</td>\n",
              "      <td>0.152944</td>\n",
              "      <td>0.025623</td>\n",
              "      <td>0.338002</td>\n",
              "      <td>1.160025</td>\n",
              "      <td>0.210946</td>\n",
              "      <td>0.278895</td>\n",
              "      <td>0.884254</td>\n",
              "      <td>0.063972</td>\n",
              "      <td>1.641685</td>\n",
              "    </tr>\n",
              "    <tr>\n",
              "      <th>1</th>\n",
              "      <td>0.009803</td>\n",
              "      <td>-0.014529</td>\n",
              "      <td>0.057184</td>\n",
              "      <td>0.027740</td>\n",
              "      <td>0.093558</td>\n",
              "      <td>0.049662</td>\n",
              "      <td>0.015115</td>\n",
              "      <td>0.043358</td>\n",
              "      <td>-0.109056</td>\n",
              "      <td>-0.029175</td>\n",
              "      <td>...</td>\n",
              "      <td>0.042775</td>\n",
              "      <td>0.394536</td>\n",
              "      <td>0.058756</td>\n",
              "      <td>0.405004</td>\n",
              "      <td>3.427980</td>\n",
              "      <td>0.719489</td>\n",
              "      <td>1.350089</td>\n",
              "      <td>0.155992</td>\n",
              "      <td>0.504530</td>\n",
              "      <td>0.050563</td>\n",
              "    </tr>\n",
              "    <tr>\n",
              "      <th>2</th>\n",
              "      <td>0.096620</td>\n",
              "      <td>0.027566</td>\n",
              "      <td>0.014351</td>\n",
              "      <td>0.075629</td>\n",
              "      <td>0.102081</td>\n",
              "      <td>0.064648</td>\n",
              "      <td>-0.007737</td>\n",
              "      <td>0.026077</td>\n",
              "      <td>-0.071799</td>\n",
              "      <td>0.027189</td>\n",
              "      <td>...</td>\n",
              "      <td>0.018297</td>\n",
              "      <td>0.563718</td>\n",
              "      <td>0.045452</td>\n",
              "      <td>0.546598</td>\n",
              "      <td>0.545203</td>\n",
              "      <td>0.637313</td>\n",
              "      <td>1.243791</td>\n",
              "      <td>0.090779</td>\n",
              "      <td>0.352679</td>\n",
              "      <td>0.528879</td>\n",
              "    </tr>\n",
              "    <tr>\n",
              "      <th>3</th>\n",
              "      <td>0.000000</td>\n",
              "      <td>0.000000</td>\n",
              "      <td>0.000000</td>\n",
              "      <td>0.000000</td>\n",
              "      <td>0.000000</td>\n",
              "      <td>0.000000</td>\n",
              "      <td>0.000000</td>\n",
              "      <td>0.000000</td>\n",
              "      <td>0.000000</td>\n",
              "      <td>0.000000</td>\n",
              "      <td>...</td>\n",
              "      <td>0.110823</td>\n",
              "      <td>0.062481</td>\n",
              "      <td>0.041697</td>\n",
              "      <td>0.095695</td>\n",
              "      <td>0.237628</td>\n",
              "      <td>0.412328</td>\n",
              "      <td>0.065320</td>\n",
              "      <td>0.262349</td>\n",
              "      <td>0.201556</td>\n",
              "      <td>0.944138</td>\n",
              "    </tr>\n",
              "    <tr>\n",
              "      <th>4</th>\n",
              "      <td>0.031518</td>\n",
              "      <td>-0.012642</td>\n",
              "      <td>-0.003736</td>\n",
              "      <td>-0.008473</td>\n",
              "      <td>0.031408</td>\n",
              "      <td>-0.032983</td>\n",
              "      <td>-0.033520</td>\n",
              "      <td>-0.019718</td>\n",
              "      <td>0.025152</td>\n",
              "      <td>-0.013452</td>\n",
              "      <td>...</td>\n",
              "      <td>0.692442</td>\n",
              "      <td>0.908432</td>\n",
              "      <td>0.708570</td>\n",
              "      <td>0.352414</td>\n",
              "      <td>1.043778</td>\n",
              "      <td>1.456602</td>\n",
              "      <td>1.575651</td>\n",
              "      <td>0.209127</td>\n",
              "      <td>1.130022</td>\n",
              "      <td>0.659817</td>\n",
              "    </tr>\n",
              "  </tbody>\n",
              "</table>\n",
              "<p>5 rows × 1324 columns</p>\n",
              "</div>\n",
              "      <button class=\"colab-df-convert\" onclick=\"convertToInteractive('df-4455b81a-66a5-406d-95b8-92dd293de8af')\"\n",
              "              title=\"Convert this dataframe to an interactive table.\"\n",
              "              style=\"display:none;\">\n",
              "        \n",
              "  <svg xmlns=\"http://www.w3.org/2000/svg\" height=\"24px\"viewBox=\"0 0 24 24\"\n",
              "       width=\"24px\">\n",
              "    <path d=\"M0 0h24v24H0V0z\" fill=\"none\"/>\n",
              "    <path d=\"M18.56 5.44l.94 2.06.94-2.06 2.06-.94-2.06-.94-.94-2.06-.94 2.06-2.06.94zm-11 1L8.5 8.5l.94-2.06 2.06-.94-2.06-.94L8.5 2.5l-.94 2.06-2.06.94zm10 10l.94 2.06.94-2.06 2.06-.94-2.06-.94-.94-2.06-.94 2.06-2.06.94z\"/><path d=\"M17.41 7.96l-1.37-1.37c-.4-.4-.92-.59-1.43-.59-.52 0-1.04.2-1.43.59L10.3 9.45l-7.72 7.72c-.78.78-.78 2.05 0 2.83L4 21.41c.39.39.9.59 1.41.59.51 0 1.02-.2 1.41-.59l7.78-7.78 2.81-2.81c.8-.78.8-2.07 0-2.86zM5.41 20L4 18.59l7.72-7.72 1.47 1.35L5.41 20z\"/>\n",
              "  </svg>\n",
              "      </button>\n",
              "      \n",
              "  <style>\n",
              "    .colab-df-container {\n",
              "      display:flex;\n",
              "      flex-wrap:wrap;\n",
              "      gap: 12px;\n",
              "    }\n",
              "\n",
              "    .colab-df-convert {\n",
              "      background-color: #E8F0FE;\n",
              "      border: none;\n",
              "      border-radius: 50%;\n",
              "      cursor: pointer;\n",
              "      display: none;\n",
              "      fill: #1967D2;\n",
              "      height: 32px;\n",
              "      padding: 0 0 0 0;\n",
              "      width: 32px;\n",
              "    }\n",
              "\n",
              "    .colab-df-convert:hover {\n",
              "      background-color: #E2EBFA;\n",
              "      box-shadow: 0px 1px 2px rgba(60, 64, 67, 0.3), 0px 1px 3px 1px rgba(60, 64, 67, 0.15);\n",
              "      fill: #174EA6;\n",
              "    }\n",
              "\n",
              "    [theme=dark] .colab-df-convert {\n",
              "      background-color: #3B4455;\n",
              "      fill: #D2E3FC;\n",
              "    }\n",
              "\n",
              "    [theme=dark] .colab-df-convert:hover {\n",
              "      background-color: #434B5C;\n",
              "      box-shadow: 0px 1px 3px 1px rgba(0, 0, 0, 0.15);\n",
              "      filter: drop-shadow(0px 1px 2px rgba(0, 0, 0, 0.3));\n",
              "      fill: #FFFFFF;\n",
              "    }\n",
              "  </style>\n",
              "\n",
              "      <script>\n",
              "        const buttonEl =\n",
              "          document.querySelector('#df-4455b81a-66a5-406d-95b8-92dd293de8af button.colab-df-convert');\n",
              "        buttonEl.style.display =\n",
              "          google.colab.kernel.accessAllowed ? 'block' : 'none';\n",
              "\n",
              "        async function convertToInteractive(key) {\n",
              "          const element = document.querySelector('#df-4455b81a-66a5-406d-95b8-92dd293de8af');\n",
              "          const dataTable =\n",
              "            await google.colab.kernel.invokeFunction('convertToInteractive',\n",
              "                                                     [key], {});\n",
              "          if (!dataTable) return;\n",
              "\n",
              "          const docLinkHtml = 'Like what you see? Visit the ' +\n",
              "            '<a target=\"_blank\" href=https://colab.research.google.com/notebooks/data_table.ipynb>data table notebook</a>'\n",
              "            + ' to learn more about interactive tables.';\n",
              "          element.innerHTML = '';\n",
              "          dataTable['output_type'] = 'display_data';\n",
              "          await google.colab.output.renderOutput(dataTable, element);\n",
              "          const docLink = document.createElement('div');\n",
              "          docLink.innerHTML = docLinkHtml;\n",
              "          element.appendChild(docLink);\n",
              "        }\n",
              "      </script>\n",
              "    </div>\n",
              "  </div>\n",
              "  "
            ]
          },
          "metadata": {},
          "execution_count": 20
        }
      ]
    },
    {
      "cell_type": "code",
      "source": [
        "test_n.shape"
      ],
      "metadata": {
        "colab": {
          "base_uri": "https://localhost:8080/"
        },
        "id": "Kz4h-WxMN-PK",
        "outputId": "6c484a37-2cfa-4094-b413-a00022a0570f"
      },
      "execution_count": 21,
      "outputs": [
        {
          "output_type": "execute_result",
          "data": {
            "text/plain": [
              "(4000, 1324)"
            ]
          },
          "metadata": {},
          "execution_count": 21
        }
      ]
    },
    {
      "cell_type": "code",
      "source": [
        "# for i in range(1024):\n",
        "#   name = 'img' + str(i)\n",
        "#   train[name] = train['img']"
      ],
      "metadata": {
        "id": "PfFGcsIvDrHK"
      },
      "execution_count": 22,
      "outputs": []
    },
    {
      "cell_type": "markdown",
      "source": [
        "# Removing trash"
      ],
      "metadata": {
        "id": "v2teqT7UAjHu"
      }
    },
    {
      "cell_type": "code",
      "source": [
        "def reduce_mem_usage(df):\n",
        "    \"\"\" iterate through all the columns of a dataframe and modify the data type\n",
        "        to reduce memory usage.        \n",
        "    \"\"\"\n",
        "    start_mem = df.memory_usage().sum() / 1024**2\n",
        "    print('Memory usage of dataframe is {:.2f} MB'.format(start_mem))\n",
        "    \n",
        "    for col in df.columns:\n",
        "        col_type = df[col].dtype\n",
        "        \n",
        "        if col_type != object:\n",
        "            c_min = df[col].min()\n",
        "            c_max = df[col].max()\n",
        "            if str(col_type)[:3] == 'int':\n",
        "                if c_min > np.iinfo(np.int8).min and c_max < np.iinfo(np.int8).max:\n",
        "                    df[col] = df[col].astype(np.int8)\n",
        "                elif c_min > np.iinfo(np.int16).min and c_max < np.iinfo(np.int16).max:\n",
        "                    df[col] = df[col].astype(np.int16)\n",
        "                elif c_min > np.iinfo(np.int32).min and c_max < np.iinfo(np.int32).max:\n",
        "                    df[col] = df[col].astype(np.int32)\n",
        "                elif c_min > np.iinfo(np.int64).min and c_max < np.iinfo(np.int64).max:\n",
        "                    df[col] = df[col].astype(np.int64)  \n",
        "            else:\n",
        "#                 if c_min > np.finfo(np.float16).min and c_max < np.finfo(np.float16).max:\n",
        "#                     df[col] = df[col].astype(np.float16)\n",
        "#                 elif\n",
        "\n",
        "                if c_min > np.finfo(np.float32).min and c_max < np.finfo(np.float32).max:\n",
        "                    df[col] = df[col].astype(np.float32)\n",
        "                else:\n",
        "                    df[col] = df[col].astype(np.float64)\n",
        "        else:\n",
        "            df[col] = df[col].astype('category')\n",
        "\n",
        "    end_mem = df.memory_usage().sum() / 1024**2\n",
        "    print('Memory usage after optimization is: {:.2f} MB'.format(end_mem))\n",
        "    print('Decreased by {:.1f}%'.format(100 * (start_mem - end_mem) / start_mem))\n",
        "    \n",
        "    return df"
      ],
      "metadata": {
        "execution": {
          "iopub.status.busy": "2021-12-23T07:52:38.789133Z",
          "iopub.execute_input": "2021-12-23T07:52:38.789512Z",
          "iopub.status.idle": "2021-12-23T07:52:38.80232Z",
          "shell.execute_reply.started": "2021-12-23T07:52:38.789475Z",
          "shell.execute_reply": "2021-12-23T07:52:38.801486Z"
        },
        "trusted": true,
        "id": "_nWOrv0rAjHv"
      },
      "execution_count": 22,
      "outputs": []
    },
    {
      "cell_type": "code",
      "source": [
        "# train = reduce_mem_usage(train)"
      ],
      "metadata": {
        "execution": {
          "iopub.status.busy": "2021-12-23T07:52:38.804182Z",
          "iopub.execute_input": "2021-12-23T07:52:38.804479Z",
          "iopub.status.idle": "2021-12-23T07:52:57.090024Z",
          "shell.execute_reply.started": "2021-12-23T07:52:38.804442Z",
          "shell.execute_reply": "2021-12-23T07:52:57.089274Z"
        },
        "trusted": true,
        "id": "CGQPWk2FAjHy",
        "colab": {
          "base_uri": "https://localhost:8080/"
        },
        "outputId": "da26e2e6-da4a-4e24-ef0b-0bb9cd414ebc"
      },
      "execution_count": 27,
      "outputs": [
        {
          "output_type": "stream",
          "name": "stdout",
          "text": [
            "Memory usage of dataframe is 0.37 MB\n",
            "Memory usage after optimization is: 1.30 MB\n",
            "Decreased by -254.9%\n"
          ]
        }
      ]
    },
    {
      "cell_type": "code",
      "source": [
        "# test = reduce_mem_usage(test)"
      ],
      "metadata": {
        "execution": {
          "iopub.status.busy": "2021-12-23T07:52:57.091438Z",
          "iopub.execute_input": "2021-12-23T07:52:57.091993Z",
          "iopub.status.idle": "2021-12-23T07:52:59.847068Z",
          "shell.execute_reply.started": "2021-12-23T07:52:57.091954Z",
          "shell.execute_reply": "2021-12-23T07:52:59.845576Z"
        },
        "trusted": true,
        "id": "PV2sC6lkAjHz",
        "colab": {
          "base_uri": "https://localhost:8080/"
        },
        "outputId": "c524f417-f516-439b-986f-d148114e6feb"
      },
      "execution_count": 28,
      "outputs": [
        {
          "output_type": "stream",
          "name": "stdout",
          "text": [
            "Memory usage of dataframe is 0.09 MB\n",
            "Memory usage after optimization is: 0.33 MB\n",
            "Decreased by -260.2%\n"
          ]
        }
      ]
    },
    {
      "cell_type": "markdown",
      "source": [
        "### Data dimension"
      ],
      "metadata": {
        "id": "Qj05tWTAAjH1"
      }
    },
    {
      "cell_type": "code",
      "source": [
        "train.shape"
      ],
      "metadata": {
        "execution": {
          "iopub.status.busy": "2021-12-21T15:20:29.427122Z",
          "iopub.execute_input": "2021-12-21T15:20:29.427577Z",
          "iopub.status.idle": "2021-12-21T15:20:29.433703Z",
          "shell.execute_reply.started": "2021-12-21T15:20:29.427537Z",
          "shell.execute_reply": "2021-12-21T15:20:29.432872Z"
        },
        "trusted": true,
        "colab": {
          "base_uri": "https://localhost:8080/"
        },
        "id": "PLk4tt-JAjH2",
        "outputId": "553b8580-2716-4411-f9df-ca320d515300"
      },
      "execution_count": 23,
      "outputs": [
        {
          "output_type": "execute_result",
          "data": {
            "text/plain": [
              "(16000, 3)"
            ]
          },
          "metadata": {},
          "execution_count": 23
        }
      ]
    },
    {
      "cell_type": "code",
      "source": [
        "test.shape"
      ],
      "metadata": {
        "execution": {
          "iopub.status.busy": "2021-12-21T15:20:30.432621Z",
          "iopub.execute_input": "2021-12-21T15:20:30.433157Z",
          "iopub.status.idle": "2021-12-21T15:20:30.438071Z",
          "shell.execute_reply.started": "2021-12-21T15:20:30.433116Z",
          "shell.execute_reply": "2021-12-21T15:20:30.437358Z"
        },
        "trusted": true,
        "colab": {
          "base_uri": "https://localhost:8080/"
        },
        "id": "pYU2Thb8AjH2",
        "outputId": "26139d4a-762f-43a7-db35-c1b6efefb4a2"
      },
      "execution_count": 24,
      "outputs": [
        {
          "output_type": "execute_result",
          "data": {
            "text/plain": [
              "(4000, 3)"
            ]
          },
          "metadata": {},
          "execution_count": 24
        }
      ]
    },
    {
      "cell_type": "markdown",
      "source": [
        "### Data gaps"
      ],
      "metadata": {
        "id": "laQRPdHAAjH5"
      }
    },
    {
      "cell_type": "code",
      "source": [
        "train.isna().sum().sum()"
      ],
      "metadata": {
        "execution": {
          "iopub.status.busy": "2021-12-21T15:21:37.468512Z",
          "iopub.execute_input": "2021-12-21T15:21:37.468773Z",
          "iopub.status.idle": "2021-12-21T15:21:37.725597Z",
          "shell.execute_reply.started": "2021-12-21T15:21:37.468745Z",
          "shell.execute_reply": "2021-12-21T15:21:37.724847Z"
        },
        "trusted": true,
        "colab": {
          "base_uri": "https://localhost:8080/"
        },
        "id": "8cLtY1_9AjH6",
        "outputId": "fc7f5609-c74b-41f7-8e11-c098bceaa2f4"
      },
      "execution_count": 25,
      "outputs": [
        {
          "output_type": "execute_result",
          "data": {
            "text/plain": [
              "0"
            ]
          },
          "metadata": {},
          "execution_count": 25
        }
      ]
    },
    {
      "cell_type": "code",
      "source": [
        "test.isna().sum().sum()"
      ],
      "metadata": {
        "execution": {
          "iopub.status.busy": "2021-12-21T15:21:38.613374Z",
          "iopub.execute_input": "2021-12-21T15:21:38.615304Z",
          "iopub.status.idle": "2021-12-21T15:21:38.688911Z",
          "shell.execute_reply.started": "2021-12-21T15:21:38.615248Z",
          "shell.execute_reply": "2021-12-21T15:21:38.688084Z"
        },
        "trusted": true,
        "colab": {
          "base_uri": "https://localhost:8080/"
        },
        "id": "umWVRNt0AjH7",
        "outputId": "16f7fee6-cd52-4366-cca8-429af4eed713"
      },
      "execution_count": 26,
      "outputs": [
        {
          "output_type": "execute_result",
          "data": {
            "text/plain": [
              "0"
            ]
          },
          "metadata": {},
          "execution_count": 26
        }
      ]
    },
    {
      "cell_type": "markdown",
      "source": [
        "### Balancing classes"
      ],
      "metadata": {
        "id": "9F2mztkrAjH7"
      }
    },
    {
      "cell_type": "code",
      "source": [
        "train['topic_id'].value_counts()"
      ],
      "metadata": {
        "execution": {
          "iopub.status.busy": "2021-12-21T17:13:21.70225Z",
          "iopub.execute_input": "2021-12-21T17:13:21.702953Z",
          "iopub.status.idle": "2021-12-21T17:13:21.729688Z",
          "shell.execute_reply.started": "2021-12-21T17:13:21.702911Z",
          "shell.execute_reply": "2021-12-21T17:13:21.728806Z"
        },
        "trusted": true,
        "colab": {
          "base_uri": "https://localhost:8080/"
        },
        "id": "ob9Zd2ocAjH8",
        "outputId": "bb31b3db-e6f9-45d1-e2b9-fda655999c31"
      },
      "execution_count": 27,
      "outputs": [
        {
          "output_type": "execute_result",
          "data": {
            "text/plain": [
              "48    904\n",
              "32    796\n",
              "28    770\n",
              "16    708\n",
              "3     692\n",
              "0     644\n",
              "1     558\n",
              "26    514\n",
              "10    486\n",
              "23    479\n",
              "12    457\n",
              "24    440\n",
              "11    420\n",
              "31    406\n",
              "20    402\n",
              "13    402\n",
              "6     376\n",
              "27    370\n",
              "43    365\n",
              "25    360\n",
              "9     354\n",
              "14    340\n",
              "18    315\n",
              "29    291\n",
              "45    282\n",
              "17    276\n",
              "19    268\n",
              "30    262\n",
              "5     254\n",
              "34    233\n",
              "41    224\n",
              "21    223\n",
              "22    221\n",
              "8     212\n",
              "7     210\n",
              "15    186\n",
              "33    169\n",
              "49    140\n",
              "36    140\n",
              "35    126\n",
              "4     117\n",
              "2      99\n",
              "37     97\n",
              "44     87\n",
              "46     83\n",
              "39     76\n",
              "38     67\n",
              "40     45\n",
              "47     44\n",
              "42     10\n",
              "Name: topic_id, dtype: int64"
            ]
          },
          "metadata": {},
          "execution_count": 27
        }
      ]
    },
    {
      "cell_type": "markdown",
      "source": [
        "### Removing the most unrepresentative class"
      ],
      "metadata": {
        "id": "SY0obq1NAjH8"
      }
    },
    {
      "cell_type": "code",
      "source": [
        "# train.loc[train['Cover_Type'] == 5, 'Cover_Type']"
      ],
      "metadata": {
        "execution": {
          "iopub.status.busy": "2021-12-23T07:57:25.165815Z",
          "iopub.execute_input": "2021-12-23T07:57:25.166293Z",
          "iopub.status.idle": "2021-12-23T07:57:25.182082Z",
          "shell.execute_reply.started": "2021-12-23T07:57:25.166255Z",
          "shell.execute_reply": "2021-12-23T07:57:25.181459Z"
        },
        "trusted": true,
        "id": "Td3jw_K0AjH9"
      },
      "execution_count": null,
      "outputs": []
    },
    {
      "cell_type": "code",
      "source": [
        "# train.drop(labels = [3403875], axis = 0, inplace = True)"
      ],
      "metadata": {
        "execution": {
          "iopub.status.busy": "2021-12-23T07:57:26.52768Z",
          "iopub.execute_input": "2021-12-23T07:57:26.528016Z",
          "iopub.status.idle": "2021-12-23T07:57:27.145499Z",
          "shell.execute_reply.started": "2021-12-23T07:57:26.527981Z",
          "shell.execute_reply": "2021-12-23T07:57:27.14474Z"
        },
        "trusted": true,
        "id": "MF202RexAjH9"
      },
      "execution_count": null,
      "outputs": []
    },
    {
      "cell_type": "markdown",
      "source": [
        "### Data types"
      ],
      "metadata": {
        "id": "feQXiDJWAjH-"
      }
    },
    {
      "cell_type": "code",
      "source": [
        "# for i in X.dtypes[1320:]:\n",
        "      # print(i)"
      ],
      "metadata": {
        "execution": {
          "iopub.status.busy": "2021-12-21T15:22:01.632536Z",
          "iopub.execute_input": "2021-12-21T15:22:01.633148Z",
          "iopub.status.idle": "2021-12-21T15:22:01.649453Z",
          "shell.execute_reply.started": "2021-12-21T15:22:01.63308Z",
          "shell.execute_reply": "2021-12-21T15:22:01.64865Z"
        },
        "trusted": true,
        "id": "G8f7NnvMAjH-"
      },
      "execution_count": null,
      "outputs": []
    },
    {
      "cell_type": "markdown",
      "source": [
        "### Correlations"
      ],
      "metadata": {
        "id": "5UvH5QzHAjH_"
      }
    },
    {
      "cell_type": "code",
      "source": [
        "plt.figure(figsize = (15,10))\n",
        "\n",
        "sns.set(font_scale=1.4)\n",
        "\n",
        "corr_matrix = train.corr()\n",
        "#print(X.corr())\n",
        "corr_matrix = np.round(corr_matrix, 2)\n",
        "corr_matrix[np.abs(corr_matrix) < 0.1] = 0  # Проверьте, что будет если убрать маленькие корреляции\n",
        "\n",
        "sns.heatmap(corr_matrix, annot=True, linewidths=.5, cmap='coolwarm')\n",
        "\n",
        "plt.title('Correlation matrix')\n",
        "plt.show()"
      ],
      "metadata": {
        "execution": {
          "iopub.status.busy": "2021-12-23T09:27:48.327388Z",
          "iopub.execute_input": "2021-12-23T09:27:48.327643Z"
        },
        "trusted": true,
        "id": "BorU7FoGAjIA"
      },
      "execution_count": null,
      "outputs": []
    },
    {
      "cell_type": "code",
      "source": [
        "corr_with_target = train.corr().iloc[:-1, -1].sort_values(ascending=False)\n",
        "\n",
        "plt.figure(figsize=(10, 8))\n",
        "\n",
        "sns.barplot(x=corr_with_target.values, y=corr_with_target.index)\n",
        "\n",
        "plt.title('Correlation with target variable')\n",
        "plt.show()"
      ],
      "metadata": {
        "execution": {
          "iopub.status.busy": "2021-12-21T15:22:46.340798Z",
          "iopub.execute_input": "2021-12-21T15:22:46.341027Z",
          "iopub.status.idle": "2021-12-21T15:23:18.498537Z",
          "shell.execute_reply.started": "2021-12-21T15:22:46.340998Z",
          "shell.execute_reply": "2021-12-21T15:23:18.497871Z"
        },
        "trusted": true,
        "id": "h8P0_eYOAjIA"
      },
      "execution_count": null,
      "outputs": []
    },
    {
      "cell_type": "markdown",
      "source": [
        "# Training and model selection"
      ],
      "metadata": {
        "id": "0umjzJmzAjIB"
      }
    },
    {
      "cell_type": "code",
      "source": [
        "# X = train.drop(['topic_id'], axis=1)\n",
        "# y = train['topic_id']"
      ],
      "metadata": {
        "execution": {
          "iopub.status.busy": "2021-12-23T07:57:29.894832Z",
          "iopub.execute_input": "2021-12-23T07:57:29.895084Z",
          "iopub.status.idle": "2021-12-23T07:57:30.026413Z",
          "shell.execute_reply.started": "2021-12-23T07:57:29.895054Z",
          "shell.execute_reply": "2021-12-23T07:57:30.02562Z"
        },
        "trusted": true,
        "id": "W9HcDP4HAjIB"
      },
      "execution_count": null,
      "outputs": []
    },
    {
      "cell_type": "markdown",
      "source": [
        "### Normalization and standardization"
      ],
      "metadata": {
        "id": "OON4_QX9AjIC"
      }
    },
    {
      "cell_type": "code",
      "source": [
        "from sklearn.preprocessing import StandardScaler\n",
        "from sklearn.preprocessing import MinMaxScaler\n",
        "\n",
        "scaler = StandardScaler()\n",
        "# Fit on the training data\n",
        "scaler.fit(X)\n",
        "# Transform both the training and testing data\n",
        "X_standar = scaler.transform(X)\n",
        "test_standar = scaler.transform(test_n)\n",
        "print(X_standar)"
      ],
      "metadata": {
        "colab": {
          "base_uri": "https://localhost:8080/"
        },
        "id": "Wn0tuffnAjIC",
        "outputId": "21f71a0e-5fa4-4bef-eec4-d553fe1df28d"
      },
      "execution_count": 22,
      "outputs": [
        {
          "output_type": "stream",
          "name": "stdout",
          "text": [
            "[[ 1.31126604 -0.43466494 -0.93480838 ... -0.75264692 -0.87184224\n",
            "  -0.87342014]\n",
            " [-0.17652881  0.33473891 -0.91090049 ... -0.81654107  0.82901187\n",
            "  -0.61331421]\n",
            " [ 1.78564899 -0.71723639 -0.20258133 ...  1.66901358 -0.20216877\n",
            "   1.91882826]\n",
            " ...\n",
            " [ 0.9287709   1.75162685  0.66199262 ...  0.17020399  0.71337245\n",
            "   0.28831513]\n",
            " [-0.41900913  1.74462392 -1.12058767 ... -0.91198467 -0.76252019\n",
            "  -0.87303639]\n",
            " [-0.64809792  1.77988289  1.61192429 ... -1.02003246 -0.58819033\n",
            "  -0.75712352]]\n"
          ]
        }
      ]
    },
    {
      "cell_type": "code",
      "source": [
        "from sklearn.preprocessing import StandardScaler\n",
        "from sklearn.preprocessing import MinMaxScaler\n",
        "\n",
        "# Create the scaler object with a range of 0-1\n",
        "scaler = MinMaxScaler(feature_range=(0, 1))\n",
        "# Fit on the training data\n",
        "scaler.fit(X_standar)\n",
        "# Transform both the training and testing data\n",
        "X_norm = scaler.transform(X_standar)\n",
        "test_norm = scaler.transform(test_standar)\n",
        "print(X_norm)"
      ],
      "metadata": {
        "colab": {
          "base_uri": "https://localhost:8080/"
        },
        "id": "yR4R6k8cAjID",
        "outputId": "759ea52d-e120-4144-e1a4-4f42048eecb4"
      },
      "execution_count": 23,
      "outputs": [
        {
          "output_type": "stream",
          "name": "stdout",
          "text": [
            "[[0.65216375 0.4246169  0.36024603 ... 0.03188899 0.01439903 0.00673107]\n",
            " [0.45357018 0.52252847 0.3633343  ... 0.02426883 0.1736415  0.03240427]\n",
            " [0.71548525 0.38865787 0.45483046 ... 0.32070155 0.07709721 0.28233406]\n",
            " ...\n",
            " [0.6011076  0.70283654 0.56651062 ... 0.14195022 0.16281476 0.1213977 ]\n",
            " [0.42120347 0.70194537 0.33624825 ... 0.01288602 0.0246343  0.00676894]\n",
            " [0.39062428 0.7064323  0.68921674 ... 0.         0.04095594 0.01820988]]\n"
          ]
        }
      ]
    },
    {
      "cell_type": "markdown",
      "source": [
        "### Balancing data"
      ],
      "metadata": {
        "id": "RBYolVqmAjID"
      }
    },
    {
      "cell_type": "code",
      "source": [
        "from imblearn.over_sampling import SMOTE, ADASYN, KMeansSMOTE\n",
        "\n",
        "os = SMOTE(random_state=0)\n",
        "os1 = ADASYN(random_state=0, n_neighbors=1)\n",
        "os2 = KMeansSMOTE(random_state=0, k_neighbors=1, sampling_strategy='minority', kmeans_estimator=1)\n",
        "# feature vector\n",
        "#X_train_full = train.drop(['topic_id'], axis=1) \n",
        "# target variable vector\n",
        "#y_train_full = train['topic_id']\n",
        "X_train_full = X.copy()\n",
        "column = X_train_full.columns\n",
        "y_train_full = y.copy()\n",
        "print(\"До балансировки\")\n",
        "print(X_train_full.shape)\n",
        "print(y_train_full.value_counts())\n",
        "\n",
        "# Let's apply the balancing algorithm\n",
        "os_data_X, os_data_y = os.fit_resample(X_train_full, y_train_full)\n",
        "os_data_X = pd.DataFrame(data=os_data_X, columns=column)\n",
        "os_data_y = pd.DataFrame(data=os_data_y, columns=['topic_id'])\n",
        "\n",
        "print('_'*100)\n",
        "print(\"После балансировки\")\n",
        "print(os_data_X.shape)\n",
        "print(os_data_y.value_counts())"
      ],
      "metadata": {
        "execution": {
          "iopub.status.busy": "2021-12-21T15:25:50.53337Z",
          "iopub.execute_input": "2021-12-21T15:25:50.534156Z",
          "iopub.status.idle": "2021-12-21T15:28:08.839113Z",
          "shell.execute_reply.started": "2021-12-21T15:25:50.534109Z",
          "shell.execute_reply": "2021-12-21T15:28:08.837463Z"
        },
        "trusted": true,
        "colab": {
          "base_uri": "https://localhost:8080/"
        },
        "id": "MiqUl42xAjIE",
        "outputId": "1bc4fe39-c320-4603-e535-f1de10d46a35"
      },
      "execution_count": 37,
      "outputs": [
        {
          "output_type": "stream",
          "name": "stdout",
          "text": [
            "До балансировки\n",
            "(16000, 1324)\n",
            "48    904\n",
            "32    796\n",
            "28    770\n",
            "16    708\n",
            "3     692\n",
            "0     644\n",
            "1     558\n",
            "26    514\n",
            "10    486\n",
            "23    479\n",
            "12    457\n",
            "24    440\n",
            "11    420\n",
            "31    406\n",
            "20    402\n",
            "13    402\n",
            "6     376\n",
            "27    370\n",
            "43    365\n",
            "25    360\n",
            "9     354\n",
            "14    340\n",
            "18    315\n",
            "29    291\n",
            "45    282\n",
            "17    276\n",
            "19    268\n",
            "30    262\n",
            "5     254\n",
            "34    233\n",
            "41    224\n",
            "21    223\n",
            "22    221\n",
            "8     212\n",
            "7     210\n",
            "15    186\n",
            "33    169\n",
            "49    140\n",
            "36    140\n",
            "35    126\n",
            "4     117\n",
            "2      99\n",
            "37     97\n",
            "44     87\n",
            "46     83\n",
            "39     76\n",
            "38     67\n",
            "40     45\n",
            "47     44\n",
            "42     10\n",
            "Name: topic_id, dtype: int64\n",
            "____________________________________________________________________________________________________\n",
            "После балансировки\n",
            "(45200, 1324)\n",
            "topic_id\n",
            "0           904\n",
            "37          904\n",
            "27          904\n",
            "28          904\n",
            "29          904\n",
            "30          904\n",
            "31          904\n",
            "32          904\n",
            "33          904\n",
            "34          904\n",
            "35          904\n",
            "36          904\n",
            "38          904\n",
            "1           904\n",
            "39          904\n",
            "40          904\n",
            "41          904\n",
            "42          904\n",
            "43          904\n",
            "44          904\n",
            "45          904\n",
            "46          904\n",
            "47          904\n",
            "48          904\n",
            "26          904\n",
            "25          904\n",
            "24          904\n",
            "23          904\n",
            "2           904\n",
            "3           904\n",
            "4           904\n",
            "5           904\n",
            "6           904\n",
            "7           904\n",
            "8           904\n",
            "9           904\n",
            "10          904\n",
            "11          904\n",
            "12          904\n",
            "13          904\n",
            "14          904\n",
            "15          904\n",
            "16          904\n",
            "17          904\n",
            "18          904\n",
            "19          904\n",
            "20          904\n",
            "21          904\n",
            "22          904\n",
            "49          904\n",
            "dtype: int64\n"
          ]
        }
      ]
    },
    {
      "cell_type": "markdown",
      "source": [
        "### Choosing a model"
      ],
      "metadata": {
        "id": "GGokc1KFAjIF"
      }
    },
    {
      "cell_type": "code",
      "source": [
        "from sklearn.model_selection import train_test_split\n",
        "from sklearn.metrics import accuracy_score\n",
        "\n",
        "X_train, X_test, y_train, y_test = train_test_split(X, y, test_size=0.3, random_state=42) #X_norm"
      ],
      "metadata": {
        "execution": {
          "iopub.status.busy": "2021-12-23T07:57:46.596624Z",
          "iopub.execute_input": "2021-12-23T07:57:46.596889Z",
          "iopub.status.idle": "2021-12-23T07:57:47.943722Z",
          "shell.execute_reply.started": "2021-12-23T07:57:46.596852Z",
          "shell.execute_reply": "2021-12-23T07:57:47.942935Z"
        },
        "trusted": true,
        "id": "K-KjGJc1AjIH"
      },
      "execution_count": 22,
      "outputs": []
    },
    {
      "cell_type": "markdown",
      "source": [
        "### Support Vector Machines"
      ],
      "metadata": {
        "id": "06FNMcwOAjIL"
      }
    },
    {
      "cell_type": "code",
      "source": [
        "from sklearn.svm import SVC\n",
        "\n",
        "svc = SVC()\n",
        "svc.fit(X_train, y_train)\n",
        "y_pred_test = svc.predict(X_test)\n",
        "\n",
        "print(accuracy_score(y_test, y_pred_test))"
      ],
      "metadata": {
        "id": "8Hz4xjWfAjIM"
      },
      "execution_count": null,
      "outputs": []
    },
    {
      "cell_type": "code",
      "source": [
        "svc_f = SVC()\n",
        "svc_f.fit(X, y)\n",
        "y_pred = svc_f.predict(test)"
      ],
      "metadata": {
        "id": "Bk3wNlLHAjIN"
      },
      "execution_count": null,
      "outputs": []
    },
    {
      "cell_type": "markdown",
      "source": [
        "### Random Forest"
      ],
      "metadata": {
        "id": "m-SvEcCjAjIO"
      }
    },
    {
      "cell_type": "code",
      "source": [
        "from sklearn.ensemble import RandomForestClassifier\n",
        "\n",
        "clf = RandomForestClassifier(n_estimators=1000)\n",
        "clf.fit(X_train, y_train)\n",
        "y_pred_test = clf.predict(X_test)\n",
        "\n",
        "print(accuracy_score(y_test, y_pred_test))"
      ],
      "metadata": {
        "id": "waftUK9DAjIP"
      },
      "execution_count": null,
      "outputs": []
    },
    {
      "cell_type": "code",
      "source": [
        "clf_f = RandomForestClassifier(n_estimators=1000)\n",
        "clf_f.fit(X, y)\n",
        "y_pred = clf_f.predict(test)"
      ],
      "metadata": {
        "id": "6fz-AykuAjIQ"
      },
      "execution_count": null,
      "outputs": []
    },
    {
      "cell_type": "markdown",
      "source": [
        "### Extreme Gradient Boosting"
      ],
      "metadata": {
        "id": "skVN5i4cAjIQ"
      }
    },
    {
      "cell_type": "code",
      "source": [
        "import xgboost as xgb\n",
        "\n",
        "xgb1 = xgb.XGBClassifier(max_depth = 15, min_child_weight = 0.07, learning_rate = 0.01, tree_method='gpu_hist')\n",
        "xgb1.fit(X_train, y_train)\n",
        "y_pred_test = xgb1.predict(X_test)\n",
        "\n",
        "print(accuracy_score(y_test, y_pred_test))"
      ],
      "metadata": {
        "execution": {
          "iopub.status.busy": "2021-12-23T07:59:03.297717Z",
          "iopub.execute_input": "2021-12-23T07:59:03.298Z",
          "iopub.status.idle": "2021-12-23T08:03:46.306028Z",
          "shell.execute_reply.started": "2021-12-23T07:59:03.297964Z",
          "shell.execute_reply": "2021-12-23T08:03:46.305263Z"
        },
        "trusted": true,
        "id": "MqdDEMwLAjIR"
      },
      "execution_count": null,
      "outputs": []
    },
    {
      "cell_type": "code",
      "source": [
        "xgb_f = xgb.XGBClassifier(max_depth = 15, min_child_weight = 0.07, learning_rate = 0.01, tree_method='gpu_hist')\n",
        "xgb_f.fit(X, y)\n",
        "y_pred = xgb_f.predict(test)"
      ],
      "metadata": {
        "execution": {
          "iopub.status.busy": "2021-12-23T08:05:49.107229Z",
          "iopub.execute_input": "2021-12-23T08:05:49.107815Z",
          "iopub.status.idle": "2021-12-23T08:11:02.021469Z",
          "shell.execute_reply.started": "2021-12-23T08:05:49.107774Z",
          "shell.execute_reply": "2021-12-23T08:11:02.020701Z"
        },
        "trusted": true,
        "id": "14q0MYq5AjIR"
      },
      "execution_count": null,
      "outputs": []
    },
    {
      "cell_type": "markdown",
      "source": [
        "### Catboost"
      ],
      "metadata": {
        "id": "EgPobI95AjIS"
      }
    },
    {
      "cell_type": "code",
      "source": [
        "!pip install catboost"
      ],
      "metadata": {
        "colab": {
          "base_uri": "https://localhost:8080/"
        },
        "id": "hQo9zXkhBQFN",
        "outputId": "7b04e879-b89f-4b0c-8d70-74b5050dea85"
      },
      "execution_count": 23,
      "outputs": [
        {
          "output_type": "stream",
          "name": "stdout",
          "text": [
            "Looking in indexes: https://pypi.org/simple, https://us-python.pkg.dev/colab-wheels/public/simple/\n",
            "Collecting catboost\n",
            "  Downloading catboost-1.1.1-cp39-none-manylinux1_x86_64.whl (76.6 MB)\n",
            "\u001b[2K     \u001b[90m━━━━━━━━━━━━━━━━━━━━━━━━━━━━━━━━━━━━━━━━\u001b[0m \u001b[32m76.6/76.6 MB\u001b[0m \u001b[31m13.5 MB/s\u001b[0m eta \u001b[36m0:00:00\u001b[0m\n",
            "\u001b[?25hRequirement already satisfied: six in /usr/local/lib/python3.9/dist-packages (from catboost) (1.15.0)\n",
            "Requirement already satisfied: graphviz in /usr/local/lib/python3.9/dist-packages (from catboost) (0.10.1)\n",
            "Requirement already satisfied: scipy in /usr/local/lib/python3.9/dist-packages (from catboost) (1.10.1)\n",
            "Requirement already satisfied: matplotlib in /usr/local/lib/python3.9/dist-packages (from catboost) (3.5.3)\n",
            "Requirement already satisfied: plotly in /usr/local/lib/python3.9/dist-packages (from catboost) (5.5.0)\n",
            "Requirement already satisfied: pandas>=0.24.0 in /usr/local/lib/python3.9/dist-packages (from catboost) (1.4.4)\n",
            "Requirement already satisfied: numpy>=1.16.0 in /usr/local/lib/python3.9/dist-packages (from catboost) (1.22.4)\n",
            "Requirement already satisfied: python-dateutil>=2.8.1 in /usr/local/lib/python3.9/dist-packages (from pandas>=0.24.0->catboost) (2.8.2)\n",
            "Requirement already satisfied: pytz>=2020.1 in /usr/local/lib/python3.9/dist-packages (from pandas>=0.24.0->catboost) (2022.7.1)\n",
            "Requirement already satisfied: pyparsing>=2.2.1 in /usr/local/lib/python3.9/dist-packages (from matplotlib->catboost) (3.0.9)\n",
            "Requirement already satisfied: pillow>=6.2.0 in /usr/local/lib/python3.9/dist-packages (from matplotlib->catboost) (8.4.0)\n",
            "Requirement already satisfied: packaging>=20.0 in /usr/local/lib/python3.9/dist-packages (from matplotlib->catboost) (23.0)\n",
            "Requirement already satisfied: kiwisolver>=1.0.1 in /usr/local/lib/python3.9/dist-packages (from matplotlib->catboost) (1.4.4)\n",
            "Requirement already satisfied: cycler>=0.10 in /usr/local/lib/python3.9/dist-packages (from matplotlib->catboost) (0.11.0)\n",
            "Requirement already satisfied: fonttools>=4.22.0 in /usr/local/lib/python3.9/dist-packages (from matplotlib->catboost) (4.39.0)\n",
            "Requirement already satisfied: tenacity>=6.2.0 in /usr/local/lib/python3.9/dist-packages (from plotly->catboost) (8.2.2)\n",
            "Installing collected packages: catboost\n",
            "Successfully installed catboost-1.1.1\n"
          ]
        }
      ]
    },
    {
      "cell_type": "code",
      "source": [
        "from catboost import CatBoostClassifier\n",
        "\n",
        "catboost = CatBoostClassifier(n_estimators=1000, learning_rate=0.03,\n",
        "                              depth=8, max_ctr_complexity=1,\n",
        "                              max_bin=64, task_type='GPU')  "
      ],
      "metadata": {
        "execution": {
          "iopub.status.busy": "2021-12-23T08:15:15.724327Z",
          "iopub.execute_input": "2021-12-23T08:15:15.724801Z",
          "iopub.status.idle": "2021-12-23T09:01:38.592465Z",
          "shell.execute_reply.started": "2021-12-23T08:15:15.724761Z",
          "shell.execute_reply": "2021-12-23T09:01:38.591672Z"
        },
        "trusted": true,
        "id": "wMbBWarYAjIT"
      },
      "execution_count": 24,
      "outputs": []
    },
    {
      "cell_type": "code",
      "source": [
        "catboost.fit(X_train, y_train, verbose=True)"
      ],
      "metadata": {
        "colab": {
          "base_uri": "https://localhost:8080/"
        },
        "id": "UhchfWAu9m-U",
        "outputId": "7b040cf5-9c95-438b-d258-4cc3118f3a38"
      },
      "execution_count": 25,
      "outputs": [
        {
          "output_type": "stream",
          "name": "stdout",
          "text": [
            "0:\tlearn: 3.8500589\ttotal: 588ms\tremaining: 9m 47s\n",
            "1:\tlearn: 3.7966724\ttotal: 1.05s\tremaining: 8m 46s\n",
            "2:\tlearn: 3.7439732\ttotal: 1.52s\tremaining: 8m 27s\n",
            "3:\tlearn: 3.7008430\ttotal: 2s\tremaining: 8m 18s\n",
            "4:\tlearn: 3.6581044\ttotal: 2.51s\tremaining: 8m 18s\n",
            "5:\tlearn: 3.6203191\ttotal: 3s\tremaining: 8m 16s\n",
            "6:\tlearn: 3.5841207\ttotal: 3.45s\tremaining: 8m 8s\n",
            "7:\tlearn: 3.5478062\ttotal: 3.93s\tremaining: 8m 7s\n",
            "8:\tlearn: 3.5135013\ttotal: 4.49s\tremaining: 8m 14s\n",
            "9:\tlearn: 3.4820281\ttotal: 5.07s\tremaining: 8m 21s\n",
            "10:\tlearn: 3.4502769\ttotal: 5.53s\tremaining: 8m 17s\n",
            "11:\tlearn: 3.4185889\ttotal: 6.04s\tremaining: 8m 17s\n",
            "12:\tlearn: 3.3874808\ttotal: 6.56s\tremaining: 8m 17s\n",
            "13:\tlearn: 3.3582966\ttotal: 7.08s\tremaining: 8m 18s\n",
            "14:\tlearn: 3.3319441\ttotal: 7.65s\tremaining: 8m 22s\n",
            "15:\tlearn: 3.3046955\ttotal: 8.26s\tremaining: 8m 28s\n",
            "16:\tlearn: 3.2844388\ttotal: 8.88s\tremaining: 8m 33s\n",
            "17:\tlearn: 3.2599979\ttotal: 9.52s\tremaining: 8m 39s\n",
            "18:\tlearn: 3.2369629\ttotal: 10.2s\tremaining: 8m 46s\n",
            "19:\tlearn: 3.2140426\ttotal: 10.7s\tremaining: 8m 46s\n",
            "20:\tlearn: 3.1897524\ttotal: 11.3s\tremaining: 8m 48s\n",
            "21:\tlearn: 3.1678097\ttotal: 12s\tremaining: 8m 53s\n",
            "22:\tlearn: 3.1456498\ttotal: 12.7s\tremaining: 9m\n",
            "23:\tlearn: 3.1258353\ttotal: 13.3s\tremaining: 9m 1s\n",
            "24:\tlearn: 3.1066385\ttotal: 13.9s\tremaining: 9m 2s\n",
            "25:\tlearn: 3.0905765\ttotal: 14.4s\tremaining: 8m 57s\n",
            "26:\tlearn: 3.0716155\ttotal: 14.9s\tremaining: 8m 56s\n",
            "27:\tlearn: 3.0538086\ttotal: 15.7s\tremaining: 9m 3s\n",
            "28:\tlearn: 3.0357045\ttotal: 16.5s\tremaining: 9m 11s\n",
            "29:\tlearn: 3.0180702\ttotal: 17.2s\tremaining: 9m 14s\n",
            "30:\tlearn: 2.9984926\ttotal: 17.8s\tremaining: 9m 16s\n",
            "31:\tlearn: 2.9808039\ttotal: 18.4s\tremaining: 9m 16s\n",
            "32:\tlearn: 2.9623567\ttotal: 19s\tremaining: 9m 16s\n",
            "33:\tlearn: 2.9461063\ttotal: 19.6s\tremaining: 9m 17s\n",
            "34:\tlearn: 2.9292944\ttotal: 20.2s\tremaining: 9m 16s\n",
            "35:\tlearn: 2.9139514\ttotal: 20.8s\tremaining: 9m 17s\n",
            "36:\tlearn: 2.8958754\ttotal: 21.5s\tremaining: 9m 19s\n",
            "37:\tlearn: 2.8788961\ttotal: 22.1s\tremaining: 9m 18s\n",
            "38:\tlearn: 2.8641206\ttotal: 22.6s\tremaining: 9m 17s\n",
            "39:\tlearn: 2.8470581\ttotal: 23.4s\tremaining: 9m 21s\n",
            "40:\tlearn: 2.8317266\ttotal: 24.1s\tremaining: 9m 23s\n",
            "41:\tlearn: 2.8148218\ttotal: 24.8s\tremaining: 9m 25s\n",
            "42:\tlearn: 2.8008969\ttotal: 25.4s\tremaining: 9m 25s\n",
            "43:\tlearn: 2.7858229\ttotal: 26.1s\tremaining: 9m 26s\n",
            "44:\tlearn: 2.7731337\ttotal: 26.7s\tremaining: 9m 26s\n",
            "45:\tlearn: 2.7602234\ttotal: 27.4s\tremaining: 9m 28s\n",
            "46:\tlearn: 2.7463229\ttotal: 28.2s\tremaining: 9m 31s\n",
            "47:\tlearn: 2.7326542\ttotal: 28.9s\tremaining: 9m 33s\n",
            "48:\tlearn: 2.7188890\ttotal: 29.7s\tremaining: 9m 35s\n",
            "49:\tlearn: 2.7061870\ttotal: 30.2s\tremaining: 9m 33s\n",
            "50:\tlearn: 2.6945780\ttotal: 30.8s\tremaining: 9m 32s\n",
            "51:\tlearn: 2.6812404\ttotal: 31.4s\tremaining: 9m 32s\n",
            "52:\tlearn: 2.6690756\ttotal: 31.9s\tremaining: 9m 30s\n",
            "53:\tlearn: 2.6566872\ttotal: 32.6s\tremaining: 9m 30s\n",
            "54:\tlearn: 2.6455861\ttotal: 33.2s\tremaining: 9m 29s\n",
            "55:\tlearn: 2.6328606\ttotal: 33.8s\tremaining: 9m 30s\n",
            "56:\tlearn: 2.6202935\ttotal: 34.4s\tremaining: 9m 29s\n",
            "57:\tlearn: 2.6090308\ttotal: 35s\tremaining: 9m 28s\n",
            "58:\tlearn: 2.5970138\ttotal: 35.6s\tremaining: 9m 28s\n",
            "59:\tlearn: 2.5844317\ttotal: 36.3s\tremaining: 9m 28s\n",
            "60:\tlearn: 2.5728592\ttotal: 36.8s\tremaining: 9m 26s\n",
            "61:\tlearn: 2.5622428\ttotal: 37.3s\tremaining: 9m 24s\n",
            "62:\tlearn: 2.5510024\ttotal: 37.8s\tremaining: 9m 22s\n",
            "63:\tlearn: 2.5397532\ttotal: 38.5s\tremaining: 9m 22s\n",
            "64:\tlearn: 2.5287354\ttotal: 39.1s\tremaining: 9m 21s\n",
            "65:\tlearn: 2.5180612\ttotal: 39.6s\tremaining: 9m 19s\n",
            "66:\tlearn: 2.5083643\ttotal: 40.1s\tremaining: 9m 17s\n",
            "67:\tlearn: 2.4978578\ttotal: 40.6s\tremaining: 9m 16s\n",
            "68:\tlearn: 2.4871650\ttotal: 41.3s\tremaining: 9m 17s\n",
            "69:\tlearn: 2.4763900\ttotal: 42s\tremaining: 9m 17s\n",
            "70:\tlearn: 2.4669985\ttotal: 42.4s\tremaining: 9m 15s\n",
            "71:\tlearn: 2.4579775\ttotal: 42.9s\tremaining: 9m 13s\n",
            "72:\tlearn: 2.4477330\ttotal: 43.6s\tremaining: 9m 13s\n",
            "73:\tlearn: 2.4387374\ttotal: 44.1s\tremaining: 9m 12s\n",
            "74:\tlearn: 2.4292897\ttotal: 44.7s\tremaining: 9m 11s\n",
            "75:\tlearn: 2.4193042\ttotal: 45.3s\tremaining: 9m 10s\n",
            "76:\tlearn: 2.4100356\ttotal: 45.9s\tremaining: 9m 9s\n",
            "77:\tlearn: 2.4008512\ttotal: 46.5s\tremaining: 9m 9s\n",
            "78:\tlearn: 2.3924222\ttotal: 47s\tremaining: 9m 7s\n",
            "79:\tlearn: 2.3828714\ttotal: 47.6s\tremaining: 9m 6s\n",
            "80:\tlearn: 2.3737347\ttotal: 48.2s\tremaining: 9m 6s\n",
            "81:\tlearn: 2.3640231\ttotal: 48.8s\tremaining: 9m 6s\n",
            "82:\tlearn: 2.3555242\ttotal: 49.3s\tremaining: 9m 5s\n",
            "83:\tlearn: 2.3473263\ttotal: 49.9s\tremaining: 9m 4s\n",
            "84:\tlearn: 2.3379408\ttotal: 50.5s\tremaining: 9m 3s\n",
            "85:\tlearn: 2.3288925\ttotal: 51.1s\tremaining: 9m 3s\n",
            "86:\tlearn: 2.3191854\ttotal: 51.7s\tremaining: 9m 2s\n",
            "87:\tlearn: 2.3113484\ttotal: 52.3s\tremaining: 9m 2s\n",
            "88:\tlearn: 2.3034098\ttotal: 52.9s\tremaining: 9m 1s\n",
            "89:\tlearn: 2.2944156\ttotal: 53.7s\tremaining: 9m 2s\n",
            "90:\tlearn: 2.2858125\ttotal: 54.3s\tremaining: 9m 2s\n",
            "91:\tlearn: 2.2780648\ttotal: 54.9s\tremaining: 9m 2s\n",
            "92:\tlearn: 2.2687537\ttotal: 55.5s\tremaining: 9m\n",
            "93:\tlearn: 2.2599620\ttotal: 56.1s\tremaining: 9m\n",
            "94:\tlearn: 2.2519889\ttotal: 56.7s\tremaining: 9m\n",
            "95:\tlearn: 2.2430467\ttotal: 57.3s\tremaining: 8m 59s\n",
            "96:\tlearn: 2.2353221\ttotal: 57.9s\tremaining: 8m 59s\n",
            "97:\tlearn: 2.2273378\ttotal: 58.5s\tremaining: 8m 58s\n",
            "98:\tlearn: 2.2198178\ttotal: 59.1s\tremaining: 8m 57s\n",
            "99:\tlearn: 2.2117826\ttotal: 59.6s\tremaining: 8m 56s\n",
            "100:\tlearn: 2.2041776\ttotal: 1m\tremaining: 8m 55s\n",
            "101:\tlearn: 2.1970176\ttotal: 1m\tremaining: 8m 54s\n",
            "102:\tlearn: 2.1907193\ttotal: 1m 1s\tremaining: 8m 53s\n",
            "103:\tlearn: 2.1828606\ttotal: 1m 1s\tremaining: 8m 52s\n",
            "104:\tlearn: 2.1745461\ttotal: 1m 2s\tremaining: 8m 51s\n",
            "105:\tlearn: 2.1666996\ttotal: 1m 2s\tremaining: 8m 51s\n",
            "106:\tlearn: 2.1605682\ttotal: 1m 3s\tremaining: 8m 49s\n",
            "107:\tlearn: 2.1534249\ttotal: 1m 4s\tremaining: 8m 49s\n",
            "108:\tlearn: 2.1458378\ttotal: 1m 4s\tremaining: 8m 48s\n",
            "109:\tlearn: 2.1396287\ttotal: 1m 5s\tremaining: 8m 48s\n",
            "110:\tlearn: 2.1320837\ttotal: 1m 6s\tremaining: 8m 48s\n",
            "111:\tlearn: 2.1247599\ttotal: 1m 6s\tremaining: 8m 48s\n",
            "112:\tlearn: 2.1177316\ttotal: 1m 7s\tremaining: 8m 48s\n",
            "113:\tlearn: 2.1103299\ttotal: 1m 7s\tremaining: 8m 47s\n",
            "114:\tlearn: 2.1027462\ttotal: 1m 8s\tremaining: 8m 47s\n",
            "115:\tlearn: 2.0967712\ttotal: 1m 9s\tremaining: 8m 46s\n",
            "116:\tlearn: 2.0898551\ttotal: 1m 9s\tremaining: 8m 45s\n",
            "117:\tlearn: 2.0833407\ttotal: 1m 10s\tremaining: 8m 45s\n",
            "118:\tlearn: 2.0769156\ttotal: 1m 10s\tremaining: 8m 45s\n",
            "119:\tlearn: 2.0700146\ttotal: 1m 11s\tremaining: 8m 44s\n",
            "120:\tlearn: 2.0631787\ttotal: 1m 12s\tremaining: 8m 43s\n",
            "121:\tlearn: 2.0562139\ttotal: 1m 12s\tremaining: 8m 43s\n",
            "122:\tlearn: 2.0492852\ttotal: 1m 13s\tremaining: 8m 42s\n",
            "123:\tlearn: 2.0424618\ttotal: 1m 13s\tremaining: 8m 41s\n",
            "124:\tlearn: 2.0363440\ttotal: 1m 14s\tremaining: 8m 40s\n",
            "125:\tlearn: 2.0290869\ttotal: 1m 15s\tremaining: 8m 40s\n",
            "126:\tlearn: 2.0219664\ttotal: 1m 15s\tremaining: 8m 40s\n",
            "127:\tlearn: 2.0160086\ttotal: 1m 16s\tremaining: 8m 40s\n",
            "128:\tlearn: 2.0103137\ttotal: 1m 16s\tremaining: 8m 39s\n",
            "129:\tlearn: 2.0038813\ttotal: 1m 17s\tremaining: 8m 39s\n",
            "130:\tlearn: 1.9977839\ttotal: 1m 18s\tremaining: 8m 39s\n",
            "131:\tlearn: 1.9921165\ttotal: 1m 18s\tremaining: 8m 38s\n",
            "132:\tlearn: 1.9864031\ttotal: 1m 19s\tremaining: 8m 37s\n",
            "133:\tlearn: 1.9805437\ttotal: 1m 20s\tremaining: 8m 37s\n",
            "134:\tlearn: 1.9747185\ttotal: 1m 20s\tremaining: 8m 36s\n",
            "135:\tlearn: 1.9689047\ttotal: 1m 21s\tremaining: 8m 35s\n",
            "136:\tlearn: 1.9628191\ttotal: 1m 21s\tremaining: 8m 35s\n",
            "137:\tlearn: 1.9565156\ttotal: 1m 22s\tremaining: 8m 35s\n",
            "138:\tlearn: 1.9505300\ttotal: 1m 23s\tremaining: 8m 34s\n",
            "139:\tlearn: 1.9450865\ttotal: 1m 23s\tremaining: 8m 34s\n",
            "140:\tlearn: 1.9389600\ttotal: 1m 24s\tremaining: 8m 33s\n",
            "141:\tlearn: 1.9329639\ttotal: 1m 25s\tremaining: 8m 33s\n",
            "142:\tlearn: 1.9266220\ttotal: 1m 25s\tremaining: 8m 34s\n",
            "143:\tlearn: 1.9203441\ttotal: 1m 26s\tremaining: 8m 34s\n",
            "144:\tlearn: 1.9150584\ttotal: 1m 27s\tremaining: 8m 34s\n",
            "145:\tlearn: 1.9095752\ttotal: 1m 28s\tremaining: 8m 34s\n",
            "146:\tlearn: 1.9041989\ttotal: 1m 28s\tremaining: 8m 34s\n",
            "147:\tlearn: 1.8984656\ttotal: 1m 29s\tremaining: 8m 34s\n",
            "148:\tlearn: 1.8933969\ttotal: 1m 30s\tremaining: 8m 34s\n",
            "149:\tlearn: 1.8881147\ttotal: 1m 30s\tremaining: 8m 33s\n",
            "150:\tlearn: 1.8827544\ttotal: 1m 31s\tremaining: 8m 33s\n",
            "151:\tlearn: 1.8778884\ttotal: 1m 31s\tremaining: 8m 32s\n",
            "152:\tlearn: 1.8724618\ttotal: 1m 32s\tremaining: 8m 31s\n",
            "153:\tlearn: 1.8678137\ttotal: 1m 32s\tremaining: 8m 30s\n",
            "154:\tlearn: 1.8620187\ttotal: 1m 33s\tremaining: 8m 30s\n",
            "155:\tlearn: 1.8566827\ttotal: 1m 34s\tremaining: 8m 29s\n",
            "156:\tlearn: 1.8512826\ttotal: 1m 34s\tremaining: 8m 28s\n",
            "157:\tlearn: 1.8458384\ttotal: 1m 35s\tremaining: 8m 28s\n",
            "158:\tlearn: 1.8407518\ttotal: 1m 35s\tremaining: 8m 26s\n",
            "159:\tlearn: 1.8361891\ttotal: 1m 36s\tremaining: 8m 25s\n",
            "160:\tlearn: 1.8315492\ttotal: 1m 36s\tremaining: 8m 25s\n",
            "161:\tlearn: 1.8264586\ttotal: 1m 37s\tremaining: 8m 24s\n",
            "162:\tlearn: 1.8206233\ttotal: 1m 38s\tremaining: 8m 24s\n",
            "163:\tlearn: 1.8157227\ttotal: 1m 38s\tremaining: 8m 23s\n",
            "164:\tlearn: 1.8104269\ttotal: 1m 39s\tremaining: 8m 22s\n",
            "165:\tlearn: 1.8054197\ttotal: 1m 39s\tremaining: 8m 22s\n",
            "166:\tlearn: 1.8009019\ttotal: 1m 40s\tremaining: 8m 21s\n",
            "167:\tlearn: 1.7960198\ttotal: 1m 41s\tremaining: 8m 20s\n",
            "168:\tlearn: 1.7915709\ttotal: 1m 41s\tremaining: 8m 19s\n",
            "169:\tlearn: 1.7863782\ttotal: 1m 42s\tremaining: 8m 19s\n",
            "170:\tlearn: 1.7817646\ttotal: 1m 43s\tremaining: 8m 19s\n",
            "171:\tlearn: 1.7763663\ttotal: 1m 43s\tremaining: 8m 19s\n",
            "172:\tlearn: 1.7713464\ttotal: 1m 44s\tremaining: 8m 18s\n",
            "173:\tlearn: 1.7666668\ttotal: 1m 44s\tremaining: 8m 18s\n",
            "174:\tlearn: 1.7617437\ttotal: 1m 45s\tremaining: 8m 17s\n",
            "175:\tlearn: 1.7565278\ttotal: 1m 46s\tremaining: 8m 17s\n",
            "176:\tlearn: 1.7521258\ttotal: 1m 46s\tremaining: 8m 16s\n",
            "177:\tlearn: 1.7471594\ttotal: 1m 47s\tremaining: 8m 16s\n",
            "178:\tlearn: 1.7422484\ttotal: 1m 48s\tremaining: 8m 15s\n",
            "179:\tlearn: 1.7380472\ttotal: 1m 48s\tremaining: 8m 15s\n",
            "180:\tlearn: 1.7336727\ttotal: 1m 49s\tremaining: 8m 14s\n",
            "181:\tlearn: 1.7282532\ttotal: 1m 49s\tremaining: 8m 13s\n",
            "182:\tlearn: 1.7237306\ttotal: 1m 50s\tremaining: 8m 13s\n",
            "183:\tlearn: 1.7190475\ttotal: 1m 51s\tremaining: 8m 12s\n",
            "184:\tlearn: 1.7143035\ttotal: 1m 51s\tremaining: 8m 12s\n",
            "185:\tlearn: 1.7094669\ttotal: 1m 52s\tremaining: 8m 11s\n",
            "186:\tlearn: 1.7047485\ttotal: 1m 52s\tremaining: 8m 11s\n",
            "187:\tlearn: 1.7004278\ttotal: 1m 53s\tremaining: 8m 10s\n",
            "188:\tlearn: 1.6955720\ttotal: 1m 54s\tremaining: 8m 10s\n",
            "189:\tlearn: 1.6915798\ttotal: 1m 54s\tremaining: 8m 9s\n",
            "190:\tlearn: 1.6873730\ttotal: 1m 55s\tremaining: 8m 9s\n",
            "191:\tlearn: 1.6835526\ttotal: 1m 56s\tremaining: 8m 8s\n",
            "192:\tlearn: 1.6792770\ttotal: 1m 56s\tremaining: 8m 7s\n",
            "193:\tlearn: 1.6749112\ttotal: 1m 57s\tremaining: 8m 7s\n",
            "194:\tlearn: 1.6709535\ttotal: 1m 57s\tremaining: 8m 6s\n",
            "195:\tlearn: 1.6666914\ttotal: 1m 58s\tremaining: 8m 5s\n",
            "196:\tlearn: 1.6627722\ttotal: 1m 58s\tremaining: 8m 4s\n",
            "197:\tlearn: 1.6584717\ttotal: 1m 59s\tremaining: 8m 4s\n",
            "198:\tlearn: 1.6536973\ttotal: 2m\tremaining: 8m 3s\n",
            "199:\tlearn: 1.6502712\ttotal: 2m\tremaining: 8m 2s\n",
            "200:\tlearn: 1.6458554\ttotal: 2m 1s\tremaining: 8m 2s\n",
            "201:\tlearn: 1.6415226\ttotal: 2m 1s\tremaining: 8m 1s\n",
            "202:\tlearn: 1.6374874\ttotal: 2m 2s\tremaining: 8m\n",
            "203:\tlearn: 1.6329886\ttotal: 2m 3s\tremaining: 8m\n",
            "204:\tlearn: 1.6284985\ttotal: 2m 3s\tremaining: 7m 59s\n",
            "205:\tlearn: 1.6249627\ttotal: 2m 4s\tremaining: 7m 59s\n",
            "206:\tlearn: 1.6203006\ttotal: 2m 4s\tremaining: 7m 58s\n",
            "207:\tlearn: 1.6159302\ttotal: 2m 5s\tremaining: 7m 58s\n",
            "208:\tlearn: 1.6119034\ttotal: 2m 6s\tremaining: 7m 57s\n",
            "209:\tlearn: 1.6075399\ttotal: 2m 7s\tremaining: 7m 57s\n",
            "210:\tlearn: 1.6038450\ttotal: 2m 7s\tremaining: 7m 57s\n",
            "211:\tlearn: 1.5995025\ttotal: 2m 8s\tremaining: 7m 56s\n",
            "212:\tlearn: 1.5955322\ttotal: 2m 8s\tremaining: 7m 56s\n",
            "213:\tlearn: 1.5918563\ttotal: 2m 9s\tremaining: 7m 55s\n",
            "214:\tlearn: 1.5884459\ttotal: 2m 10s\tremaining: 7m 55s\n",
            "215:\tlearn: 1.5850689\ttotal: 2m 10s\tremaining: 7m 54s\n",
            "216:\tlearn: 1.5806621\ttotal: 2m 11s\tremaining: 7m 53s\n",
            "217:\tlearn: 1.5769092\ttotal: 2m 11s\tremaining: 7m 53s\n",
            "218:\tlearn: 1.5728514\ttotal: 2m 12s\tremaining: 7m 52s\n",
            "219:\tlearn: 1.5696483\ttotal: 2m 13s\tremaining: 7m 52s\n",
            "220:\tlearn: 1.5653838\ttotal: 2m 13s\tremaining: 7m 51s\n",
            "221:\tlearn: 1.5617282\ttotal: 2m 14s\tremaining: 7m 50s\n",
            "222:\tlearn: 1.5584848\ttotal: 2m 14s\tremaining: 7m 49s\n",
            "223:\tlearn: 1.5549789\ttotal: 2m 15s\tremaining: 7m 49s\n",
            "224:\tlearn: 1.5515334\ttotal: 2m 16s\tremaining: 7m 48s\n",
            "225:\tlearn: 1.5476624\ttotal: 2m 16s\tremaining: 7m 48s\n",
            "226:\tlearn: 1.5442010\ttotal: 2m 17s\tremaining: 7m 47s\n",
            "227:\tlearn: 1.5405055\ttotal: 2m 17s\tremaining: 7m 46s\n",
            "228:\tlearn: 1.5374409\ttotal: 2m 18s\tremaining: 7m 45s\n",
            "229:\tlearn: 1.5342887\ttotal: 2m 19s\tremaining: 7m 45s\n",
            "230:\tlearn: 1.5304389\ttotal: 2m 19s\tremaining: 7m 44s\n",
            "231:\tlearn: 1.5266080\ttotal: 2m 20s\tremaining: 7m 44s\n",
            "232:\tlearn: 1.5224763\ttotal: 2m 21s\tremaining: 7m 44s\n",
            "233:\tlearn: 1.5188192\ttotal: 2m 21s\tremaining: 7m 43s\n",
            "234:\tlearn: 1.5153685\ttotal: 2m 22s\tremaining: 7m 42s\n",
            "235:\tlearn: 1.5117215\ttotal: 2m 22s\tremaining: 7m 42s\n",
            "236:\tlearn: 1.5075703\ttotal: 2m 23s\tremaining: 7m 41s\n",
            "237:\tlearn: 1.5035751\ttotal: 2m 24s\tremaining: 7m 41s\n",
            "238:\tlearn: 1.5004804\ttotal: 2m 24s\tremaining: 7m 40s\n",
            "239:\tlearn: 1.4975359\ttotal: 2m 25s\tremaining: 7m 39s\n",
            "240:\tlearn: 1.4947970\ttotal: 2m 25s\tremaining: 7m 38s\n",
            "241:\tlearn: 1.4912788\ttotal: 2m 26s\tremaining: 7m 38s\n",
            "242:\tlearn: 1.4879321\ttotal: 2m 26s\tremaining: 7m 37s\n",
            "243:\tlearn: 1.4841570\ttotal: 2m 27s\tremaining: 7m 36s\n",
            "244:\tlearn: 1.4805198\ttotal: 2m 28s\tremaining: 7m 36s\n",
            "245:\tlearn: 1.4766554\ttotal: 2m 28s\tremaining: 7m 35s\n",
            "246:\tlearn: 1.4731609\ttotal: 2m 29s\tremaining: 7m 34s\n",
            "247:\tlearn: 1.4694706\ttotal: 2m 29s\tremaining: 7m 34s\n",
            "248:\tlearn: 1.4665074\ttotal: 2m 30s\tremaining: 7m 33s\n",
            "249:\tlearn: 1.4628496\ttotal: 2m 31s\tremaining: 7m 33s\n",
            "250:\tlearn: 1.4589045\ttotal: 2m 31s\tremaining: 7m 33s\n",
            "251:\tlearn: 1.4554100\ttotal: 2m 32s\tremaining: 7m 32s\n",
            "252:\tlearn: 1.4518122\ttotal: 2m 33s\tremaining: 7m 31s\n",
            "253:\tlearn: 1.4482658\ttotal: 2m 33s\tremaining: 7m 31s\n",
            "254:\tlearn: 1.4445508\ttotal: 2m 34s\tremaining: 7m 30s\n",
            "255:\tlearn: 1.4412191\ttotal: 2m 34s\tremaining: 7m 30s\n",
            "256:\tlearn: 1.4380978\ttotal: 2m 35s\tremaining: 7m 29s\n",
            "257:\tlearn: 1.4354859\ttotal: 2m 35s\tremaining: 7m 28s\n",
            "258:\tlearn: 1.4326345\ttotal: 2m 36s\tremaining: 7m 27s\n",
            "259:\tlearn: 1.4294589\ttotal: 2m 37s\tremaining: 7m 27s\n",
            "260:\tlearn: 1.4265170\ttotal: 2m 37s\tremaining: 7m 26s\n",
            "261:\tlearn: 1.4232450\ttotal: 2m 38s\tremaining: 7m 25s\n",
            "262:\tlearn: 1.4201566\ttotal: 2m 38s\tremaining: 7m 24s\n",
            "263:\tlearn: 1.4168090\ttotal: 2m 39s\tremaining: 7m 24s\n",
            "264:\tlearn: 1.4133749\ttotal: 2m 39s\tremaining: 7m 23s\n",
            "265:\tlearn: 1.4105225\ttotal: 2m 40s\tremaining: 7m 22s\n",
            "266:\tlearn: 1.4077426\ttotal: 2m 41s\tremaining: 7m 22s\n",
            "267:\tlearn: 1.4043694\ttotal: 2m 41s\tremaining: 7m 21s\n",
            "268:\tlearn: 1.4009508\ttotal: 2m 42s\tremaining: 7m 21s\n",
            "269:\tlearn: 1.3977141\ttotal: 2m 42s\tremaining: 7m 20s\n",
            "270:\tlearn: 1.3951651\ttotal: 2m 43s\tremaining: 7m 19s\n",
            "271:\tlearn: 1.3924296\ttotal: 2m 44s\tremaining: 7m 19s\n",
            "272:\tlearn: 1.3892047\ttotal: 2m 44s\tremaining: 7m 19s\n",
            "273:\tlearn: 1.3859583\ttotal: 2m 45s\tremaining: 7m 18s\n",
            "274:\tlearn: 1.3830740\ttotal: 2m 46s\tremaining: 7m 17s\n",
            "275:\tlearn: 1.3799353\ttotal: 2m 46s\tremaining: 7m 17s\n",
            "276:\tlearn: 1.3770456\ttotal: 2m 47s\tremaining: 7m 16s\n",
            "277:\tlearn: 1.3741929\ttotal: 2m 47s\tremaining: 7m 15s\n",
            "278:\tlearn: 1.3716353\ttotal: 2m 48s\tremaining: 7m 14s\n",
            "279:\tlearn: 1.3682574\ttotal: 2m 48s\tremaining: 7m 14s\n",
            "280:\tlearn: 1.3653087\ttotal: 2m 49s\tremaining: 7m 13s\n",
            "281:\tlearn: 1.3620995\ttotal: 2m 50s\tremaining: 7m 13s\n",
            "282:\tlearn: 1.3589588\ttotal: 2m 50s\tremaining: 7m 12s\n",
            "283:\tlearn: 1.3565655\ttotal: 2m 51s\tremaining: 7m 11s\n",
            "284:\tlearn: 1.3536280\ttotal: 2m 51s\tremaining: 7m 11s\n",
            "285:\tlearn: 1.3508385\ttotal: 2m 52s\tremaining: 7m 10s\n",
            "286:\tlearn: 1.3482167\ttotal: 2m 53s\tremaining: 7m 10s\n",
            "287:\tlearn: 1.3460861\ttotal: 2m 53s\tremaining: 7m 9s\n",
            "288:\tlearn: 1.3435234\ttotal: 2m 54s\tremaining: 7m 8s\n",
            "289:\tlearn: 1.3405528\ttotal: 2m 54s\tremaining: 7m 7s\n",
            "290:\tlearn: 1.3377767\ttotal: 2m 55s\tremaining: 7m 7s\n",
            "291:\tlearn: 1.3351331\ttotal: 2m 55s\tremaining: 7m 6s\n",
            "292:\tlearn: 1.3315620\ttotal: 2m 56s\tremaining: 7m 6s\n",
            "293:\tlearn: 1.3291578\ttotal: 2m 57s\tremaining: 7m 5s\n",
            "294:\tlearn: 1.3262837\ttotal: 2m 57s\tremaining: 7m 4s\n",
            "295:\tlearn: 1.3237502\ttotal: 2m 58s\tremaining: 7m 4s\n",
            "296:\tlearn: 1.3215255\ttotal: 2m 58s\tremaining: 7m 3s\n",
            "297:\tlearn: 1.3187437\ttotal: 2m 59s\tremaining: 7m 2s\n",
            "298:\tlearn: 1.3161466\ttotal: 2m 59s\tremaining: 7m 1s\n",
            "299:\tlearn: 1.3132404\ttotal: 3m\tremaining: 7m 1s\n",
            "300:\tlearn: 1.3111947\ttotal: 3m 1s\tremaining: 7m\n",
            "301:\tlearn: 1.3089194\ttotal: 3m 1s\tremaining: 6m 59s\n",
            "302:\tlearn: 1.3060085\ttotal: 3m 2s\tremaining: 6m 59s\n",
            "303:\tlearn: 1.3039876\ttotal: 3m 2s\tremaining: 6m 58s\n",
            "304:\tlearn: 1.3017480\ttotal: 3m 3s\tremaining: 6m 57s\n",
            "305:\tlearn: 1.2995688\ttotal: 3m 3s\tremaining: 6m 56s\n",
            "306:\tlearn: 1.2966199\ttotal: 3m 4s\tremaining: 6m 55s\n",
            "307:\tlearn: 1.2940302\ttotal: 3m 4s\tremaining: 6m 55s\n",
            "308:\tlearn: 1.2910751\ttotal: 3m 5s\tremaining: 6m 54s\n",
            "309:\tlearn: 1.2886548\ttotal: 3m 5s\tremaining: 6m 53s\n",
            "310:\tlearn: 1.2855946\ttotal: 3m 6s\tremaining: 6m 53s\n",
            "311:\tlearn: 1.2834408\ttotal: 3m 7s\tremaining: 6m 52s\n",
            "312:\tlearn: 1.2810609\ttotal: 3m 7s\tremaining: 6m 51s\n",
            "313:\tlearn: 1.2788562\ttotal: 3m 8s\tremaining: 6m 51s\n",
            "314:\tlearn: 1.2766158\ttotal: 3m 8s\tremaining: 6m 50s\n",
            "315:\tlearn: 1.2748111\ttotal: 3m 9s\tremaining: 6m 49s\n",
            "316:\tlearn: 1.2716701\ttotal: 3m 10s\tremaining: 6m 49s\n",
            "317:\tlearn: 1.2686467\ttotal: 3m 10s\tremaining: 6m 48s\n",
            "318:\tlearn: 1.2662116\ttotal: 3m 11s\tremaining: 6m 48s\n",
            "319:\tlearn: 1.2635453\ttotal: 3m 11s\tremaining: 6m 47s\n",
            "320:\tlearn: 1.2608888\ttotal: 3m 12s\tremaining: 6m 47s\n",
            "321:\tlearn: 1.2586870\ttotal: 3m 12s\tremaining: 6m 46s\n",
            "322:\tlearn: 1.2559869\ttotal: 3m 13s\tremaining: 6m 45s\n",
            "323:\tlearn: 1.2534260\ttotal: 3m 14s\tremaining: 6m 45s\n",
            "324:\tlearn: 1.2507334\ttotal: 3m 14s\tremaining: 6m 44s\n",
            "325:\tlearn: 1.2481090\ttotal: 3m 15s\tremaining: 6m 43s\n",
            "326:\tlearn: 1.2459092\ttotal: 3m 15s\tremaining: 6m 42s\n",
            "327:\tlearn: 1.2437875\ttotal: 3m 16s\tremaining: 6m 42s\n",
            "328:\tlearn: 1.2415240\ttotal: 3m 16s\tremaining: 6m 41s\n",
            "329:\tlearn: 1.2389726\ttotal: 3m 17s\tremaining: 6m 41s\n",
            "330:\tlearn: 1.2363490\ttotal: 3m 18s\tremaining: 6m 40s\n",
            "331:\tlearn: 1.2336938\ttotal: 3m 18s\tremaining: 6m 39s\n",
            "332:\tlearn: 1.2311972\ttotal: 3m 19s\tremaining: 6m 39s\n",
            "333:\tlearn: 1.2286501\ttotal: 3m 20s\tremaining: 6m 38s\n",
            "334:\tlearn: 1.2262578\ttotal: 3m 20s\tremaining: 6m 38s\n",
            "335:\tlearn: 1.2240294\ttotal: 3m 21s\tremaining: 6m 38s\n",
            "336:\tlearn: 1.2216656\ttotal: 3m 22s\tremaining: 6m 37s\n",
            "337:\tlearn: 1.2190704\ttotal: 3m 22s\tremaining: 6m 36s\n",
            "338:\tlearn: 1.2170163\ttotal: 3m 23s\tremaining: 6m 36s\n",
            "339:\tlearn: 1.2145284\ttotal: 3m 23s\tremaining: 6m 35s\n",
            "340:\tlearn: 1.2124302\ttotal: 3m 24s\tremaining: 6m 34s\n",
            "341:\tlearn: 1.2103792\ttotal: 3m 24s\tremaining: 6m 33s\n",
            "342:\tlearn: 1.2083629\ttotal: 3m 25s\tremaining: 6m 33s\n",
            "343:\tlearn: 1.2057207\ttotal: 3m 25s\tremaining: 6m 32s\n",
            "344:\tlearn: 1.2034677\ttotal: 3m 26s\tremaining: 6m 31s\n",
            "345:\tlearn: 1.2013908\ttotal: 3m 26s\tremaining: 6m 31s\n",
            "346:\tlearn: 1.1986465\ttotal: 3m 27s\tremaining: 6m 30s\n",
            "347:\tlearn: 1.1963799\ttotal: 3m 28s\tremaining: 6m 29s\n",
            "348:\tlearn: 1.1939782\ttotal: 3m 28s\tremaining: 6m 29s\n",
            "349:\tlearn: 1.1921416\ttotal: 3m 29s\tremaining: 6m 28s\n",
            "350:\tlearn: 1.1895598\ttotal: 3m 29s\tremaining: 6m 27s\n",
            "351:\tlearn: 1.1879762\ttotal: 3m 30s\tremaining: 6m 27s\n",
            "352:\tlearn: 1.1855600\ttotal: 3m 30s\tremaining: 6m 26s\n",
            "353:\tlearn: 1.1837496\ttotal: 3m 31s\tremaining: 6m 25s\n",
            "354:\tlearn: 1.1815673\ttotal: 3m 31s\tremaining: 6m 25s\n",
            "355:\tlearn: 1.1793300\ttotal: 3m 32s\tremaining: 6m 24s\n",
            "356:\tlearn: 1.1767308\ttotal: 3m 33s\tremaining: 6m 24s\n",
            "357:\tlearn: 1.1745440\ttotal: 3m 33s\tremaining: 6m 23s\n",
            "358:\tlearn: 1.1724023\ttotal: 3m 34s\tremaining: 6m 22s\n",
            "359:\tlearn: 1.1701536\ttotal: 3m 35s\tremaining: 6m 22s\n",
            "360:\tlearn: 1.1679458\ttotal: 3m 35s\tremaining: 6m 21s\n",
            "361:\tlearn: 1.1659195\ttotal: 3m 36s\tremaining: 6m 20s\n",
            "362:\tlearn: 1.1642499\ttotal: 3m 36s\tremaining: 6m 20s\n",
            "363:\tlearn: 1.1624747\ttotal: 3m 37s\tremaining: 6m 19s\n",
            "364:\tlearn: 1.1600351\ttotal: 3m 37s\tremaining: 6m 18s\n",
            "365:\tlearn: 1.1582304\ttotal: 3m 38s\tremaining: 6m 17s\n",
            "366:\tlearn: 1.1565865\ttotal: 3m 38s\tremaining: 6m 17s\n",
            "367:\tlearn: 1.1541671\ttotal: 3m 39s\tremaining: 6m 16s\n",
            "368:\tlearn: 1.1524799\ttotal: 3m 39s\tremaining: 6m 15s\n",
            "369:\tlearn: 1.1506942\ttotal: 3m 40s\tremaining: 6m 15s\n",
            "370:\tlearn: 1.1483611\ttotal: 3m 40s\tremaining: 6m 14s\n",
            "371:\tlearn: 1.1468949\ttotal: 3m 41s\tremaining: 6m 13s\n",
            "372:\tlearn: 1.1447951\ttotal: 3m 41s\tremaining: 6m 12s\n",
            "373:\tlearn: 1.1428500\ttotal: 3m 42s\tremaining: 6m 12s\n",
            "374:\tlearn: 1.1409427\ttotal: 3m 42s\tremaining: 6m 11s\n",
            "375:\tlearn: 1.1388862\ttotal: 3m 43s\tremaining: 6m 10s\n",
            "376:\tlearn: 1.1366868\ttotal: 3m 44s\tremaining: 6m 10s\n",
            "377:\tlearn: 1.1344472\ttotal: 3m 44s\tremaining: 6m 9s\n",
            "378:\tlearn: 1.1321510\ttotal: 3m 45s\tremaining: 6m 9s\n",
            "379:\tlearn: 1.1296386\ttotal: 3m 46s\tremaining: 6m 9s\n",
            "380:\tlearn: 1.1280123\ttotal: 3m 46s\tremaining: 6m 8s\n",
            "381:\tlearn: 1.1255869\ttotal: 3m 47s\tremaining: 6m 7s\n",
            "382:\tlearn: 1.1237249\ttotal: 3m 47s\tremaining: 6m 6s\n",
            "383:\tlearn: 1.1220025\ttotal: 3m 48s\tremaining: 6m 6s\n",
            "384:\tlearn: 1.1202114\ttotal: 3m 48s\tremaining: 6m 5s\n",
            "385:\tlearn: 1.1181677\ttotal: 3m 49s\tremaining: 6m 4s\n",
            "386:\tlearn: 1.1159349\ttotal: 3m 49s\tremaining: 6m 4s\n",
            "387:\tlearn: 1.1141347\ttotal: 3m 50s\tremaining: 6m 3s\n",
            "388:\tlearn: 1.1126866\ttotal: 3m 50s\tremaining: 6m 2s\n",
            "389:\tlearn: 1.1104023\ttotal: 3m 51s\tremaining: 6m 2s\n",
            "390:\tlearn: 1.1081253\ttotal: 3m 52s\tremaining: 6m 1s\n",
            "391:\tlearn: 1.1062544\ttotal: 3m 52s\tremaining: 6m\n",
            "392:\tlearn: 1.1044098\ttotal: 3m 53s\tremaining: 6m\n",
            "393:\tlearn: 1.1026137\ttotal: 3m 53s\tremaining: 5m 59s\n",
            "394:\tlearn: 1.1001839\ttotal: 3m 54s\tremaining: 5m 59s\n",
            "395:\tlearn: 1.0983561\ttotal: 3m 54s\tremaining: 5m 58s\n",
            "396:\tlearn: 1.0965400\ttotal: 3m 55s\tremaining: 5m 57s\n",
            "397:\tlearn: 1.0946886\ttotal: 3m 56s\tremaining: 5m 57s\n",
            "398:\tlearn: 1.0928209\ttotal: 3m 56s\tremaining: 5m 56s\n",
            "399:\tlearn: 1.0907684\ttotal: 3m 57s\tremaining: 5m 55s\n",
            "400:\tlearn: 1.0885150\ttotal: 3m 57s\tremaining: 5m 55s\n",
            "401:\tlearn: 1.0860628\ttotal: 3m 58s\tremaining: 5m 54s\n",
            "402:\tlearn: 1.0839760\ttotal: 3m 59s\tremaining: 5m 54s\n",
            "403:\tlearn: 1.0819704\ttotal: 3m 59s\tremaining: 5m 53s\n",
            "404:\tlearn: 1.0800161\ttotal: 4m\tremaining: 5m 52s\n",
            "405:\tlearn: 1.0781640\ttotal: 4m\tremaining: 5m 52s\n",
            "406:\tlearn: 1.0762822\ttotal: 4m 1s\tremaining: 5m 51s\n",
            "407:\tlearn: 1.0745179\ttotal: 4m 1s\tremaining: 5m 50s\n",
            "408:\tlearn: 1.0729004\ttotal: 4m 2s\tremaining: 5m 50s\n",
            "409:\tlearn: 1.0709093\ttotal: 4m 2s\tremaining: 5m 49s\n",
            "410:\tlearn: 1.0691501\ttotal: 4m 3s\tremaining: 5m 48s\n",
            "411:\tlearn: 1.0674526\ttotal: 4m 3s\tremaining: 5m 48s\n",
            "412:\tlearn: 1.0653103\ttotal: 4m 4s\tremaining: 5m 47s\n",
            "413:\tlearn: 1.0630603\ttotal: 4m 5s\tremaining: 5m 46s\n",
            "414:\tlearn: 1.0610985\ttotal: 4m 5s\tremaining: 5m 46s\n",
            "415:\tlearn: 1.0594970\ttotal: 4m 6s\tremaining: 5m 45s\n",
            "416:\tlearn: 1.0574532\ttotal: 4m 6s\tremaining: 5m 44s\n",
            "417:\tlearn: 1.0561049\ttotal: 4m 7s\tremaining: 5m 44s\n",
            "418:\tlearn: 1.0545119\ttotal: 4m 7s\tremaining: 5m 43s\n",
            "419:\tlearn: 1.0519711\ttotal: 4m 8s\tremaining: 5m 42s\n",
            "420:\tlearn: 1.0502243\ttotal: 4m 8s\tremaining: 5m 42s\n",
            "421:\tlearn: 1.0483764\ttotal: 4m 9s\tremaining: 5m 41s\n",
            "422:\tlearn: 1.0470269\ttotal: 4m 10s\tremaining: 5m 41s\n",
            "423:\tlearn: 1.0450712\ttotal: 4m 10s\tremaining: 5m 40s\n",
            "424:\tlearn: 1.0434764\ttotal: 4m 11s\tremaining: 5m 40s\n",
            "425:\tlearn: 1.0419291\ttotal: 4m 11s\tremaining: 5m 39s\n",
            "426:\tlearn: 1.0404375\ttotal: 4m 12s\tremaining: 5m 38s\n",
            "427:\tlearn: 1.0388076\ttotal: 4m 12s\tremaining: 5m 37s\n",
            "428:\tlearn: 1.0367360\ttotal: 4m 13s\tremaining: 5m 37s\n",
            "429:\tlearn: 1.0351540\ttotal: 4m 13s\tremaining: 5m 36s\n",
            "430:\tlearn: 1.0335901\ttotal: 4m 14s\tremaining: 5m 35s\n",
            "431:\tlearn: 1.0317188\ttotal: 4m 14s\tremaining: 5m 35s\n",
            "432:\tlearn: 1.0308377\ttotal: 4m 15s\tremaining: 5m 34s\n",
            "433:\tlearn: 1.0292003\ttotal: 4m 15s\tremaining: 5m 33s\n",
            "434:\tlearn: 1.0281961\ttotal: 4m 16s\tremaining: 5m 32s\n",
            "435:\tlearn: 1.0265069\ttotal: 4m 16s\tremaining: 5m 32s\n",
            "436:\tlearn: 1.0242957\ttotal: 4m 17s\tremaining: 5m 31s\n",
            "437:\tlearn: 1.0225262\ttotal: 4m 17s\tremaining: 5m 30s\n",
            "438:\tlearn: 1.0203081\ttotal: 4m 18s\tremaining: 5m 30s\n",
            "439:\tlearn: 1.0186789\ttotal: 4m 19s\tremaining: 5m 29s\n",
            "440:\tlearn: 1.0171190\ttotal: 4m 19s\tremaining: 5m 28s\n",
            "441:\tlearn: 1.0148400\ttotal: 4m 20s\tremaining: 5m 28s\n",
            "442:\tlearn: 1.0136909\ttotal: 4m 20s\tremaining: 5m 27s\n",
            "443:\tlearn: 1.0118214\ttotal: 4m 21s\tremaining: 5m 27s\n",
            "444:\tlearn: 1.0102202\ttotal: 4m 21s\tremaining: 5m 26s\n",
            "445:\tlearn: 1.0084326\ttotal: 4m 22s\tremaining: 5m 26s\n",
            "446:\tlearn: 1.0068318\ttotal: 4m 23s\tremaining: 5m 25s\n",
            "447:\tlearn: 1.0051253\ttotal: 4m 23s\tremaining: 5m 24s\n",
            "448:\tlearn: 1.0036700\ttotal: 4m 24s\tremaining: 5m 24s\n",
            "449:\tlearn: 1.0021422\ttotal: 4m 24s\tremaining: 5m 23s\n",
            "450:\tlearn: 0.9999725\ttotal: 4m 25s\tremaining: 5m 23s\n",
            "451:\tlearn: 0.9985132\ttotal: 4m 25s\tremaining: 5m 22s\n",
            "452:\tlearn: 0.9969481\ttotal: 4m 26s\tremaining: 5m 21s\n",
            "453:\tlearn: 0.9954244\ttotal: 4m 26s\tremaining: 5m 20s\n",
            "454:\tlearn: 0.9944560\ttotal: 4m 27s\tremaining: 5m 20s\n",
            "455:\tlearn: 0.9931260\ttotal: 4m 27s\tremaining: 5m 19s\n",
            "456:\tlearn: 0.9914807\ttotal: 4m 28s\tremaining: 5m 18s\n",
            "457:\tlearn: 0.9900696\ttotal: 4m 28s\tremaining: 5m 18s\n",
            "458:\tlearn: 0.9881694\ttotal: 4m 29s\tremaining: 5m 17s\n",
            "459:\tlearn: 0.9866628\ttotal: 4m 29s\tremaining: 5m 16s\n",
            "460:\tlearn: 0.9845876\ttotal: 4m 30s\tremaining: 5m 16s\n",
            "461:\tlearn: 0.9827483\ttotal: 4m 31s\tremaining: 5m 15s\n",
            "462:\tlearn: 0.9807224\ttotal: 4m 31s\tremaining: 5m 15s\n",
            "463:\tlearn: 0.9792490\ttotal: 4m 32s\tremaining: 5m 14s\n",
            "464:\tlearn: 0.9774894\ttotal: 4m 32s\tremaining: 5m 14s\n",
            "465:\tlearn: 0.9757481\ttotal: 4m 33s\tremaining: 5m 13s\n",
            "466:\tlearn: 0.9746600\ttotal: 4m 34s\tremaining: 5m 12s\n",
            "467:\tlearn: 0.9730860\ttotal: 4m 34s\tremaining: 5m 12s\n",
            "468:\tlearn: 0.9714347\ttotal: 4m 35s\tremaining: 5m 11s\n",
            "469:\tlearn: 0.9696574\ttotal: 4m 35s\tremaining: 5m 11s\n",
            "470:\tlearn: 0.9678158\ttotal: 4m 36s\tremaining: 5m 10s\n",
            "471:\tlearn: 0.9660927\ttotal: 4m 37s\tremaining: 5m 9s\n",
            "472:\tlearn: 0.9643464\ttotal: 4m 37s\tremaining: 5m 9s\n",
            "473:\tlearn: 0.9628016\ttotal: 4m 38s\tremaining: 5m 8s\n",
            "474:\tlearn: 0.9618069\ttotal: 4m 38s\tremaining: 5m 8s\n",
            "475:\tlearn: 0.9604318\ttotal: 4m 39s\tremaining: 5m 7s\n",
            "476:\tlearn: 0.9586695\ttotal: 4m 39s\tremaining: 5m 6s\n",
            "477:\tlearn: 0.9576261\ttotal: 4m 40s\tremaining: 5m 6s\n",
            "478:\tlearn: 0.9563256\ttotal: 4m 40s\tremaining: 5m 5s\n",
            "479:\tlearn: 0.9551728\ttotal: 4m 41s\tremaining: 5m 4s\n",
            "480:\tlearn: 0.9535240\ttotal: 4m 41s\tremaining: 5m 3s\n",
            "481:\tlearn: 0.9520002\ttotal: 4m 42s\tremaining: 5m 3s\n",
            "482:\tlearn: 0.9510162\ttotal: 4m 42s\tremaining: 5m 2s\n",
            "483:\tlearn: 0.9499135\ttotal: 4m 43s\tremaining: 5m 1s\n",
            "484:\tlearn: 0.9483031\ttotal: 4m 43s\tremaining: 5m 1s\n",
            "485:\tlearn: 0.9467371\ttotal: 4m 44s\tremaining: 5m\n",
            "486:\tlearn: 0.9454986\ttotal: 4m 44s\tremaining: 4m 59s\n",
            "487:\tlearn: 0.9437868\ttotal: 4m 45s\tremaining: 4m 59s\n",
            "488:\tlearn: 0.9420989\ttotal: 4m 45s\tremaining: 4m 58s\n",
            "489:\tlearn: 0.9407234\ttotal: 4m 46s\tremaining: 4m 58s\n",
            "490:\tlearn: 0.9393403\ttotal: 4m 47s\tremaining: 4m 57s\n",
            "491:\tlearn: 0.9381015\ttotal: 4m 47s\tremaining: 4m 57s\n",
            "492:\tlearn: 0.9368228\ttotal: 4m 48s\tremaining: 4m 56s\n",
            "493:\tlearn: 0.9357432\ttotal: 4m 48s\tremaining: 4m 55s\n",
            "494:\tlearn: 0.9341203\ttotal: 4m 49s\tremaining: 4m 55s\n",
            "495:\tlearn: 0.9328030\ttotal: 4m 49s\tremaining: 4m 54s\n",
            "496:\tlearn: 0.9306827\ttotal: 4m 50s\tremaining: 4m 53s\n",
            "497:\tlearn: 0.9294273\ttotal: 4m 50s\tremaining: 4m 53s\n",
            "498:\tlearn: 0.9277926\ttotal: 4m 51s\tremaining: 4m 52s\n",
            "499:\tlearn: 0.9264852\ttotal: 4m 52s\tremaining: 4m 52s\n",
            "500:\tlearn: 0.9253417\ttotal: 4m 52s\tremaining: 4m 51s\n",
            "501:\tlearn: 0.9239246\ttotal: 4m 52s\tremaining: 4m 50s\n",
            "502:\tlearn: 0.9224951\ttotal: 4m 53s\tremaining: 4m 50s\n",
            "503:\tlearn: 0.9208092\ttotal: 4m 54s\tremaining: 4m 49s\n",
            "504:\tlearn: 0.9191467\ttotal: 4m 54s\tremaining: 4m 48s\n",
            "505:\tlearn: 0.9174656\ttotal: 4m 55s\tremaining: 4m 48s\n",
            "506:\tlearn: 0.9156880\ttotal: 4m 55s\tremaining: 4m 47s\n",
            "507:\tlearn: 0.9143941\ttotal: 4m 56s\tremaining: 4m 47s\n",
            "508:\tlearn: 0.9129275\ttotal: 4m 56s\tremaining: 4m 46s\n",
            "509:\tlearn: 0.9115866\ttotal: 4m 57s\tremaining: 4m 45s\n",
            "510:\tlearn: 0.9100413\ttotal: 4m 58s\tremaining: 4m 45s\n",
            "511:\tlearn: 0.9090506\ttotal: 4m 58s\tremaining: 4m 44s\n",
            "512:\tlearn: 0.9080037\ttotal: 4m 59s\tremaining: 4m 43s\n",
            "513:\tlearn: 0.9064167\ttotal: 4m 59s\tremaining: 4m 43s\n",
            "514:\tlearn: 0.9048447\ttotal: 5m\tremaining: 4m 42s\n",
            "515:\tlearn: 0.9031573\ttotal: 5m\tremaining: 4m 42s\n",
            "516:\tlearn: 0.9018012\ttotal: 5m 1s\tremaining: 4m 41s\n",
            "517:\tlearn: 0.9005892\ttotal: 5m 1s\tremaining: 4m 40s\n",
            "518:\tlearn: 0.8991940\ttotal: 5m 2s\tremaining: 4m 40s\n",
            "519:\tlearn: 0.8978343\ttotal: 5m 2s\tremaining: 4m 39s\n",
            "520:\tlearn: 0.8964424\ttotal: 5m 3s\tremaining: 4m 38s\n",
            "521:\tlearn: 0.8950343\ttotal: 5m 3s\tremaining: 4m 38s\n",
            "522:\tlearn: 0.8934297\ttotal: 5m 4s\tremaining: 4m 37s\n",
            "523:\tlearn: 0.8916738\ttotal: 5m 5s\tremaining: 4m 37s\n",
            "524:\tlearn: 0.8906356\ttotal: 5m 5s\tremaining: 4m 36s\n",
            "525:\tlearn: 0.8888875\ttotal: 5m 6s\tremaining: 4m 35s\n",
            "526:\tlearn: 0.8873701\ttotal: 5m 6s\tremaining: 4m 35s\n",
            "527:\tlearn: 0.8862807\ttotal: 5m 7s\tremaining: 4m 34s\n",
            "528:\tlearn: 0.8852080\ttotal: 5m 7s\tremaining: 4m 33s\n",
            "529:\tlearn: 0.8838213\ttotal: 5m 8s\tremaining: 4m 33s\n",
            "530:\tlearn: 0.8825255\ttotal: 5m 8s\tremaining: 4m 32s\n",
            "531:\tlearn: 0.8814404\ttotal: 5m 9s\tremaining: 4m 32s\n",
            "532:\tlearn: 0.8801189\ttotal: 5m 9s\tremaining: 4m 31s\n",
            "533:\tlearn: 0.8784134\ttotal: 5m 10s\tremaining: 4m 30s\n",
            "534:\tlearn: 0.8768719\ttotal: 5m 11s\tremaining: 4m 30s\n",
            "535:\tlearn: 0.8758558\ttotal: 5m 11s\tremaining: 4m 29s\n",
            "536:\tlearn: 0.8748283\ttotal: 5m 12s\tremaining: 4m 29s\n",
            "537:\tlearn: 0.8736320\ttotal: 5m 12s\tremaining: 4m 28s\n",
            "538:\tlearn: 0.8720673\ttotal: 5m 13s\tremaining: 4m 27s\n",
            "539:\tlearn: 0.8711216\ttotal: 5m 13s\tremaining: 4m 27s\n",
            "540:\tlearn: 0.8700561\ttotal: 5m 14s\tremaining: 4m 26s\n",
            "541:\tlearn: 0.8687475\ttotal: 5m 14s\tremaining: 4m 25s\n",
            "542:\tlearn: 0.8669767\ttotal: 5m 15s\tremaining: 4m 25s\n",
            "543:\tlearn: 0.8662186\ttotal: 5m 15s\tremaining: 4m 24s\n",
            "544:\tlearn: 0.8647279\ttotal: 5m 16s\tremaining: 4m 24s\n",
            "545:\tlearn: 0.8637866\ttotal: 5m 16s\tremaining: 4m 23s\n",
            "546:\tlearn: 0.8624879\ttotal: 5m 17s\tremaining: 4m 22s\n",
            "547:\tlearn: 0.8610817\ttotal: 5m 17s\tremaining: 4m 22s\n",
            "548:\tlearn: 0.8597055\ttotal: 5m 18s\tremaining: 4m 21s\n",
            "549:\tlearn: 0.8578942\ttotal: 5m 19s\tremaining: 4m 21s\n",
            "550:\tlearn: 0.8563656\ttotal: 5m 19s\tremaining: 4m 20s\n",
            "551:\tlearn: 0.8553434\ttotal: 5m 20s\tremaining: 4m 19s\n",
            "552:\tlearn: 0.8541810\ttotal: 5m 20s\tremaining: 4m 19s\n",
            "553:\tlearn: 0.8523993\ttotal: 5m 21s\tremaining: 4m 18s\n",
            "554:\tlearn: 0.8509485\ttotal: 5m 21s\tremaining: 4m 17s\n",
            "555:\tlearn: 0.8498256\ttotal: 5m 22s\tremaining: 4m 17s\n",
            "556:\tlearn: 0.8488494\ttotal: 5m 22s\tremaining: 4m 16s\n",
            "557:\tlearn: 0.8472581\ttotal: 5m 23s\tremaining: 4m 16s\n",
            "558:\tlearn: 0.8462936\ttotal: 5m 24s\tremaining: 4m 15s\n",
            "559:\tlearn: 0.8452795\ttotal: 5m 24s\tremaining: 4m 15s\n",
            "560:\tlearn: 0.8441471\ttotal: 5m 25s\tremaining: 4m 14s\n",
            "561:\tlearn: 0.8429435\ttotal: 5m 25s\tremaining: 4m 13s\n",
            "562:\tlearn: 0.8415985\ttotal: 5m 26s\tremaining: 4m 13s\n",
            "563:\tlearn: 0.8403928\ttotal: 5m 26s\tremaining: 4m 12s\n",
            "564:\tlearn: 0.8392317\ttotal: 5m 27s\tremaining: 4m 11s\n",
            "565:\tlearn: 0.8376643\ttotal: 5m 27s\tremaining: 4m 11s\n",
            "566:\tlearn: 0.8364641\ttotal: 5m 28s\tremaining: 4m 10s\n",
            "567:\tlearn: 0.8350509\ttotal: 5m 28s\tremaining: 4m 10s\n",
            "568:\tlearn: 0.8334660\ttotal: 5m 29s\tremaining: 4m 9s\n",
            "569:\tlearn: 0.8323512\ttotal: 5m 29s\tremaining: 4m 8s\n",
            "570:\tlearn: 0.8315525\ttotal: 5m 30s\tremaining: 4m 8s\n",
            "571:\tlearn: 0.8307116\ttotal: 5m 30s\tremaining: 4m 7s\n",
            "572:\tlearn: 0.8297428\ttotal: 5m 31s\tremaining: 4m 6s\n",
            "573:\tlearn: 0.8287245\ttotal: 5m 31s\tremaining: 4m 6s\n",
            "574:\tlearn: 0.8277382\ttotal: 5m 32s\tremaining: 4m 5s\n",
            "575:\tlearn: 0.8266942\ttotal: 5m 32s\tremaining: 4m 4s\n",
            "576:\tlearn: 0.8252159\ttotal: 5m 33s\tremaining: 4m 4s\n",
            "577:\tlearn: 0.8242135\ttotal: 5m 33s\tremaining: 4m 3s\n",
            "578:\tlearn: 0.8232549\ttotal: 5m 34s\tremaining: 4m 3s\n",
            "579:\tlearn: 0.8221307\ttotal: 5m 34s\tremaining: 4m 2s\n",
            "580:\tlearn: 0.8210556\ttotal: 5m 35s\tremaining: 4m 1s\n",
            "581:\tlearn: 0.8200827\ttotal: 5m 35s\tremaining: 4m 1s\n",
            "582:\tlearn: 0.8188422\ttotal: 5m 36s\tremaining: 4m\n",
            "583:\tlearn: 0.8179980\ttotal: 5m 37s\tremaining: 4m\n",
            "584:\tlearn: 0.8171399\ttotal: 5m 37s\tremaining: 3m 59s\n",
            "585:\tlearn: 0.8163566\ttotal: 5m 37s\tremaining: 3m 58s\n",
            "586:\tlearn: 0.8155152\ttotal: 5m 38s\tremaining: 3m 58s\n",
            "587:\tlearn: 0.8144278\ttotal: 5m 38s\tremaining: 3m 57s\n",
            "588:\tlearn: 0.8132023\ttotal: 5m 39s\tremaining: 3m 56s\n",
            "589:\tlearn: 0.8118318\ttotal: 5m 39s\tremaining: 3m 56s\n",
            "590:\tlearn: 0.8105623\ttotal: 5m 40s\tremaining: 3m 55s\n",
            "591:\tlearn: 0.8095607\ttotal: 5m 41s\tremaining: 3m 55s\n",
            "592:\tlearn: 0.8085407\ttotal: 5m 41s\tremaining: 3m 54s\n",
            "593:\tlearn: 0.8072246\ttotal: 5m 42s\tremaining: 3m 53s\n",
            "594:\tlearn: 0.8061651\ttotal: 5m 42s\tremaining: 3m 53s\n",
            "595:\tlearn: 0.8050895\ttotal: 5m 43s\tremaining: 3m 52s\n",
            "596:\tlearn: 0.8043092\ttotal: 5m 43s\tremaining: 3m 51s\n",
            "597:\tlearn: 0.8029014\ttotal: 5m 44s\tremaining: 3m 51s\n",
            "598:\tlearn: 0.8013974\ttotal: 5m 44s\tremaining: 3m 50s\n",
            "599:\tlearn: 0.8002407\ttotal: 5m 45s\tremaining: 3m 50s\n",
            "600:\tlearn: 0.7989115\ttotal: 5m 45s\tremaining: 3m 49s\n",
            "601:\tlearn: 0.7981044\ttotal: 5m 46s\tremaining: 3m 48s\n",
            "602:\tlearn: 0.7973519\ttotal: 5m 46s\tremaining: 3m 48s\n",
            "603:\tlearn: 0.7960123\ttotal: 5m 47s\tremaining: 3m 47s\n",
            "604:\tlearn: 0.7953040\ttotal: 5m 47s\tremaining: 3m 47s\n",
            "605:\tlearn: 0.7938887\ttotal: 5m 48s\tremaining: 3m 46s\n",
            "606:\tlearn: 0.7930967\ttotal: 5m 49s\tremaining: 3m 45s\n",
            "607:\tlearn: 0.7923180\ttotal: 5m 49s\tremaining: 3m 45s\n",
            "608:\tlearn: 0.7912825\ttotal: 5m 50s\tremaining: 3m 44s\n",
            "609:\tlearn: 0.7901928\ttotal: 5m 50s\tremaining: 3m 44s\n",
            "610:\tlearn: 0.7892865\ttotal: 5m 51s\tremaining: 3m 43s\n",
            "611:\tlearn: 0.7880310\ttotal: 5m 51s\tremaining: 3m 42s\n",
            "612:\tlearn: 0.7868838\ttotal: 5m 52s\tremaining: 3m 42s\n",
            "613:\tlearn: 0.7858577\ttotal: 5m 52s\tremaining: 3m 41s\n",
            "614:\tlearn: 0.7849214\ttotal: 5m 53s\tremaining: 3m 41s\n",
            "615:\tlearn: 0.7839831\ttotal: 5m 53s\tremaining: 3m 40s\n",
            "616:\tlearn: 0.7828319\ttotal: 5m 54s\tremaining: 3m 39s\n",
            "617:\tlearn: 0.7818597\ttotal: 5m 54s\tremaining: 3m 39s\n",
            "618:\tlearn: 0.7810407\ttotal: 5m 55s\tremaining: 3m 38s\n",
            "619:\tlearn: 0.7797330\ttotal: 5m 55s\tremaining: 3m 37s\n",
            "620:\tlearn: 0.7786289\ttotal: 5m 56s\tremaining: 3m 37s\n",
            "621:\tlearn: 0.7774988\ttotal: 5m 56s\tremaining: 3m 36s\n",
            "622:\tlearn: 0.7764039\ttotal: 5m 57s\tremaining: 3m 36s\n",
            "623:\tlearn: 0.7752591\ttotal: 5m 57s\tremaining: 3m 35s\n",
            "624:\tlearn: 0.7740569\ttotal: 5m 58s\tremaining: 3m 34s\n",
            "625:\tlearn: 0.7731932\ttotal: 5m 58s\tremaining: 3m 34s\n",
            "626:\tlearn: 0.7721011\ttotal: 5m 59s\tremaining: 3m 33s\n",
            "627:\tlearn: 0.7709797\ttotal: 5m 59s\tremaining: 3m 33s\n",
            "628:\tlearn: 0.7702731\ttotal: 6m\tremaining: 3m 32s\n",
            "629:\tlearn: 0.7696150\ttotal: 6m 1s\tremaining: 3m 32s\n",
            "630:\tlearn: 0.7691281\ttotal: 6m 1s\tremaining: 3m 31s\n",
            "631:\tlearn: 0.7680293\ttotal: 6m 2s\tremaining: 3m 30s\n",
            "632:\tlearn: 0.7670437\ttotal: 6m 2s\tremaining: 3m 30s\n",
            "633:\tlearn: 0.7658278\ttotal: 6m 3s\tremaining: 3m 29s\n",
            "634:\tlearn: 0.7643071\ttotal: 6m 3s\tremaining: 3m 29s\n",
            "635:\tlearn: 0.7627174\ttotal: 6m 4s\tremaining: 3m 28s\n",
            "636:\tlearn: 0.7617004\ttotal: 6m 4s\tremaining: 3m 27s\n",
            "637:\tlearn: 0.7608023\ttotal: 6m 5s\tremaining: 3m 27s\n",
            "638:\tlearn: 0.7594411\ttotal: 6m 5s\tremaining: 3m 26s\n",
            "639:\tlearn: 0.7586862\ttotal: 6m 6s\tremaining: 3m 26s\n",
            "640:\tlearn: 0.7574506\ttotal: 6m 6s\tremaining: 3m 25s\n",
            "641:\tlearn: 0.7562103\ttotal: 6m 7s\tremaining: 3m 24s\n",
            "642:\tlearn: 0.7554429\ttotal: 6m 7s\tremaining: 3m 24s\n",
            "643:\tlearn: 0.7548051\ttotal: 6m 8s\tremaining: 3m 23s\n",
            "644:\tlearn: 0.7535032\ttotal: 6m 8s\tremaining: 3m 23s\n",
            "645:\tlearn: 0.7524202\ttotal: 6m 9s\tremaining: 3m 22s\n",
            "646:\tlearn: 0.7514265\ttotal: 6m 9s\tremaining: 3m 21s\n",
            "647:\tlearn: 0.7504501\ttotal: 6m 10s\tremaining: 3m 21s\n",
            "648:\tlearn: 0.7494165\ttotal: 6m 10s\tremaining: 3m 20s\n",
            "649:\tlearn: 0.7488716\ttotal: 6m 11s\tremaining: 3m 19s\n",
            "650:\tlearn: 0.7473284\ttotal: 6m 12s\tremaining: 3m 19s\n",
            "651:\tlearn: 0.7460691\ttotal: 6m 12s\tremaining: 3m 18s\n",
            "652:\tlearn: 0.7450593\ttotal: 6m 13s\tremaining: 3m 18s\n",
            "653:\tlearn: 0.7439963\ttotal: 6m 13s\tremaining: 3m 17s\n",
            "654:\tlearn: 0.7427251\ttotal: 6m 14s\tremaining: 3m 17s\n",
            "655:\tlearn: 0.7415610\ttotal: 6m 14s\tremaining: 3m 16s\n",
            "656:\tlearn: 0.7403575\ttotal: 6m 15s\tremaining: 3m 16s\n",
            "657:\tlearn: 0.7393611\ttotal: 6m 15s\tremaining: 3m 15s\n",
            "658:\tlearn: 0.7379378\ttotal: 6m 16s\tremaining: 3m 14s\n",
            "659:\tlearn: 0.7368875\ttotal: 6m 17s\tremaining: 3m 14s\n",
            "660:\tlearn: 0.7357976\ttotal: 6m 17s\tremaining: 3m 13s\n",
            "661:\tlearn: 0.7348558\ttotal: 6m 18s\tremaining: 3m 13s\n",
            "662:\tlearn: 0.7341926\ttotal: 6m 18s\tremaining: 3m 12s\n",
            "663:\tlearn: 0.7334475\ttotal: 6m 19s\tremaining: 3m 11s\n",
            "664:\tlearn: 0.7324686\ttotal: 6m 19s\tremaining: 3m 11s\n",
            "665:\tlearn: 0.7314661\ttotal: 6m 20s\tremaining: 3m 10s\n",
            "666:\tlearn: 0.7307942\ttotal: 6m 20s\tremaining: 3m 9s\n",
            "667:\tlearn: 0.7300426\ttotal: 6m 20s\tremaining: 3m 9s\n",
            "668:\tlearn: 0.7290234\ttotal: 6m 21s\tremaining: 3m 8s\n",
            "669:\tlearn: 0.7277761\ttotal: 6m 22s\tremaining: 3m 8s\n",
            "670:\tlearn: 0.7269596\ttotal: 6m 22s\tremaining: 3m 7s\n",
            "671:\tlearn: 0.7260529\ttotal: 6m 23s\tremaining: 3m 6s\n",
            "672:\tlearn: 0.7251199\ttotal: 6m 23s\tremaining: 3m 6s\n",
            "673:\tlearn: 0.7241653\ttotal: 6m 24s\tremaining: 3m 5s\n",
            "674:\tlearn: 0.7228786\ttotal: 6m 24s\tremaining: 3m 5s\n",
            "675:\tlearn: 0.7220424\ttotal: 6m 25s\tremaining: 3m 4s\n",
            "676:\tlearn: 0.7209661\ttotal: 6m 25s\tremaining: 3m 4s\n",
            "677:\tlearn: 0.7201468\ttotal: 6m 26s\tremaining: 3m 3s\n",
            "678:\tlearn: 0.7191158\ttotal: 6m 26s\tremaining: 3m 2s\n",
            "679:\tlearn: 0.7181254\ttotal: 6m 27s\tremaining: 3m 2s\n",
            "680:\tlearn: 0.7173012\ttotal: 6m 27s\tremaining: 3m 1s\n",
            "681:\tlearn: 0.7167337\ttotal: 6m 28s\tremaining: 3m 1s\n",
            "682:\tlearn: 0.7156687\ttotal: 6m 28s\tremaining: 3m\n",
            "683:\tlearn: 0.7150109\ttotal: 6m 29s\tremaining: 2m 59s\n",
            "684:\tlearn: 0.7139288\ttotal: 6m 29s\tremaining: 2m 59s\n",
            "685:\tlearn: 0.7129939\ttotal: 6m 30s\tremaining: 2m 58s\n",
            "686:\tlearn: 0.7123714\ttotal: 6m 30s\tremaining: 2m 58s\n",
            "687:\tlearn: 0.7114249\ttotal: 6m 31s\tremaining: 2m 57s\n",
            "688:\tlearn: 0.7109246\ttotal: 6m 31s\tremaining: 2m 56s\n",
            "689:\tlearn: 0.7100821\ttotal: 6m 32s\tremaining: 2m 56s\n",
            "690:\tlearn: 0.7087949\ttotal: 6m 32s\tremaining: 2m 55s\n",
            "691:\tlearn: 0.7076873\ttotal: 6m 33s\tremaining: 2m 55s\n",
            "692:\tlearn: 0.7065356\ttotal: 6m 34s\tremaining: 2m 54s\n",
            "693:\tlearn: 0.7057755\ttotal: 6m 34s\tremaining: 2m 53s\n",
            "694:\tlearn: 0.7047376\ttotal: 6m 35s\tremaining: 2m 53s\n",
            "695:\tlearn: 0.7041183\ttotal: 6m 35s\tremaining: 2m 52s\n",
            "696:\tlearn: 0.7033279\ttotal: 6m 36s\tremaining: 2m 52s\n",
            "697:\tlearn: 0.7022111\ttotal: 6m 36s\tremaining: 2m 51s\n",
            "698:\tlearn: 0.7014617\ttotal: 6m 37s\tremaining: 2m 51s\n",
            "699:\tlearn: 0.7007722\ttotal: 6m 37s\tremaining: 2m 50s\n",
            "700:\tlearn: 0.6997178\ttotal: 6m 38s\tremaining: 2m 49s\n",
            "701:\tlearn: 0.6983121\ttotal: 6m 38s\tremaining: 2m 49s\n",
            "702:\tlearn: 0.6973291\ttotal: 6m 39s\tremaining: 2m 48s\n",
            "703:\tlearn: 0.6962576\ttotal: 6m 39s\tremaining: 2m 48s\n",
            "704:\tlearn: 0.6955522\ttotal: 6m 40s\tremaining: 2m 47s\n",
            "705:\tlearn: 0.6945916\ttotal: 6m 41s\tremaining: 2m 46s\n",
            "706:\tlearn: 0.6938991\ttotal: 6m 41s\tremaining: 2m 46s\n",
            "707:\tlearn: 0.6926464\ttotal: 6m 42s\tremaining: 2m 45s\n",
            "708:\tlearn: 0.6914823\ttotal: 6m 42s\tremaining: 2m 45s\n",
            "709:\tlearn: 0.6908747\ttotal: 6m 42s\tremaining: 2m 44s\n",
            "710:\tlearn: 0.6900070\ttotal: 6m 43s\tremaining: 2m 43s\n",
            "711:\tlearn: 0.6888230\ttotal: 6m 44s\tremaining: 2m 43s\n",
            "712:\tlearn: 0.6880530\ttotal: 6m 44s\tremaining: 2m 42s\n",
            "713:\tlearn: 0.6872231\ttotal: 6m 45s\tremaining: 2m 42s\n",
            "714:\tlearn: 0.6861164\ttotal: 6m 45s\tremaining: 2m 41s\n",
            "715:\tlearn: 0.6847170\ttotal: 6m 46s\tremaining: 2m 41s\n",
            "716:\tlearn: 0.6838974\ttotal: 6m 46s\tremaining: 2m 40s\n",
            "717:\tlearn: 0.6827626\ttotal: 6m 47s\tremaining: 2m 39s\n",
            "718:\tlearn: 0.6818856\ttotal: 6m 47s\tremaining: 2m 39s\n",
            "719:\tlearn: 0.6810408\ttotal: 6m 48s\tremaining: 2m 38s\n",
            "720:\tlearn: 0.6799810\ttotal: 6m 49s\tremaining: 2m 38s\n",
            "721:\tlearn: 0.6792476\ttotal: 6m 49s\tremaining: 2m 37s\n",
            "722:\tlearn: 0.6783897\ttotal: 6m 50s\tremaining: 2m 37s\n",
            "723:\tlearn: 0.6775972\ttotal: 6m 50s\tremaining: 2m 36s\n",
            "724:\tlearn: 0.6763056\ttotal: 6m 51s\tremaining: 2m 36s\n",
            "725:\tlearn: 0.6754809\ttotal: 6m 51s\tremaining: 2m 35s\n",
            "726:\tlearn: 0.6743137\ttotal: 6m 52s\tremaining: 2m 34s\n",
            "727:\tlearn: 0.6736890\ttotal: 6m 52s\tremaining: 2m 34s\n",
            "728:\tlearn: 0.6730862\ttotal: 6m 53s\tremaining: 2m 33s\n",
            "729:\tlearn: 0.6719465\ttotal: 6m 53s\tremaining: 2m 33s\n",
            "730:\tlearn: 0.6711087\ttotal: 6m 54s\tremaining: 2m 32s\n",
            "731:\tlearn: 0.6702363\ttotal: 6m 54s\tremaining: 2m 31s\n",
            "732:\tlearn: 0.6694521\ttotal: 6m 55s\tremaining: 2m 31s\n",
            "733:\tlearn: 0.6685086\ttotal: 6m 56s\tremaining: 2m 30s\n",
            "734:\tlearn: 0.6679554\ttotal: 6m 56s\tremaining: 2m 30s\n",
            "735:\tlearn: 0.6669111\ttotal: 6m 57s\tremaining: 2m 29s\n",
            "736:\tlearn: 0.6660144\ttotal: 6m 57s\tremaining: 2m 29s\n",
            "737:\tlearn: 0.6649316\ttotal: 6m 58s\tremaining: 2m 28s\n",
            "738:\tlearn: 0.6638900\ttotal: 6m 58s\tremaining: 2m 27s\n",
            "739:\tlearn: 0.6626408\ttotal: 6m 59s\tremaining: 2m 27s\n",
            "740:\tlearn: 0.6614526\ttotal: 6m 59s\tremaining: 2m 26s\n",
            "741:\tlearn: 0.6605440\ttotal: 7m\tremaining: 2m 26s\n",
            "742:\tlearn: 0.6595085\ttotal: 7m 1s\tremaining: 2m 25s\n",
            "743:\tlearn: 0.6587287\ttotal: 7m 1s\tremaining: 2m 25s\n",
            "744:\tlearn: 0.6576515\ttotal: 7m 2s\tremaining: 2m 24s\n",
            "745:\tlearn: 0.6568546\ttotal: 7m 2s\tremaining: 2m 23s\n",
            "746:\tlearn: 0.6561908\ttotal: 7m 3s\tremaining: 2m 23s\n",
            "747:\tlearn: 0.6554847\ttotal: 7m 3s\tremaining: 2m 22s\n",
            "748:\tlearn: 0.6548738\ttotal: 7m 4s\tremaining: 2m 22s\n",
            "749:\tlearn: 0.6538698\ttotal: 7m 4s\tremaining: 2m 21s\n",
            "750:\tlearn: 0.6531204\ttotal: 7m 5s\tremaining: 2m 20s\n",
            "751:\tlearn: 0.6524629\ttotal: 7m 5s\tremaining: 2m 20s\n",
            "752:\tlearn: 0.6518034\ttotal: 7m 6s\tremaining: 2m 19s\n",
            "753:\tlearn: 0.6508442\ttotal: 7m 6s\tremaining: 2m 19s\n",
            "754:\tlearn: 0.6497294\ttotal: 7m 7s\tremaining: 2m 18s\n",
            "755:\tlearn: 0.6491606\ttotal: 7m 7s\tremaining: 2m 18s\n",
            "756:\tlearn: 0.6484072\ttotal: 7m 8s\tremaining: 2m 17s\n",
            "757:\tlearn: 0.6476432\ttotal: 7m 8s\tremaining: 2m 16s\n",
            "758:\tlearn: 0.6470328\ttotal: 7m 9s\tremaining: 2m 16s\n",
            "759:\tlearn: 0.6464890\ttotal: 7m 9s\tremaining: 2m 15s\n",
            "760:\tlearn: 0.6456513\ttotal: 7m 10s\tremaining: 2m 15s\n",
            "761:\tlearn: 0.6450396\ttotal: 7m 10s\tremaining: 2m 14s\n",
            "762:\tlearn: 0.6444120\ttotal: 7m 10s\tremaining: 2m 13s\n",
            "763:\tlearn: 0.6436551\ttotal: 7m 11s\tremaining: 2m 13s\n",
            "764:\tlearn: 0.6429597\ttotal: 7m 11s\tremaining: 2m 12s\n",
            "765:\tlearn: 0.6421382\ttotal: 7m 12s\tremaining: 2m 12s\n",
            "766:\tlearn: 0.6413932\ttotal: 7m 12s\tremaining: 2m 11s\n",
            "767:\tlearn: 0.6405594\ttotal: 7m 13s\tremaining: 2m 10s\n",
            "768:\tlearn: 0.6399013\ttotal: 7m 14s\tremaining: 2m 10s\n",
            "769:\tlearn: 0.6390587\ttotal: 7m 14s\tremaining: 2m 9s\n",
            "770:\tlearn: 0.6380680\ttotal: 7m 15s\tremaining: 2m 9s\n",
            "771:\tlearn: 0.6368589\ttotal: 7m 15s\tremaining: 2m 8s\n",
            "772:\tlearn: 0.6361938\ttotal: 7m 16s\tremaining: 2m 8s\n",
            "773:\tlearn: 0.6355752\ttotal: 7m 16s\tremaining: 2m 7s\n",
            "774:\tlearn: 0.6350034\ttotal: 7m 17s\tremaining: 2m 6s\n",
            "775:\tlearn: 0.6343512\ttotal: 7m 17s\tremaining: 2m 6s\n",
            "776:\tlearn: 0.6336861\ttotal: 7m 18s\tremaining: 2m 5s\n",
            "777:\tlearn: 0.6328232\ttotal: 7m 18s\tremaining: 2m 5s\n",
            "778:\tlearn: 0.6322292\ttotal: 7m 19s\tremaining: 2m 4s\n",
            "779:\tlearn: 0.6317542\ttotal: 7m 19s\tremaining: 2m 3s\n",
            "780:\tlearn: 0.6309525\ttotal: 7m 20s\tremaining: 2m 3s\n",
            "781:\tlearn: 0.6301375\ttotal: 7m 20s\tremaining: 2m 2s\n",
            "782:\tlearn: 0.6291717\ttotal: 7m 21s\tremaining: 2m 2s\n",
            "783:\tlearn: 0.6284720\ttotal: 7m 21s\tremaining: 2m 1s\n",
            "784:\tlearn: 0.6278249\ttotal: 7m 22s\tremaining: 2m 1s\n",
            "785:\tlearn: 0.6265516\ttotal: 7m 22s\tremaining: 2m\n",
            "786:\tlearn: 0.6255728\ttotal: 7m 23s\tremaining: 1m 59s\n",
            "787:\tlearn: 0.6249922\ttotal: 7m 23s\tremaining: 1m 59s\n",
            "788:\tlearn: 0.6245442\ttotal: 7m 24s\tremaining: 1m 58s\n",
            "789:\tlearn: 0.6238154\ttotal: 7m 24s\tremaining: 1m 58s\n",
            "790:\tlearn: 0.6230085\ttotal: 7m 25s\tremaining: 1m 57s\n",
            "791:\tlearn: 0.6221945\ttotal: 7m 25s\tremaining: 1m 57s\n",
            "792:\tlearn: 0.6212349\ttotal: 7m 26s\tremaining: 1m 56s\n",
            "793:\tlearn: 0.6203333\ttotal: 7m 26s\tremaining: 1m 55s\n",
            "794:\tlearn: 0.6197234\ttotal: 7m 27s\tremaining: 1m 55s\n",
            "795:\tlearn: 0.6191657\ttotal: 7m 27s\tremaining: 1m 54s\n",
            "796:\tlearn: 0.6183746\ttotal: 7m 28s\tremaining: 1m 54s\n",
            "797:\tlearn: 0.6177151\ttotal: 7m 28s\tremaining: 1m 53s\n",
            "798:\tlearn: 0.6169284\ttotal: 7m 29s\tremaining: 1m 53s\n",
            "799:\tlearn: 0.6160495\ttotal: 7m 29s\tremaining: 1m 52s\n",
            "800:\tlearn: 0.6153073\ttotal: 7m 30s\tremaining: 1m 51s\n",
            "801:\tlearn: 0.6146209\ttotal: 7m 30s\tremaining: 1m 51s\n",
            "802:\tlearn: 0.6139959\ttotal: 7m 31s\tremaining: 1m 50s\n",
            "803:\tlearn: 0.6131430\ttotal: 7m 31s\tremaining: 1m 50s\n",
            "804:\tlearn: 0.6125382\ttotal: 7m 32s\tremaining: 1m 49s\n",
            "805:\tlearn: 0.6117484\ttotal: 7m 32s\tremaining: 1m 49s\n",
            "806:\tlearn: 0.6109798\ttotal: 7m 33s\tremaining: 1m 48s\n",
            "807:\tlearn: 0.6100515\ttotal: 7m 33s\tremaining: 1m 47s\n",
            "808:\tlearn: 0.6093744\ttotal: 7m 34s\tremaining: 1m 47s\n",
            "809:\tlearn: 0.6085032\ttotal: 7m 34s\tremaining: 1m 46s\n",
            "810:\tlearn: 0.6076336\ttotal: 7m 35s\tremaining: 1m 46s\n",
            "811:\tlearn: 0.6068531\ttotal: 7m 35s\tremaining: 1m 45s\n",
            "812:\tlearn: 0.6063475\ttotal: 7m 36s\tremaining: 1m 44s\n",
            "813:\tlearn: 0.6054838\ttotal: 7m 36s\tremaining: 1m 44s\n",
            "814:\tlearn: 0.6048921\ttotal: 7m 37s\tremaining: 1m 43s\n",
            "815:\tlearn: 0.6042284\ttotal: 7m 37s\tremaining: 1m 43s\n",
            "816:\tlearn: 0.6036570\ttotal: 7m 38s\tremaining: 1m 42s\n",
            "817:\tlearn: 0.6028002\ttotal: 7m 39s\tremaining: 1m 42s\n",
            "818:\tlearn: 0.6020730\ttotal: 7m 39s\tremaining: 1m 41s\n",
            "819:\tlearn: 0.6014476\ttotal: 7m 40s\tremaining: 1m 41s\n",
            "820:\tlearn: 0.6006403\ttotal: 7m 40s\tremaining: 1m 40s\n",
            "821:\tlearn: 0.6000119\ttotal: 7m 41s\tremaining: 1m 39s\n",
            "822:\tlearn: 0.5994922\ttotal: 7m 41s\tremaining: 1m 39s\n",
            "823:\tlearn: 0.5987215\ttotal: 7m 42s\tremaining: 1m 38s\n",
            "824:\tlearn: 0.5981516\ttotal: 7m 42s\tremaining: 1m 38s\n",
            "825:\tlearn: 0.5977317\ttotal: 7m 43s\tremaining: 1m 37s\n",
            "826:\tlearn: 0.5969047\ttotal: 7m 43s\tremaining: 1m 36s\n",
            "827:\tlearn: 0.5964592\ttotal: 7m 43s\tremaining: 1m 36s\n",
            "828:\tlearn: 0.5957342\ttotal: 7m 44s\tremaining: 1m 35s\n",
            "829:\tlearn: 0.5951403\ttotal: 7m 44s\tremaining: 1m 35s\n",
            "830:\tlearn: 0.5946911\ttotal: 7m 45s\tremaining: 1m 34s\n",
            "831:\tlearn: 0.5942222\ttotal: 7m 45s\tremaining: 1m 34s\n",
            "832:\tlearn: 0.5935315\ttotal: 7m 46s\tremaining: 1m 33s\n",
            "833:\tlearn: 0.5929351\ttotal: 7m 46s\tremaining: 1m 32s\n",
            "834:\tlearn: 0.5923499\ttotal: 7m 47s\tremaining: 1m 32s\n",
            "835:\tlearn: 0.5914587\ttotal: 7m 47s\tremaining: 1m 31s\n",
            "836:\tlearn: 0.5907049\ttotal: 7m 48s\tremaining: 1m 31s\n",
            "837:\tlearn: 0.5901208\ttotal: 7m 48s\tremaining: 1m 30s\n",
            "838:\tlearn: 0.5893366\ttotal: 7m 49s\tremaining: 1m 30s\n",
            "839:\tlearn: 0.5887048\ttotal: 7m 49s\tremaining: 1m 29s\n",
            "840:\tlearn: 0.5882130\ttotal: 7m 50s\tremaining: 1m 28s\n",
            "841:\tlearn: 0.5872283\ttotal: 7m 50s\tremaining: 1m 28s\n",
            "842:\tlearn: 0.5866249\ttotal: 7m 51s\tremaining: 1m 27s\n",
            "843:\tlearn: 0.5860074\ttotal: 7m 52s\tremaining: 1m 27s\n",
            "844:\tlearn: 0.5852568\ttotal: 7m 52s\tremaining: 1m 26s\n",
            "845:\tlearn: 0.5845929\ttotal: 7m 53s\tremaining: 1m 26s\n",
            "846:\tlearn: 0.5837643\ttotal: 7m 53s\tremaining: 1m 25s\n",
            "847:\tlearn: 0.5831627\ttotal: 7m 54s\tremaining: 1m 24s\n",
            "848:\tlearn: 0.5827757\ttotal: 7m 54s\tremaining: 1m 24s\n",
            "849:\tlearn: 0.5823722\ttotal: 7m 54s\tremaining: 1m 23s\n",
            "850:\tlearn: 0.5812286\ttotal: 7m 55s\tremaining: 1m 23s\n",
            "851:\tlearn: 0.5806819\ttotal: 7m 55s\tremaining: 1m 22s\n",
            "852:\tlearn: 0.5801589\ttotal: 7m 56s\tremaining: 1m 22s\n",
            "853:\tlearn: 0.5796404\ttotal: 7m 56s\tremaining: 1m 21s\n",
            "854:\tlearn: 0.5790690\ttotal: 7m 57s\tremaining: 1m 20s\n",
            "855:\tlearn: 0.5783632\ttotal: 7m 57s\tremaining: 1m 20s\n",
            "856:\tlearn: 0.5777076\ttotal: 7m 58s\tremaining: 1m 19s\n",
            "857:\tlearn: 0.5770744\ttotal: 7m 58s\tremaining: 1m 19s\n",
            "858:\tlearn: 0.5763548\ttotal: 7m 59s\tremaining: 1m 18s\n",
            "859:\tlearn: 0.5756139\ttotal: 7m 59s\tremaining: 1m 18s\n",
            "860:\tlearn: 0.5749929\ttotal: 8m\tremaining: 1m 17s\n",
            "861:\tlearn: 0.5741723\ttotal: 8m\tremaining: 1m 16s\n",
            "862:\tlearn: 0.5735414\ttotal: 8m 1s\tremaining: 1m 16s\n",
            "863:\tlearn: 0.5727542\ttotal: 8m 1s\tremaining: 1m 15s\n",
            "864:\tlearn: 0.5722311\ttotal: 8m 2s\tremaining: 1m 15s\n",
            "865:\tlearn: 0.5711623\ttotal: 8m 3s\tremaining: 1m 14s\n",
            "866:\tlearn: 0.5705431\ttotal: 8m 3s\tremaining: 1m 14s\n",
            "867:\tlearn: 0.5699506\ttotal: 8m 4s\tremaining: 1m 13s\n",
            "868:\tlearn: 0.5695427\ttotal: 8m 4s\tremaining: 1m 13s\n",
            "869:\tlearn: 0.5685610\ttotal: 8m 5s\tremaining: 1m 12s\n",
            "870:\tlearn: 0.5677978\ttotal: 8m 5s\tremaining: 1m 11s\n",
            "871:\tlearn: 0.5671805\ttotal: 8m 6s\tremaining: 1m 11s\n",
            "872:\tlearn: 0.5665240\ttotal: 8m 6s\tremaining: 1m 10s\n",
            "873:\tlearn: 0.5658635\ttotal: 8m 7s\tremaining: 1m 10s\n",
            "874:\tlearn: 0.5654290\ttotal: 8m 7s\tremaining: 1m 9s\n",
            "875:\tlearn: 0.5646993\ttotal: 8m 8s\tremaining: 1m 9s\n",
            "876:\tlearn: 0.5642029\ttotal: 8m 8s\tremaining: 1m 8s\n",
            "877:\tlearn: 0.5634625\ttotal: 8m 9s\tremaining: 1m 7s\n",
            "878:\tlearn: 0.5627327\ttotal: 8m 9s\tremaining: 1m 7s\n",
            "879:\tlearn: 0.5621294\ttotal: 8m 10s\tremaining: 1m 6s\n",
            "880:\tlearn: 0.5616762\ttotal: 8m 10s\tremaining: 1m 6s\n",
            "881:\tlearn: 0.5611132\ttotal: 8m 11s\tremaining: 1m 5s\n",
            "882:\tlearn: 0.5603835\ttotal: 8m 11s\tremaining: 1m 5s\n",
            "883:\tlearn: 0.5597660\ttotal: 8m 12s\tremaining: 1m 4s\n",
            "884:\tlearn: 0.5591536\ttotal: 8m 12s\tremaining: 1m 4s\n",
            "885:\tlearn: 0.5584295\ttotal: 8m 13s\tremaining: 1m 3s\n",
            "886:\tlearn: 0.5579211\ttotal: 8m 13s\tremaining: 1m 2s\n",
            "887:\tlearn: 0.5571193\ttotal: 8m 14s\tremaining: 1m 2s\n",
            "888:\tlearn: 0.5566445\ttotal: 8m 14s\tremaining: 1m 1s\n",
            "889:\tlearn: 0.5557974\ttotal: 8m 15s\tremaining: 1m 1s\n",
            "890:\tlearn: 0.5548083\ttotal: 8m 16s\tremaining: 1m\n",
            "891:\tlearn: 0.5543352\ttotal: 8m 16s\tremaining: 1m\n",
            "892:\tlearn: 0.5538993\ttotal: 8m 16s\tremaining: 59.5s\n",
            "893:\tlearn: 0.5531420\ttotal: 8m 17s\tremaining: 59s\n",
            "894:\tlearn: 0.5522968\ttotal: 8m 18s\tremaining: 58.4s\n",
            "895:\tlearn: 0.5516731\ttotal: 8m 18s\tremaining: 57.9s\n",
            "896:\tlearn: 0.5510914\ttotal: 8m 19s\tremaining: 57.3s\n",
            "897:\tlearn: 0.5506978\ttotal: 8m 19s\tremaining: 56.7s\n",
            "898:\tlearn: 0.5499464\ttotal: 8m 19s\tremaining: 56.2s\n",
            "899:\tlearn: 0.5492511\ttotal: 8m 20s\tremaining: 55.6s\n",
            "900:\tlearn: 0.5488223\ttotal: 8m 20s\tremaining: 55s\n",
            "901:\tlearn: 0.5482801\ttotal: 8m 21s\tremaining: 54.5s\n",
            "902:\tlearn: 0.5474683\ttotal: 8m 21s\tremaining: 53.9s\n",
            "903:\tlearn: 0.5468342\ttotal: 8m 22s\tremaining: 53.4s\n",
            "904:\tlearn: 0.5462264\ttotal: 8m 22s\tremaining: 52.8s\n",
            "905:\tlearn: 0.5454006\ttotal: 8m 23s\tremaining: 52.2s\n",
            "906:\tlearn: 0.5447381\ttotal: 8m 24s\tremaining: 51.7s\n",
            "907:\tlearn: 0.5441997\ttotal: 8m 24s\tremaining: 51.1s\n",
            "908:\tlearn: 0.5431930\ttotal: 8m 25s\tremaining: 50.6s\n",
            "909:\tlearn: 0.5426661\ttotal: 8m 25s\tremaining: 50s\n",
            "910:\tlearn: 0.5420780\ttotal: 8m 26s\tremaining: 49.4s\n",
            "911:\tlearn: 0.5415394\ttotal: 8m 26s\tremaining: 48.9s\n",
            "912:\tlearn: 0.5410143\ttotal: 8m 27s\tremaining: 48.3s\n",
            "913:\tlearn: 0.5403210\ttotal: 8m 27s\tremaining: 47.8s\n",
            "914:\tlearn: 0.5398701\ttotal: 8m 28s\tremaining: 47.2s\n",
            "915:\tlearn: 0.5391471\ttotal: 8m 28s\tremaining: 46.7s\n",
            "916:\tlearn: 0.5382646\ttotal: 8m 29s\tremaining: 46.1s\n",
            "917:\tlearn: 0.5376344\ttotal: 8m 29s\tremaining: 45.5s\n",
            "918:\tlearn: 0.5369681\ttotal: 8m 30s\tremaining: 45s\n",
            "919:\tlearn: 0.5365528\ttotal: 8m 30s\tremaining: 44.4s\n",
            "920:\tlearn: 0.5360316\ttotal: 8m 31s\tremaining: 43.9s\n",
            "921:\tlearn: 0.5354008\ttotal: 8m 31s\tremaining: 43.3s\n",
            "922:\tlearn: 0.5349389\ttotal: 8m 32s\tremaining: 42.7s\n",
            "923:\tlearn: 0.5342607\ttotal: 8m 32s\tremaining: 42.2s\n",
            "924:\tlearn: 0.5337403\ttotal: 8m 33s\tremaining: 41.6s\n",
            "925:\tlearn: 0.5333268\ttotal: 8m 33s\tremaining: 41s\n",
            "926:\tlearn: 0.5326481\ttotal: 8m 34s\tremaining: 40.5s\n",
            "927:\tlearn: 0.5320289\ttotal: 8m 34s\tremaining: 39.9s\n",
            "928:\tlearn: 0.5315928\ttotal: 8m 35s\tremaining: 39.4s\n",
            "929:\tlearn: 0.5311583\ttotal: 8m 35s\tremaining: 38.8s\n",
            "930:\tlearn: 0.5306600\ttotal: 8m 35s\tremaining: 38.2s\n",
            "931:\tlearn: 0.5301452\ttotal: 8m 36s\tremaining: 37.7s\n",
            "932:\tlearn: 0.5295863\ttotal: 8m 36s\tremaining: 37.1s\n",
            "933:\tlearn: 0.5292040\ttotal: 8m 37s\tremaining: 36.6s\n",
            "934:\tlearn: 0.5285247\ttotal: 8m 37s\tremaining: 36s\n",
            "935:\tlearn: 0.5280991\ttotal: 8m 38s\tremaining: 35.4s\n",
            "936:\tlearn: 0.5276846\ttotal: 8m 38s\tremaining: 34.9s\n",
            "937:\tlearn: 0.5267983\ttotal: 8m 39s\tremaining: 34.3s\n",
            "938:\tlearn: 0.5261996\ttotal: 8m 40s\tremaining: 33.8s\n",
            "939:\tlearn: 0.5255448\ttotal: 8m 40s\tremaining: 33.2s\n",
            "940:\tlearn: 0.5248348\ttotal: 8m 41s\tremaining: 32.7s\n",
            "941:\tlearn: 0.5241066\ttotal: 8m 41s\tremaining: 32.1s\n",
            "942:\tlearn: 0.5237713\ttotal: 8m 42s\tremaining: 31.6s\n",
            "943:\tlearn: 0.5233560\ttotal: 8m 42s\tremaining: 31s\n",
            "944:\tlearn: 0.5227488\ttotal: 8m 43s\tremaining: 30.4s\n",
            "945:\tlearn: 0.5219504\ttotal: 8m 43s\tremaining: 29.9s\n",
            "946:\tlearn: 0.5214234\ttotal: 8m 44s\tremaining: 29.3s\n",
            "947:\tlearn: 0.5207711\ttotal: 8m 44s\tremaining: 28.8s\n",
            "948:\tlearn: 0.5203657\ttotal: 8m 45s\tremaining: 28.2s\n",
            "949:\tlearn: 0.5198252\ttotal: 8m 45s\tremaining: 27.7s\n",
            "950:\tlearn: 0.5193551\ttotal: 8m 45s\tremaining: 27.1s\n",
            "951:\tlearn: 0.5191862\ttotal: 8m 46s\tremaining: 26.5s\n",
            "952:\tlearn: 0.5187529\ttotal: 8m 46s\tremaining: 26s\n",
            "953:\tlearn: 0.5182119\ttotal: 8m 47s\tremaining: 25.4s\n",
            "954:\tlearn: 0.5175971\ttotal: 8m 47s\tremaining: 24.9s\n",
            "955:\tlearn: 0.5171045\ttotal: 8m 48s\tremaining: 24.3s\n",
            "956:\tlearn: 0.5166724\ttotal: 8m 48s\tremaining: 23.8s\n",
            "957:\tlearn: 0.5160157\ttotal: 8m 49s\tremaining: 23.2s\n",
            "958:\tlearn: 0.5155055\ttotal: 8m 49s\tremaining: 22.6s\n",
            "959:\tlearn: 0.5151354\ttotal: 8m 50s\tremaining: 22.1s\n",
            "960:\tlearn: 0.5142496\ttotal: 8m 50s\tremaining: 21.5s\n",
            "961:\tlearn: 0.5136369\ttotal: 8m 51s\tremaining: 21s\n",
            "962:\tlearn: 0.5131039\ttotal: 8m 51s\tremaining: 20.4s\n",
            "963:\tlearn: 0.5126775\ttotal: 8m 52s\tremaining: 19.9s\n",
            "964:\tlearn: 0.5120651\ttotal: 8m 53s\tremaining: 19.3s\n",
            "965:\tlearn: 0.5115509\ttotal: 8m 53s\tremaining: 18.8s\n",
            "966:\tlearn: 0.5107212\ttotal: 8m 54s\tremaining: 18.2s\n",
            "967:\tlearn: 0.5102757\ttotal: 8m 54s\tremaining: 17.7s\n",
            "968:\tlearn: 0.5096485\ttotal: 8m 55s\tremaining: 17.1s\n",
            "969:\tlearn: 0.5089347\ttotal: 8m 55s\tremaining: 16.6s\n",
            "970:\tlearn: 0.5084230\ttotal: 8m 56s\tremaining: 16s\n",
            "971:\tlearn: 0.5078636\ttotal: 8m 56s\tremaining: 15.5s\n",
            "972:\tlearn: 0.5074365\ttotal: 8m 57s\tremaining: 14.9s\n",
            "973:\tlearn: 0.5070142\ttotal: 8m 57s\tremaining: 14.3s\n",
            "974:\tlearn: 0.5066911\ttotal: 8m 57s\tremaining: 13.8s\n",
            "975:\tlearn: 0.5061820\ttotal: 8m 58s\tremaining: 13.2s\n",
            "976:\tlearn: 0.5056272\ttotal: 8m 58s\tremaining: 12.7s\n",
            "977:\tlearn: 0.5051178\ttotal: 8m 59s\tremaining: 12.1s\n",
            "978:\tlearn: 0.5044221\ttotal: 8m 59s\tremaining: 11.6s\n",
            "979:\tlearn: 0.5039545\ttotal: 9m\tremaining: 11s\n",
            "980:\tlearn: 0.5035878\ttotal: 9m\tremaining: 10.5s\n",
            "981:\tlearn: 0.5033306\ttotal: 9m 1s\tremaining: 9.92s\n",
            "982:\tlearn: 0.5027931\ttotal: 9m 1s\tremaining: 9.37s\n",
            "983:\tlearn: 0.5021537\ttotal: 9m 2s\tremaining: 8.82s\n",
            "984:\tlearn: 0.5015050\ttotal: 9m 2s\tremaining: 8.27s\n",
            "985:\tlearn: 0.5008110\ttotal: 9m 3s\tremaining: 7.71s\n",
            "986:\tlearn: 0.5003830\ttotal: 9m 3s\tremaining: 7.16s\n",
            "987:\tlearn: 0.4994967\ttotal: 9m 4s\tremaining: 6.61s\n",
            "988:\tlearn: 0.4987100\ttotal: 9m 5s\tremaining: 6.06s\n",
            "989:\tlearn: 0.4983579\ttotal: 9m 5s\tremaining: 5.51s\n",
            "990:\tlearn: 0.4979494\ttotal: 9m 6s\tremaining: 4.96s\n",
            "991:\tlearn: 0.4973515\ttotal: 9m 6s\tremaining: 4.41s\n",
            "992:\tlearn: 0.4967539\ttotal: 9m 7s\tremaining: 3.86s\n",
            "993:\tlearn: 0.4962809\ttotal: 9m 7s\tremaining: 3.31s\n",
            "994:\tlearn: 0.4957564\ttotal: 9m 8s\tremaining: 2.75s\n",
            "995:\tlearn: 0.4952805\ttotal: 9m 8s\tremaining: 2.2s\n",
            "996:\tlearn: 0.4946571\ttotal: 9m 9s\tremaining: 1.65s\n",
            "997:\tlearn: 0.4942177\ttotal: 9m 9s\tremaining: 1.1s\n",
            "998:\tlearn: 0.4937705\ttotal: 9m 9s\tremaining: 550ms\n",
            "999:\tlearn: 0.4934552\ttotal: 9m 10s\tremaining: 0us\n"
          ]
        },
        {
          "output_type": "execute_result",
          "data": {
            "text/plain": [
              "<catboost.core.CatBoostClassifier at 0x7fb49e16ee20>"
            ]
          },
          "metadata": {},
          "execution_count": 25
        }
      ]
    },
    {
      "cell_type": "code",
      "source": [
        "y_pred_test = catboost.predict(X_test)\n",
        "\n",
        "print(accuracy_score(y_test, y_pred_test))"
      ],
      "metadata": {
        "colab": {
          "base_uri": "https://localhost:8080/"
        },
        "id": "pZlVgVA59oY1",
        "outputId": "41cfb61f-71b7-4276-d0fb-d7b8f6838dcb"
      },
      "execution_count": 26,
      "outputs": [
        {
          "output_type": "stream",
          "name": "stdout",
          "text": [
            "0.55\n"
          ]
        }
      ]
    },
    {
      "cell_type": "code",
      "source": [
        "y_pred = catboost.predict(test_n)"
      ],
      "metadata": {
        "execution": {
          "iopub.status.busy": "2021-12-23T09:01:59.82256Z",
          "iopub.execute_input": "2021-12-23T09:01:59.822841Z",
          "iopub.status.idle": "2021-12-23T09:08:22.364794Z",
          "shell.execute_reply.started": "2021-12-23T09:01:59.822803Z",
          "shell.execute_reply": "2021-12-23T09:08:22.363968Z"
        },
        "trusted": true,
        "id": "ZFkdHtLkAjIT"
      },
      "execution_count": 27,
      "outputs": []
    },
    {
      "cell_type": "markdown",
      "source": [
        "### Logistic regression"
      ],
      "metadata": {
        "id": "defuTAXKAjIT"
      }
    },
    {
      "cell_type": "code",
      "source": [
        "from lightgbm import LGBMClassifier\n",
        "\n",
        "logreg = LGBMClassifier(#max_depth=2,\n",
        "                      max_depth=11,#11 \n",
        "                      n_estimators=326,#326\n",
        "                      random_state=53,\n",
        "                      #objective = 'gamma',#gamma\n",
        "                      # min_data_in_leaf = 27)#27)\n",
        ")\n",
        "logreg.fit(X_train, y_train)\n",
        "y_pred_test = logreg.predict(X_test)\n",
        "\n",
        "print(accuracy_score(y_test, y_pred_test))"
      ],
      "metadata": {
        "execution": {
          "iopub.status.busy": "2021-12-23T09:19:12.271921Z",
          "iopub.execute_input": "2021-12-23T09:19:12.272468Z",
          "iopub.status.idle": "2021-12-23T09:27:48.325722Z",
          "shell.execute_reply.started": "2021-12-23T09:19:12.272426Z",
          "shell.execute_reply": "2021-12-23T09:27:48.324894Z"
        },
        "trusted": true,
        "id": "MwcRxONTAjIU"
      },
      "execution_count": null,
      "outputs": []
    },
    {
      "cell_type": "code",
      "source": [
        "logreg_f = LGBMClassifier(#max_depth=2,\n",
        "                      max_depth=11,#11 \n",
        "                      n_estimators=326,#326\n",
        "                      random_state=53,\n",
        "                      #objective = 'gamma',#gamma\n",
        "                      # min_data_in_leaf = 27)#27)\n",
        ")\n",
        "logreg_f.fit(X, y)\n",
        "y_pred = logreg_f.predict(test)"
      ],
      "metadata": {
        "id": "WCiFPBC3AjIU"
      },
      "execution_count": null,
      "outputs": []
    },
    {
      "cell_type": "markdown",
      "source": [
        "### Gradient boosting"
      ],
      "metadata": {
        "id": "zeH2cs9hAjIV"
      }
    },
    {
      "cell_type": "code",
      "source": [
        "from sklearn.ensemble import GradientBoostingClassifier\n",
        "\n",
        "gbc = GradientBoostingClassifier(n_estimators=100, learning_rate=1.0, max_depth=1, random_state=0)\n",
        "gbc.fit(X_train, y_train)\n",
        "y_pred_test = gbc.predict(X_test)\n",
        "\n",
        "print(accuracy_score(y_test, y_pred_test))"
      ],
      "metadata": {
        "id": "6vu876q4AjIV"
      },
      "execution_count": null,
      "outputs": []
    },
    {
      "cell_type": "code",
      "source": [
        "gbc_f = GradientBoostingClassifier(n_estimators=100, learning_rate=1.0, max_depth=1, random_state=0)\n",
        "gbc_f.fit(X, y)\n",
        "y_pred = gbc_f.predict(test)"
      ],
      "metadata": {
        "id": "bblwo5CnAjIV"
      },
      "execution_count": null,
      "outputs": []
    },
    {
      "cell_type": "markdown",
      "source": [
        "### Neural network"
      ],
      "metadata": {
        "id": "QUcZinIIAjIW"
      }
    },
    {
      "cell_type": "code",
      "source": [
        "from keras import models\n",
        "from keras import layers\n",
        "from keras.wrappers.scikit_learn import KerasClassifier"
      ],
      "metadata": {
        "execution": {
          "iopub.status.busy": "2021-12-21T17:13:57.599165Z",
          "iopub.execute_input": "2021-12-21T17:13:57.59945Z",
          "iopub.status.idle": "2021-12-21T17:14:02.727307Z",
          "shell.execute_reply.started": "2021-12-21T17:13:57.599411Z",
          "shell.execute_reply": "2021-12-21T17:14:02.726575Z"
        },
        "trusted": true,
        "id": "FynB7BosAjIW"
      },
      "execution_count": null,
      "outputs": []
    },
    {
      "cell_type": "code",
      "source": [
        "y_train"
      ],
      "metadata": {
        "execution": {
          "iopub.status.busy": "2021-12-21T18:31:34.88582Z",
          "iopub.execute_input": "2021-12-21T18:31:34.886415Z",
          "iopub.status.idle": "2021-12-21T18:31:35.01265Z",
          "shell.execute_reply.started": "2021-12-21T18:31:34.886301Z",
          "shell.execute_reply": "2021-12-21T18:31:35.010591Z"
        },
        "trusted": true,
        "id": "ILr7YRCgAjIX"
      },
      "execution_count": null,
      "outputs": []
    },
    {
      "cell_type": "code",
      "source": [
        "y_train_n = y_train - 1\n",
        "y_test_n = y_test - 1\n",
        "y_train_n"
      ],
      "metadata": {
        "execution": {
          "iopub.status.busy": "2021-12-21T17:22:29.625102Z",
          "iopub.execute_input": "2021-12-21T17:22:29.625351Z",
          "iopub.status.idle": "2021-12-21T17:22:29.634553Z",
          "shell.execute_reply.started": "2021-12-21T17:22:29.625321Z",
          "shell.execute_reply": "2021-12-21T17:22:29.633706Z"
        },
        "trusted": true,
        "id": "xqjU9cdGAjIY"
      },
      "execution_count": null,
      "outputs": []
    },
    {
      "cell_type": "code",
      "source": [
        "y_train_n.unique()"
      ],
      "metadata": {
        "execution": {
          "iopub.status.busy": "2021-12-21T17:22:33.11601Z",
          "iopub.execute_input": "2021-12-21T17:22:33.116253Z",
          "iopub.status.idle": "2021-12-21T17:22:33.139968Z",
          "shell.execute_reply.started": "2021-12-21T17:22:33.116225Z",
          "shell.execute_reply": "2021-12-21T17:22:33.139335Z"
        },
        "trusted": true,
        "id": "PzbfE20ZAjIY"
      },
      "execution_count": null,
      "outputs": []
    },
    {
      "cell_type": "code",
      "source": [
        "from sklearn.preprocessing import OneHotEncoder"
      ],
      "metadata": {
        "execution": {
          "iopub.status.busy": "2021-12-21T17:20:46.19724Z",
          "iopub.execute_input": "2021-12-21T17:20:46.197516Z",
          "iopub.status.idle": "2021-12-21T17:20:46.201113Z",
          "shell.execute_reply.started": "2021-12-21T17:20:46.197464Z",
          "shell.execute_reply": "2021-12-21T17:20:46.200417Z"
        },
        "trusted": true,
        "id": "0ABK7cBwAjIa"
      },
      "execution_count": null,
      "outputs": []
    },
    {
      "cell_type": "code",
      "source": [
        "y_train_n = np.array(y_train_n).reshape((-1, 1))\n",
        "\n",
        "encoder = OneHotEncoder(categories='auto')\n",
        "y_train_n = encoder.fit_transform(y_train_n).toarray()\n",
        "\n",
        "y_train_n"
      ],
      "metadata": {
        "execution": {
          "iopub.status.busy": "2021-12-21T17:22:35.129677Z",
          "iopub.execute_input": "2021-12-21T17:22:35.129922Z",
          "iopub.status.idle": "2021-12-21T17:22:35.489898Z",
          "shell.execute_reply.started": "2021-12-21T17:22:35.129896Z",
          "shell.execute_reply": "2021-12-21T17:22:35.489055Z"
        },
        "trusted": true,
        "id": "Wukthax1AjIb"
      },
      "execution_count": null,
      "outputs": []
    },
    {
      "cell_type": "code",
      "source": [
        "y_test_n = np.array(y_test_n).reshape((-1, 1))\n",
        "\n",
        "encoder = OneHotEncoder(categories='auto')\n",
        "y_test_n = encoder.fit_transform(y_test_n).toarray()\n",
        "\n",
        "y_test_n"
      ],
      "metadata": {
        "execution": {
          "iopub.status.busy": "2021-12-21T17:22:37.35401Z",
          "iopub.execute_input": "2021-12-21T17:22:37.354254Z",
          "iopub.status.idle": "2021-12-21T17:22:37.504441Z",
          "shell.execute_reply.started": "2021-12-21T17:22:37.354227Z",
          "shell.execute_reply": "2021-12-21T17:22:37.50362Z"
        },
        "trusted": true,
        "id": "S_US-cp3AjIc"
      },
      "execution_count": null,
      "outputs": []
    },
    {
      "cell_type": "code",
      "source": [
        "network = models.Sequential()\n",
        "network.add(layers.Dense(units=20, activation=\"relu\", input_shape=(55,)))\n",
        "network.add(layers.Dense(units=256, activation=\"relu\"))\n",
        "#network.add(layers.Dense(units=10, activation=\"relu\"))\n",
        "network.add(layers.Dense(units=1024, activation=\"relu\"))\n",
        "#network.add(layers.Dense(units=1, activation=\"tanh\"))\n",
        "network.add(layers.Dense(units=128, activation=\"relu\"))\n",
        "network.add(layers.Dense(units=6, activation=\"relu\"))"
      ],
      "metadata": {
        "execution": {
          "iopub.status.busy": "2021-12-21T17:29:15.154186Z",
          "iopub.execute_input": "2021-12-21T17:29:15.154463Z",
          "iopub.status.idle": "2021-12-21T17:29:39.356627Z",
          "shell.execute_reply.started": "2021-12-21T17:29:15.154433Z",
          "shell.execute_reply": "2021-12-21T17:29:39.355883Z"
        },
        "trusted": true,
        "id": "Jx-Nh3uGAjIc"
      },
      "execution_count": null,
      "outputs": []
    },
    {
      "cell_type": "code",
      "source": [
        "from tensorflow.keras.callbacks import EarlyStopping, ReduceLROnPlateau\n",
        "early_stopping = EarlyStopping(\n",
        "    monitor='accuracy', \n",
        "    min_delta=0, \n",
        "    patience=100, \n",
        "    verbose=0,\n",
        "    mode='min', \n",
        "    baseline=None, \n",
        "    restore_best_weights=True\n",
        ")\n",
        "\n",
        "reduce_lr = ReduceLROnPlateau(\n",
        "    monitor='accuracy', \n",
        "    factor=0.2,\n",
        "    patience=200,\n",
        "    mode='min'\n",
        ")"
      ],
      "metadata": {
        "execution": {
          "iopub.status.busy": "2021-12-21T17:29:46.712225Z",
          "iopub.execute_input": "2021-12-21T17:29:46.71311Z",
          "iopub.status.idle": "2021-12-21T17:29:46.718952Z",
          "shell.execute_reply.started": "2021-12-21T17:29:46.713065Z",
          "shell.execute_reply": "2021-12-21T17:29:46.718134Z"
        },
        "trusted": true,
        "id": "J2u0ewn0AjIc"
      },
      "execution_count": null,
      "outputs": []
    },
    {
      "cell_type": "code",
      "source": [
        "network.compile(\n",
        "    loss=\"categorical_crossentropy\",\n",
        "    optimizer=\"adam\",\n",
        "    metrics=[\"accuracy\"]\n",
        ")"
      ],
      "metadata": {
        "execution": {
          "iopub.status.busy": "2021-12-21T17:29:50.770054Z",
          "iopub.execute_input": "2021-12-21T17:29:50.770317Z",
          "iopub.status.idle": "2021-12-21T17:29:50.780962Z",
          "shell.execute_reply.started": "2021-12-21T17:29:50.770285Z",
          "shell.execute_reply": "2021-12-21T17:29:50.780049Z"
        },
        "trusted": true,
        "id": "leeEBKJfAjId"
      },
      "execution_count": null,
      "outputs": []
    },
    {
      "cell_type": "code",
      "source": [
        "history = network.fit(\n",
        "    X_train,\n",
        "    y_train_n,\n",
        "    epochs=30,\n",
        "    verbose=1,\n",
        "    batch_size=100,\n",
        "    validation_data=(X_test, y_test_n),\n",
        "        callbacks=[\n",
        "            early_stopping,\n",
        "            reduce_lr,\n",
        "        ])"
      ],
      "metadata": {
        "execution": {
          "iopub.status.busy": "2021-12-21T17:29:54.794515Z",
          "iopub.execute_input": "2021-12-21T17:29:54.795078Z",
          "iopub.status.idle": "2021-12-21T17:32:11.069615Z",
          "shell.execute_reply.started": "2021-12-21T17:29:54.79504Z",
          "shell.execute_reply": "2021-12-21T17:32:11.067207Z"
        },
        "trusted": true,
        "id": "Gjt9ShFvAjIe"
      },
      "execution_count": null,
      "outputs": []
    },
    {
      "cell_type": "code",
      "source": [
        "history = network.fit(\n",
        "    X,\n",
        "    y,\n",
        "    epochs=18,\n",
        "    verbose=1,\n",
        "    batch_size=100,\n",
        "        callbacks=[\n",
        "            early_stopping,\n",
        "            reduce_lr,\n",
        "        ])"
      ],
      "metadata": {
        "id": "rC0ri9uIAjIf"
      },
      "execution_count": null,
      "outputs": []
    },
    {
      "cell_type": "code",
      "source": [
        "y_pred = network.predict(test)\n",
        "y_pred"
      ],
      "metadata": {
        "execution": {
          "iopub.status.busy": "2021-12-21T17:32:42.052605Z",
          "iopub.execute_input": "2021-12-21T17:32:42.053129Z",
          "iopub.status.idle": "2021-12-21T17:33:09.525227Z",
          "shell.execute_reply.started": "2021-12-21T17:32:42.053091Z",
          "shell.execute_reply": "2021-12-21T17:33:09.524382Z"
        },
        "trusted": true,
        "id": "h6tGOu46AjIf"
      },
      "execution_count": null,
      "outputs": []
    },
    {
      "cell_type": "markdown",
      "source": [
        "# One more neural network"
      ],
      "metadata": {
        "id": "ejVKv33EAjIg"
      }
    },
    {
      "cell_type": "code",
      "source": [
        "import torch\n",
        "import random\n",
        "import numpy as np\n",
        "\n",
        "random.seed(0)\n",
        "np.random.seed(0)\n",
        "torch.manual_seed(0)\n",
        "torch.cuda.manual_seed(0)\n",
        "torch.backends.cudnn.deterministic = True"
      ],
      "metadata": {
        "id": "mv__g92hAjIh"
      },
      "execution_count": null,
      "outputs": []
    },
    {
      "cell_type": "code",
      "source": [
        "X_norm = X_train_full\n",
        "y = y_train_full"
      ],
      "metadata": {
        "id": "Z54V2MKij6xy"
      },
      "execution_count": null,
      "outputs": []
    },
    {
      "cell_type": "code",
      "source": [
        "X_train = X_norm.to_numpy()\n",
        "X_train = torch.from_numpy(X_train).float()"
      ],
      "metadata": {
        "id": "dJ__RBUMAjIh"
      },
      "execution_count": null,
      "outputs": []
    },
    {
      "cell_type": "code",
      "source": [
        "train['topic_id'].unique()"
      ],
      "metadata": {
        "colab": {
          "base_uri": "https://localhost:8080/"
        },
        "id": "dTtGKRJZfvHK",
        "outputId": "089accb0-f02e-42c0-a512-bc8030cc4fa1"
      },
      "execution_count": null,
      "outputs": [
        {
          "output_type": "execute_result",
          "data": {
            "text/plain": [
              "array([26,  6, 28, 48, 12, 19, 29, 10, 43, 32,  1, 30, 27, 31, 15, 46, 20,\n",
              "        3,  0, 21, 13, 23, 18, 39, 49,  5, 45, 16, 33,  4, 25, 17, 11, 35,\n",
              "       14, 34, 37, 38, 24, 44,  9, 36,  7, 41,  8, 22,  2, 47, 40, 42])"
            ]
          },
          "metadata": {},
          "execution_count": 18
        }
      ]
    },
    {
      "cell_type": "code",
      "source": [
        "y_train = y.to_numpy()\n",
        "y_train = torch.from_numpy(y_train)"
      ],
      "metadata": {
        "id": "xbCG8nsBAjIi"
      },
      "execution_count": null,
      "outputs": []
    },
    {
      "cell_type": "code",
      "source": [
        "class ClassifierNet(torch.nn.Module):\n",
        "\n",
        "    def __init__(self, n_hidden_neurons, p):\n",
        "        super(ClassifierNet, self).__init__()\n",
        "\n",
        "        self.fc1 = torch.nn.Linear(1324, n_hidden_neurons)\n",
        "        self.ac1 = torch.nn.ReLU()\n",
        "        self.dr1 = torch.nn.Dropout(p)\n",
        "        self.batch_norm1 = torch.nn.BatchNorm1d(n_hidden_neurons)\n",
        "\n",
        "\n",
        "        self.fc2 = torch.nn.Linear(n_hidden_neurons, n_hidden_neurons)\n",
        "        self.ac2 = torch.nn.ReLU()\n",
        "        self.dr2 = torch.nn.Dropout(p)\n",
        "        self.batch_norm2 = torch.nn.BatchNorm1d(n_hidden_neurons)\n",
        "\n",
        "        self.fc3 = torch.nn.Linear(n_hidden_neurons, n_hidden_neurons)\n",
        "        self.ac3 = torch.nn.ReLU()\n",
        "        self.dr3 = torch.nn.Dropout(p)\n",
        "        self.batch_norm3 = torch.nn.BatchNorm1d(n_hidden_neurons)\n",
        "        \n",
        "\n",
        "        self.fc4 = torch.nn.Linear(n_hidden_neurons, n_hidden_neurons // 2)\n",
        "        self.ac4 = torch.nn.ReLU()\n",
        "        self.dr4 = torch.nn.Dropout(p)\n",
        "        self.batch_norm4 = torch.nn.BatchNorm1d(n_hidden_neurons // 2)\n",
        "        \n",
        "\n",
        "        self.fc5 = torch.nn.Linear(n_hidden_neurons // 2, n_hidden_neurons // 4)\n",
        "        \n",
        "        self.ac5 = torch.nn.ReLU()\n",
        "        self.dr5 = torch.nn.Dropout(p)\n",
        "        self.batch_norm5 = torch.nn.BatchNorm1d(n_hidden_neurons // 4)\n",
        "\n",
        "        self.fc6 = torch.nn.Linear(n_hidden_neurons // 4, 50)\n",
        "    \n",
        "\n",
        "    def forward(self, x):\n",
        "        x = self.fc1(x)\n",
        "        x = self.ac1(x)\n",
        "        x = self.dr1(x) \n",
        "        x = self.batch_norm1(x)\n",
        "        x = self.fc2(x)\n",
        "        x = self.ac2(x)\n",
        "        x = self.dr2(x) \n",
        "        x = self.batch_norm2(x)\n",
        "        x = self.fc3(x)\n",
        "        x = self.ac3(x)\n",
        "        x = self.dr3(x) \n",
        "        x = self.batch_norm3(x)\n",
        "        x = self.fc4(x)\n",
        "        x = self.ac4(x)\n",
        "        x = self.dr4(x) \n",
        "        x = self.batch_norm4(x)\n",
        "        x = self.fc5(x)\n",
        "        x = self.ac5(x)\n",
        "        x = self.dr5(x)\n",
        "        x = self.batch_norm5(x)\n",
        "        x = self.fc6(x)\n",
        "        \n",
        "        return x\n",
        "\n",
        "net = ClassifierNet(1024, 0.4)"
      ],
      "metadata": {
        "id": "agNHlFz-AjIj"
      },
      "execution_count": null,
      "outputs": []
    },
    {
      "cell_type": "code",
      "source": [
        "torch.cuda.is_available()"
      ],
      "metadata": {
        "colab": {
          "base_uri": "https://localhost:8080/"
        },
        "id": "jcd_dCK_AjIj",
        "outputId": "c25855b7-1668-4757-b4e2-8acd140fb419"
      },
      "execution_count": null,
      "outputs": [
        {
          "output_type": "execute_result",
          "data": {
            "text/plain": [
              "True"
            ]
          },
          "metadata": {},
          "execution_count": 21
        }
      ]
    },
    {
      "cell_type": "code",
      "source": [
        "device = torch.device('cuda:0' if torch.cuda.is_available() else 'cpu')\n",
        "net = net.to(device) "
      ],
      "metadata": {
        "id": "q08wFcdrAjIj"
      },
      "execution_count": null,
      "outputs": []
    },
    {
      "cell_type": "code",
      "source": [
        "loss = torch.nn.CrossEntropyLoss()\n",
        "optimizer = torch.optim.Adam(net.parameters(), lr=1.0e-3)"
      ],
      "metadata": {
        "id": "Xin60QmIAjIk"
      },
      "execution_count": null,
      "outputs": []
    },
    {
      "cell_type": "code",
      "source": [
        "batch_size = 250\n",
        "\n",
        "for epoch in range(100):\n",
        "    order = np.random.permutation(len(X_train))\n",
        "    for start_index in range(0, len(X_train), batch_size):\n",
        "        optimizer.zero_grad()\n",
        "        \n",
        "        batch_indexes = order[start_index:start_index+batch_size]\n",
        "        \n",
        "        X_batch = X_train[batch_indexes].to(device)\n",
        "        y_batch = y_train[batch_indexes].to(device)\n",
        "        \n",
        "        preds = net.forward(X_batch)\n",
        "        \n",
        "        loss_value = loss(preds, y_batch)\n",
        "        loss_value.backward()\n",
        "        \n",
        "        optimizer.step()\n",
        "    if epoch % 5 == 0:\n",
        "        print(epoch, loss_value, (preds.argmax(dim=1) == y_batch).float().mean())"
      ],
      "metadata": {
        "colab": {
          "base_uri": "https://localhost:8080/"
        },
        "id": "dUirOyJQAjIk",
        "outputId": "d60df47f-750b-4eca-bfb0-73175f93bf83"
      },
      "execution_count": null,
      "outputs": [
        {
          "output_type": "stream",
          "name": "stdout",
          "text": [
            "0 tensor(2.7918, device='cuda:0', grad_fn=<NllLossBackward0>) tensor(0.2760, device='cuda:0')\n",
            "5 tensor(2.0090, device='cuda:0', grad_fn=<NllLossBackward0>) tensor(0.4320, device='cuda:0')\n",
            "10 tensor(1.9914, device='cuda:0', grad_fn=<NllLossBackward0>) tensor(0.4800, device='cuda:0')\n",
            "15 tensor(1.6348, device='cuda:0', grad_fn=<NllLossBackward0>) tensor(0.5480, device='cuda:0')\n",
            "20 tensor(1.5505, device='cuda:0', grad_fn=<NllLossBackward0>) tensor(0.5920, device='cuda:0')\n",
            "25 tensor(1.4542, device='cuda:0', grad_fn=<NllLossBackward0>) tensor(0.5680, device='cuda:0')\n",
            "30 tensor(1.3985, device='cuda:0', grad_fn=<NllLossBackward0>) tensor(0.6120, device='cuda:0')\n",
            "35 tensor(1.2346, device='cuda:0', grad_fn=<NllLossBackward0>) tensor(0.6400, device='cuda:0')\n",
            "40 tensor(1.1280, device='cuda:0', grad_fn=<NllLossBackward0>) tensor(0.6440, device='cuda:0')\n",
            "45 tensor(1.3020, device='cuda:0', grad_fn=<NllLossBackward0>) tensor(0.6400, device='cuda:0')\n",
            "50 tensor(1.3298, device='cuda:0', grad_fn=<NllLossBackward0>) tensor(0.6640, device='cuda:0')\n",
            "55 tensor(1.4112, device='cuda:0', grad_fn=<NllLossBackward0>) tensor(0.6320, device='cuda:0')\n",
            "60 tensor(1.2926, device='cuda:0', grad_fn=<NllLossBackward0>) tensor(0.6320, device='cuda:0')\n",
            "65 tensor(1.0809, device='cuda:0', grad_fn=<NllLossBackward0>) tensor(0.7080, device='cuda:0')\n",
            "70 tensor(1.0690, device='cuda:0', grad_fn=<NllLossBackward0>) tensor(0.6840, device='cuda:0')\n",
            "75 tensor(1.1329, device='cuda:0', grad_fn=<NllLossBackward0>) tensor(0.6840, device='cuda:0')\n",
            "80 tensor(0.9357, device='cuda:0', grad_fn=<NllLossBackward0>) tensor(0.7120, device='cuda:0')\n",
            "85 tensor(1.0109, device='cuda:0', grad_fn=<NllLossBackward0>) tensor(0.7120, device='cuda:0')\n",
            "90 tensor(0.8823, device='cuda:0', grad_fn=<NllLossBackward0>) tensor(0.7440, device='cuda:0')\n",
            "95 tensor(0.8807, device='cuda:0', grad_fn=<NllLossBackward0>) tensor(0.7480, device='cuda:0')\n"
          ]
        }
      ]
    },
    {
      "cell_type": "code",
      "source": [
        "y_pred = net.forward(test_n)"
      ],
      "metadata": {
        "id": "etXo5fZJAjIm"
      },
      "execution_count": null,
      "outputs": []
    },
    {
      "cell_type": "code",
      "source": [
        "y_pred = y_pred.argmax(dim=1)"
      ],
      "metadata": {
        "id": "txJIqbsfAjIn"
      },
      "execution_count": null,
      "outputs": []
    },
    {
      "cell_type": "code",
      "source": [
        "y_pred = y_pred.cpu()"
      ],
      "metadata": {
        "id": "a-zBHiFdAjIo"
      },
      "execution_count": null,
      "outputs": []
    },
    {
      "cell_type": "code",
      "source": [
        "y_pred += 1\n",
        "y_test[y_test > 4] += 1"
      ],
      "metadata": {
        "id": "PdQbJgcwAjIo"
      },
      "execution_count": null,
      "outputs": []
    },
    {
      "cell_type": "markdown",
      "source": [
        "### Forming an answer"
      ],
      "metadata": {
        "id": "Kw-YAi01AjIo"
      }
    },
    {
      "cell_type": "code",
      "source": [
        "indexs = [i for i in range(16000, 20000)]"
      ],
      "metadata": {
        "execution": {
          "iopub.status.busy": "2021-12-23T09:13:21.833369Z",
          "iopub.execute_input": "2021-12-23T09:13:21.834268Z",
          "iopub.status.idle": "2021-12-23T09:13:21.893937Z",
          "shell.execute_reply.started": "2021-12-23T09:13:21.834219Z",
          "shell.execute_reply": "2021-12-23T09:13:21.893153Z"
        },
        "trusted": true,
        "id": "4fWENuLBAjIp"
      },
      "execution_count": 28,
      "outputs": []
    },
    {
      "cell_type": "code",
      "source": [
        "y_pred = y_pred.tolist()"
      ],
      "metadata": {
        "execution": {
          "iopub.status.busy": "2021-12-23T09:13:24.913783Z",
          "iopub.execute_input": "2021-12-23T09:13:24.914506Z",
          "iopub.status.idle": "2021-12-23T09:13:26.326896Z",
          "shell.execute_reply.started": "2021-12-23T09:13:24.914469Z",
          "shell.execute_reply": "2021-12-23T09:13:26.326129Z"
        },
        "trusted": true,
        "id": "2Or85d_DAjIp"
      },
      "execution_count": 29,
      "outputs": []
    },
    {
      "cell_type": "code",
      "source": [
        "for i in range(len(y_pred)):\n",
        "    y_pred[i] = y_pred[i][0]  "
      ],
      "metadata": {
        "execution": {
          "iopub.status.busy": "2021-12-23T09:13:35.230777Z",
          "iopub.execute_input": "2021-12-23T09:13:35.23104Z",
          "iopub.status.idle": "2021-12-23T09:13:35.425832Z",
          "shell.execute_reply.started": "2021-12-23T09:13:35.231009Z",
          "shell.execute_reply": "2021-12-23T09:13:35.424982Z"
        },
        "trusted": true,
        "id": "lQW00r2nAjIt"
      },
      "execution_count": 30,
      "outputs": []
    },
    {
      "cell_type": "code",
      "source": [
        "d = {'id': indexs, 'topic_id': y_pred}\n",
        "test_pred = pd.DataFrame(data=d)\n",
        "test_pred"
      ],
      "metadata": {
        "execution": {
          "iopub.status.busy": "2021-12-23T09:13:37.896323Z",
          "iopub.execute_input": "2021-12-23T09:13:37.897192Z",
          "iopub.status.idle": "2021-12-23T09:13:38.660755Z",
          "shell.execute_reply.started": "2021-12-23T09:13:37.897142Z",
          "shell.execute_reply": "2021-12-23T09:13:38.660069Z"
        },
        "trusted": true,
        "colab": {
          "base_uri": "https://localhost:8080/",
          "height": 424
        },
        "id": "0_G2sylcAjIu",
        "outputId": "b035c73b-5299-4f84-abab-4eb3b699308e"
      },
      "execution_count": 31,
      "outputs": [
        {
          "output_type": "execute_result",
          "data": {
            "text/plain": [
              "         id  topic_id\n",
              "0     16000        21\n",
              "1     16001        26\n",
              "2     16002        16\n",
              "3     16003        45\n",
              "4     16004        32\n",
              "...     ...       ...\n",
              "3995  19995        34\n",
              "3996  19996        10\n",
              "3997  19997        26\n",
              "3998  19998        16\n",
              "3999  19999        32\n",
              "\n",
              "[4000 rows x 2 columns]"
            ],
            "text/html": [
              "\n",
              "  <div id=\"df-8dd79f42-58e0-4691-83bd-c37a2ab1019c\">\n",
              "    <div class=\"colab-df-container\">\n",
              "      <div>\n",
              "<style scoped>\n",
              "    .dataframe tbody tr th:only-of-type {\n",
              "        vertical-align: middle;\n",
              "    }\n",
              "\n",
              "    .dataframe tbody tr th {\n",
              "        vertical-align: top;\n",
              "    }\n",
              "\n",
              "    .dataframe thead th {\n",
              "        text-align: right;\n",
              "    }\n",
              "</style>\n",
              "<table border=\"1\" class=\"dataframe\">\n",
              "  <thead>\n",
              "    <tr style=\"text-align: right;\">\n",
              "      <th></th>\n",
              "      <th>id</th>\n",
              "      <th>topic_id</th>\n",
              "    </tr>\n",
              "  </thead>\n",
              "  <tbody>\n",
              "    <tr>\n",
              "      <th>0</th>\n",
              "      <td>16000</td>\n",
              "      <td>21</td>\n",
              "    </tr>\n",
              "    <tr>\n",
              "      <th>1</th>\n",
              "      <td>16001</td>\n",
              "      <td>26</td>\n",
              "    </tr>\n",
              "    <tr>\n",
              "      <th>2</th>\n",
              "      <td>16002</td>\n",
              "      <td>16</td>\n",
              "    </tr>\n",
              "    <tr>\n",
              "      <th>3</th>\n",
              "      <td>16003</td>\n",
              "      <td>45</td>\n",
              "    </tr>\n",
              "    <tr>\n",
              "      <th>4</th>\n",
              "      <td>16004</td>\n",
              "      <td>32</td>\n",
              "    </tr>\n",
              "    <tr>\n",
              "      <th>...</th>\n",
              "      <td>...</td>\n",
              "      <td>...</td>\n",
              "    </tr>\n",
              "    <tr>\n",
              "      <th>3995</th>\n",
              "      <td>19995</td>\n",
              "      <td>34</td>\n",
              "    </tr>\n",
              "    <tr>\n",
              "      <th>3996</th>\n",
              "      <td>19996</td>\n",
              "      <td>10</td>\n",
              "    </tr>\n",
              "    <tr>\n",
              "      <th>3997</th>\n",
              "      <td>19997</td>\n",
              "      <td>26</td>\n",
              "    </tr>\n",
              "    <tr>\n",
              "      <th>3998</th>\n",
              "      <td>19998</td>\n",
              "      <td>16</td>\n",
              "    </tr>\n",
              "    <tr>\n",
              "      <th>3999</th>\n",
              "      <td>19999</td>\n",
              "      <td>32</td>\n",
              "    </tr>\n",
              "  </tbody>\n",
              "</table>\n",
              "<p>4000 rows × 2 columns</p>\n",
              "</div>\n",
              "      <button class=\"colab-df-convert\" onclick=\"convertToInteractive('df-8dd79f42-58e0-4691-83bd-c37a2ab1019c')\"\n",
              "              title=\"Convert this dataframe to an interactive table.\"\n",
              "              style=\"display:none;\">\n",
              "        \n",
              "  <svg xmlns=\"http://www.w3.org/2000/svg\" height=\"24px\"viewBox=\"0 0 24 24\"\n",
              "       width=\"24px\">\n",
              "    <path d=\"M0 0h24v24H0V0z\" fill=\"none\"/>\n",
              "    <path d=\"M18.56 5.44l.94 2.06.94-2.06 2.06-.94-2.06-.94-.94-2.06-.94 2.06-2.06.94zm-11 1L8.5 8.5l.94-2.06 2.06-.94-2.06-.94L8.5 2.5l-.94 2.06-2.06.94zm10 10l.94 2.06.94-2.06 2.06-.94-2.06-.94-.94-2.06-.94 2.06-2.06.94z\"/><path d=\"M17.41 7.96l-1.37-1.37c-.4-.4-.92-.59-1.43-.59-.52 0-1.04.2-1.43.59L10.3 9.45l-7.72 7.72c-.78.78-.78 2.05 0 2.83L4 21.41c.39.39.9.59 1.41.59.51 0 1.02-.2 1.41-.59l7.78-7.78 2.81-2.81c.8-.78.8-2.07 0-2.86zM5.41 20L4 18.59l7.72-7.72 1.47 1.35L5.41 20z\"/>\n",
              "  </svg>\n",
              "      </button>\n",
              "      \n",
              "  <style>\n",
              "    .colab-df-container {\n",
              "      display:flex;\n",
              "      flex-wrap:wrap;\n",
              "      gap: 12px;\n",
              "    }\n",
              "\n",
              "    .colab-df-convert {\n",
              "      background-color: #E8F0FE;\n",
              "      border: none;\n",
              "      border-radius: 50%;\n",
              "      cursor: pointer;\n",
              "      display: none;\n",
              "      fill: #1967D2;\n",
              "      height: 32px;\n",
              "      padding: 0 0 0 0;\n",
              "      width: 32px;\n",
              "    }\n",
              "\n",
              "    .colab-df-convert:hover {\n",
              "      background-color: #E2EBFA;\n",
              "      box-shadow: 0px 1px 2px rgba(60, 64, 67, 0.3), 0px 1px 3px 1px rgba(60, 64, 67, 0.15);\n",
              "      fill: #174EA6;\n",
              "    }\n",
              "\n",
              "    [theme=dark] .colab-df-convert {\n",
              "      background-color: #3B4455;\n",
              "      fill: #D2E3FC;\n",
              "    }\n",
              "\n",
              "    [theme=dark] .colab-df-convert:hover {\n",
              "      background-color: #434B5C;\n",
              "      box-shadow: 0px 1px 3px 1px rgba(0, 0, 0, 0.15);\n",
              "      filter: drop-shadow(0px 1px 2px rgba(0, 0, 0, 0.3));\n",
              "      fill: #FFFFFF;\n",
              "    }\n",
              "  </style>\n",
              "\n",
              "      <script>\n",
              "        const buttonEl =\n",
              "          document.querySelector('#df-8dd79f42-58e0-4691-83bd-c37a2ab1019c button.colab-df-convert');\n",
              "        buttonEl.style.display =\n",
              "          google.colab.kernel.accessAllowed ? 'block' : 'none';\n",
              "\n",
              "        async function convertToInteractive(key) {\n",
              "          const element = document.querySelector('#df-8dd79f42-58e0-4691-83bd-c37a2ab1019c');\n",
              "          const dataTable =\n",
              "            await google.colab.kernel.invokeFunction('convertToInteractive',\n",
              "                                                     [key], {});\n",
              "          if (!dataTable) return;\n",
              "\n",
              "          const docLinkHtml = 'Like what you see? Visit the ' +\n",
              "            '<a target=\"_blank\" href=https://colab.research.google.com/notebooks/data_table.ipynb>data table notebook</a>'\n",
              "            + ' to learn more about interactive tables.';\n",
              "          element.innerHTML = '';\n",
              "          dataTable['output_type'] = 'display_data';\n",
              "          await google.colab.output.renderOutput(dataTable, element);\n",
              "          const docLink = document.createElement('div');\n",
              "          docLink.innerHTML = docLinkHtml;\n",
              "          element.appendChild(docLink);\n",
              "        }\n",
              "      </script>\n",
              "    </div>\n",
              "  </div>\n",
              "  "
            ]
          },
          "metadata": {},
          "execution_count": 31
        }
      ]
    },
    {
      "cell_type": "code",
      "source": [
        "test_pred.to_csv(r'submission.csv', index=None)"
      ],
      "metadata": {
        "execution": {
          "iopub.status.busy": "2021-12-23T09:13:42.940264Z",
          "iopub.execute_input": "2021-12-23T09:13:42.941026Z",
          "iopub.status.idle": "2021-12-23T09:13:44.514699Z",
          "shell.execute_reply.started": "2021-12-23T09:13:42.940989Z",
          "shell.execute_reply": "2021-12-23T09:13:44.513968Z"
        },
        "trusted": true,
        "id": "op0ZH8VnAjIu"
      },
      "execution_count": 32,
      "outputs": []
    },
    {
      "cell_type": "code",
      "source": [],
      "metadata": {
        "id": "HXHWuPF0PB5K"
      },
      "execution_count": null,
      "outputs": []
    }
  ]
}